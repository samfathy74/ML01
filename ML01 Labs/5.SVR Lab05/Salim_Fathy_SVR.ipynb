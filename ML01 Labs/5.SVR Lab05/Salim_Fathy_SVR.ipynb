{
 "cells": [
  {
   "cell_type": "markdown",
   "metadata": {},
   "source": [
    "### Importing the libraries"
   ]
  },
  {
   "cell_type": "code",
   "execution_count": 344,
   "metadata": {},
   "outputs": [],
   "source": [
    "import numpy as np\n",
    "import pandas as pd\n",
    "import matplotlib.pyplot as plt\n",
    "from sklearn.model_selection import train_test_split\n",
    "from sklearn.svm import SVR\n",
    "from sklearn.linear_model import LinearRegression\n",
    "from sklearn.preprocessing import PolynomialFeatures\n",
    "# from sklearn.model_selection import GridSearchCV\n",
    "from sklearn.metrics import r2_score, mean_squared_error\n",
    "from PreprocessingClass import Preprocessing_Data as pp\n",
    "from statsmodels.api import OLS"
   ]
  },
  {
   "cell_type": "code",
   "execution_count": 345,
   "metadata": {},
   "outputs": [],
   "source": [
    "# fill missing values having missing values\n",
    "def fillnull(df, cols=None):\n",
    "    \n",
    "    if cols == None:\n",
    "        df_num = df.select_dtypes(include=np.number)\n",
    "        # df_cat = df.select_dtypes(exclude=np.number)\n",
    "\n",
    "        df_num = df_num.fillna(df_num.mean())\n",
    "        # df_cat = df_cat.fillna(df_cat.mode().iloc[0,0])\n",
    "        return df_num#.join(df_cat)\n",
    "    else:\n",
    "        df_num = df[cols].select_dtypes(include=np.number)\n",
    "        # df_cat = df[cols].select_dtypes(exclude=np.number)\n",
    "\n",
    "        df_num = df_num.fillna(df_num.mean())\n",
    "        # df_cat = df_cat.fillna(df_cat.mode().iloc[0,0])\n",
    "        return df_num#.join(df_cat)[cols]\n",
    "\n",
    "# compare between values_count for train df and  values_count for validation df\n",
    "def value_counts(train_df, vld_df, cols=None):\n",
    "    if cols == None:\n",
    "        cols = train_df.select_dtypes(exclude=np.number).columns\n",
    "\n",
    "    for col in cols:\n",
    "        print(train_df[col].value_counts(), len(train_df[col].value_counts()), '\\nT','~'*30,'\\n')\n",
    "        print(vld_df[col].value_counts(),len(vld_df[col].value_counts()), '\\nV','~'*30,'\\n')"
   ]
  },
  {
   "cell_type": "markdown",
   "metadata": {},
   "source": [
    "### Loading the dataset 🟩"
   ]
  },
  {
   "cell_type": "code",
   "execution_count": 346,
   "metadata": {},
   "outputs": [],
   "source": [
    "df = pd.read_csv('data/house_train.csv').drop(columns=['Id'])"
   ]
  },
  {
   "cell_type": "code",
   "execution_count": 347,
   "metadata": {},
   "outputs": [
    {
     "data": {
      "text/html": [
       "<div>\n",
       "<style scoped>\n",
       "    .dataframe tbody tr th:only-of-type {\n",
       "        vertical-align: middle;\n",
       "    }\n",
       "\n",
       "    .dataframe tbody tr th {\n",
       "        vertical-align: top;\n",
       "    }\n",
       "\n",
       "    .dataframe thead th {\n",
       "        text-align: right;\n",
       "    }\n",
       "</style>\n",
       "<table border=\"1\" class=\"dataframe\">\n",
       "  <thead>\n",
       "    <tr style=\"text-align: right;\">\n",
       "      <th></th>\n",
       "      <th>MSSubClass</th>\n",
       "      <th>MSZoning</th>\n",
       "      <th>LotFrontage</th>\n",
       "      <th>LotArea</th>\n",
       "      <th>Street</th>\n",
       "      <th>Alley</th>\n",
       "      <th>LotShape</th>\n",
       "      <th>LandContour</th>\n",
       "      <th>Utilities</th>\n",
       "      <th>LotConfig</th>\n",
       "      <th>...</th>\n",
       "      <th>PoolArea</th>\n",
       "      <th>PoolQC</th>\n",
       "      <th>Fence</th>\n",
       "      <th>MiscFeature</th>\n",
       "      <th>MiscVal</th>\n",
       "      <th>MoSold</th>\n",
       "      <th>YrSold</th>\n",
       "      <th>SaleType</th>\n",
       "      <th>SaleCondition</th>\n",
       "      <th>SalePrice</th>\n",
       "    </tr>\n",
       "  </thead>\n",
       "  <tbody>\n",
       "    <tr>\n",
       "      <th>0</th>\n",
       "      <td>60</td>\n",
       "      <td>RL</td>\n",
       "      <td>65.0</td>\n",
       "      <td>8450</td>\n",
       "      <td>Pave</td>\n",
       "      <td>NaN</td>\n",
       "      <td>Reg</td>\n",
       "      <td>Lvl</td>\n",
       "      <td>AllPub</td>\n",
       "      <td>Inside</td>\n",
       "      <td>...</td>\n",
       "      <td>0</td>\n",
       "      <td>NaN</td>\n",
       "      <td>NaN</td>\n",
       "      <td>NaN</td>\n",
       "      <td>0</td>\n",
       "      <td>2</td>\n",
       "      <td>2008</td>\n",
       "      <td>WD</td>\n",
       "      <td>Normal</td>\n",
       "      <td>208500</td>\n",
       "    </tr>\n",
       "    <tr>\n",
       "      <th>1</th>\n",
       "      <td>20</td>\n",
       "      <td>RL</td>\n",
       "      <td>80.0</td>\n",
       "      <td>9600</td>\n",
       "      <td>Pave</td>\n",
       "      <td>NaN</td>\n",
       "      <td>Reg</td>\n",
       "      <td>Lvl</td>\n",
       "      <td>AllPub</td>\n",
       "      <td>FR2</td>\n",
       "      <td>...</td>\n",
       "      <td>0</td>\n",
       "      <td>NaN</td>\n",
       "      <td>NaN</td>\n",
       "      <td>NaN</td>\n",
       "      <td>0</td>\n",
       "      <td>5</td>\n",
       "      <td>2007</td>\n",
       "      <td>WD</td>\n",
       "      <td>Normal</td>\n",
       "      <td>181500</td>\n",
       "    </tr>\n",
       "    <tr>\n",
       "      <th>2</th>\n",
       "      <td>60</td>\n",
       "      <td>RL</td>\n",
       "      <td>68.0</td>\n",
       "      <td>11250</td>\n",
       "      <td>Pave</td>\n",
       "      <td>NaN</td>\n",
       "      <td>IR1</td>\n",
       "      <td>Lvl</td>\n",
       "      <td>AllPub</td>\n",
       "      <td>Inside</td>\n",
       "      <td>...</td>\n",
       "      <td>0</td>\n",
       "      <td>NaN</td>\n",
       "      <td>NaN</td>\n",
       "      <td>NaN</td>\n",
       "      <td>0</td>\n",
       "      <td>9</td>\n",
       "      <td>2008</td>\n",
       "      <td>WD</td>\n",
       "      <td>Normal</td>\n",
       "      <td>223500</td>\n",
       "    </tr>\n",
       "    <tr>\n",
       "      <th>3</th>\n",
       "      <td>70</td>\n",
       "      <td>RL</td>\n",
       "      <td>60.0</td>\n",
       "      <td>9550</td>\n",
       "      <td>Pave</td>\n",
       "      <td>NaN</td>\n",
       "      <td>IR1</td>\n",
       "      <td>Lvl</td>\n",
       "      <td>AllPub</td>\n",
       "      <td>Corner</td>\n",
       "      <td>...</td>\n",
       "      <td>0</td>\n",
       "      <td>NaN</td>\n",
       "      <td>NaN</td>\n",
       "      <td>NaN</td>\n",
       "      <td>0</td>\n",
       "      <td>2</td>\n",
       "      <td>2006</td>\n",
       "      <td>WD</td>\n",
       "      <td>Abnorml</td>\n",
       "      <td>140000</td>\n",
       "    </tr>\n",
       "    <tr>\n",
       "      <th>4</th>\n",
       "      <td>60</td>\n",
       "      <td>RL</td>\n",
       "      <td>84.0</td>\n",
       "      <td>14260</td>\n",
       "      <td>Pave</td>\n",
       "      <td>NaN</td>\n",
       "      <td>IR1</td>\n",
       "      <td>Lvl</td>\n",
       "      <td>AllPub</td>\n",
       "      <td>FR2</td>\n",
       "      <td>...</td>\n",
       "      <td>0</td>\n",
       "      <td>NaN</td>\n",
       "      <td>NaN</td>\n",
       "      <td>NaN</td>\n",
       "      <td>0</td>\n",
       "      <td>12</td>\n",
       "      <td>2008</td>\n",
       "      <td>WD</td>\n",
       "      <td>Normal</td>\n",
       "      <td>250000</td>\n",
       "    </tr>\n",
       "  </tbody>\n",
       "</table>\n",
       "<p>5 rows × 80 columns</p>\n",
       "</div>"
      ],
      "text/plain": [
       "   MSSubClass MSZoning  LotFrontage  LotArea Street Alley LotShape  \\\n",
       "0          60       RL         65.0     8450   Pave   NaN      Reg   \n",
       "1          20       RL         80.0     9600   Pave   NaN      Reg   \n",
       "2          60       RL         68.0    11250   Pave   NaN      IR1   \n",
       "3          70       RL         60.0     9550   Pave   NaN      IR1   \n",
       "4          60       RL         84.0    14260   Pave   NaN      IR1   \n",
       "\n",
       "  LandContour Utilities LotConfig  ... PoolArea PoolQC Fence MiscFeature  \\\n",
       "0         Lvl    AllPub    Inside  ...        0    NaN   NaN         NaN   \n",
       "1         Lvl    AllPub       FR2  ...        0    NaN   NaN         NaN   \n",
       "2         Lvl    AllPub    Inside  ...        0    NaN   NaN         NaN   \n",
       "3         Lvl    AllPub    Corner  ...        0    NaN   NaN         NaN   \n",
       "4         Lvl    AllPub       FR2  ...        0    NaN   NaN         NaN   \n",
       "\n",
       "  MiscVal MoSold  YrSold  SaleType  SaleCondition  SalePrice  \n",
       "0       0      2    2008        WD         Normal     208500  \n",
       "1       0      5    2007        WD         Normal     181500  \n",
       "2       0      9    2008        WD         Normal     223500  \n",
       "3       0      2    2006        WD        Abnorml     140000  \n",
       "4       0     12    2008        WD         Normal     250000  \n",
       "\n",
       "[5 rows x 80 columns]"
      ]
     },
     "execution_count": 347,
     "metadata": {},
     "output_type": "execute_result"
    }
   ],
   "source": [
    "df.head()"
   ]
  },
  {
   "cell_type": "markdown",
   "metadata": {},
   "source": [
    "### Handling Missing Values train 🟩"
   ]
  },
  {
   "cell_type": "code",
   "execution_count": 348,
   "metadata": {},
   "outputs": [
    {
     "name": "stdout",
     "output_type": "stream",
     "text": [
      "drop columns:  ['PoolQC', 'MiscFeature', 'Alley', 'Fence', 'FireplaceQu']\n"
     ]
    },
    {
     "data": {
      "text/html": [
       "<div>\n",
       "<style scoped>\n",
       "    .dataframe tbody tr th:only-of-type {\n",
       "        vertical-align: middle;\n",
       "    }\n",
       "\n",
       "    .dataframe tbody tr th {\n",
       "        vertical-align: top;\n",
       "    }\n",
       "\n",
       "    .dataframe thead th {\n",
       "        text-align: right;\n",
       "    }\n",
       "</style>\n",
       "<table border=\"1\" class=\"dataframe\">\n",
       "  <thead>\n",
       "    <tr style=\"text-align: right;\">\n",
       "      <th></th>\n",
       "      <th>index</th>\n",
       "      <th>Counter</th>\n",
       "      <th>presentage of null value</th>\n",
       "    </tr>\n",
       "  </thead>\n",
       "  <tbody>\n",
       "    <tr>\n",
       "      <th>71</th>\n",
       "      <td>PoolQC</td>\n",
       "      <td>1453</td>\n",
       "      <td>99.52</td>\n",
       "    </tr>\n",
       "    <tr>\n",
       "      <th>73</th>\n",
       "      <td>MiscFeature</td>\n",
       "      <td>1406</td>\n",
       "      <td>96.30</td>\n",
       "    </tr>\n",
       "    <tr>\n",
       "      <th>5</th>\n",
       "      <td>Alley</td>\n",
       "      <td>1369</td>\n",
       "      <td>93.77</td>\n",
       "    </tr>\n",
       "    <tr>\n",
       "      <th>72</th>\n",
       "      <td>Fence</td>\n",
       "      <td>1179</td>\n",
       "      <td>80.75</td>\n",
       "    </tr>\n",
       "    <tr>\n",
       "      <th>56</th>\n",
       "      <td>FireplaceQu</td>\n",
       "      <td>690</td>\n",
       "      <td>47.26</td>\n",
       "    </tr>\n",
       "  </tbody>\n",
       "</table>\n",
       "</div>"
      ],
      "text/plain": [
       "          index  Counter  presentage of null value\n",
       "71       PoolQC     1453                     99.52\n",
       "73  MiscFeature     1406                     96.30\n",
       "5         Alley     1369                     93.77\n",
       "72        Fence     1179                     80.75\n",
       "56  FireplaceQu      690                     47.26"
      ]
     },
     "execution_count": 348,
     "metadata": {},
     "output_type": "execute_result"
    }
   ],
   "source": [
    "# drop columns having missing values more than 45%\n",
    "pp.detected_null_value(df, presentage_of_null=45, drop_columns=True)"
   ]
  },
  {
   "cell_type": "code",
   "execution_count": 349,
   "metadata": {},
   "outputs": [
    {
     "name": "stdout",
     "output_type": "stream",
     "text": [
      "['LotFrontage']\n"
     ]
    }
   ],
   "source": [
    "fill_col = pp.detected_null_value(df, presentage_of_null=10)['index'].tolist()\n",
    "print(fill_col)\n",
    "df[fill_col] = fillnull(df, cols=fill_col)"
   ]
  },
  {
   "cell_type": "code",
   "execution_count": 350,
   "metadata": {},
   "outputs": [
    {
     "name": "stdout",
     "output_type": "stream",
     "text": [
      "drop rows in :  ['GarageType', 'GarageYrBlt', 'GarageFinish', 'GarageQual', 'GarageCond', 'BsmtExposure', 'BsmtFinType2', 'BsmtQual', 'BsmtCond', 'BsmtFinType1', 'MasVnrType', 'MasVnrArea', 'Electrical']\n"
     ]
    },
    {
     "data": {
      "text/html": [
       "<div>\n",
       "<style scoped>\n",
       "    .dataframe tbody tr th:only-of-type {\n",
       "        vertical-align: middle;\n",
       "    }\n",
       "\n",
       "    .dataframe tbody tr th {\n",
       "        vertical-align: top;\n",
       "    }\n",
       "\n",
       "    .dataframe thead th {\n",
       "        text-align: right;\n",
       "    }\n",
       "</style>\n",
       "<table border=\"1\" class=\"dataframe\">\n",
       "  <thead>\n",
       "    <tr style=\"text-align: right;\">\n",
       "      <th></th>\n",
       "      <th>index</th>\n",
       "      <th>Counter</th>\n",
       "      <th>presentage of null value</th>\n",
       "    </tr>\n",
       "  </thead>\n",
       "  <tbody>\n",
       "    <tr>\n",
       "      <th>55</th>\n",
       "      <td>GarageType</td>\n",
       "      <td>81</td>\n",
       "      <td>5.55</td>\n",
       "    </tr>\n",
       "    <tr>\n",
       "      <th>56</th>\n",
       "      <td>GarageYrBlt</td>\n",
       "      <td>81</td>\n",
       "      <td>5.55</td>\n",
       "    </tr>\n",
       "    <tr>\n",
       "      <th>57</th>\n",
       "      <td>GarageFinish</td>\n",
       "      <td>81</td>\n",
       "      <td>5.55</td>\n",
       "    </tr>\n",
       "    <tr>\n",
       "      <th>60</th>\n",
       "      <td>GarageQual</td>\n",
       "      <td>81</td>\n",
       "      <td>5.55</td>\n",
       "    </tr>\n",
       "    <tr>\n",
       "      <th>61</th>\n",
       "      <td>GarageCond</td>\n",
       "      <td>81</td>\n",
       "      <td>5.55</td>\n",
       "    </tr>\n",
       "    <tr>\n",
       "      <th>30</th>\n",
       "      <td>BsmtExposure</td>\n",
       "      <td>38</td>\n",
       "      <td>2.60</td>\n",
       "    </tr>\n",
       "    <tr>\n",
       "      <th>33</th>\n",
       "      <td>BsmtFinType2</td>\n",
       "      <td>38</td>\n",
       "      <td>2.60</td>\n",
       "    </tr>\n",
       "    <tr>\n",
       "      <th>28</th>\n",
       "      <td>BsmtQual</td>\n",
       "      <td>37</td>\n",
       "      <td>2.53</td>\n",
       "    </tr>\n",
       "    <tr>\n",
       "      <th>29</th>\n",
       "      <td>BsmtCond</td>\n",
       "      <td>37</td>\n",
       "      <td>2.53</td>\n",
       "    </tr>\n",
       "    <tr>\n",
       "      <th>31</th>\n",
       "      <td>BsmtFinType1</td>\n",
       "      <td>37</td>\n",
       "      <td>2.53</td>\n",
       "    </tr>\n",
       "    <tr>\n",
       "      <th>23</th>\n",
       "      <td>MasVnrType</td>\n",
       "      <td>8</td>\n",
       "      <td>0.55</td>\n",
       "    </tr>\n",
       "    <tr>\n",
       "      <th>24</th>\n",
       "      <td>MasVnrArea</td>\n",
       "      <td>8</td>\n",
       "      <td>0.55</td>\n",
       "    </tr>\n",
       "    <tr>\n",
       "      <th>40</th>\n",
       "      <td>Electrical</td>\n",
       "      <td>1</td>\n",
       "      <td>0.07</td>\n",
       "    </tr>\n",
       "  </tbody>\n",
       "</table>\n",
       "</div>"
      ],
      "text/plain": [
       "           index  Counter  presentage of null value\n",
       "55    GarageType       81                      5.55\n",
       "56   GarageYrBlt       81                      5.55\n",
       "57  GarageFinish       81                      5.55\n",
       "60    GarageQual       81                      5.55\n",
       "61    GarageCond       81                      5.55\n",
       "30  BsmtExposure       38                      2.60\n",
       "33  BsmtFinType2       38                      2.60\n",
       "28      BsmtQual       37                      2.53\n",
       "29      BsmtCond       37                      2.53\n",
       "31  BsmtFinType1       37                      2.53\n",
       "23    MasVnrType        8                      0.55\n",
       "24    MasVnrArea        8                      0.55\n",
       "40    Electrical        1                      0.07"
      ]
     },
     "execution_count": 350,
     "metadata": {},
     "output_type": "execute_result"
    }
   ],
   "source": [
    "# drop rows having missing values\n",
    "pp.detected_null_value(df, presentage_of_null=0, drop_rows=True)"
   ]
  },
  {
   "cell_type": "markdown",
   "metadata": {},
   "source": [
    "### Split Data into Train and Vld 🟢"
   ]
  },
  {
   "cell_type": "code",
   "execution_count": 351,
   "metadata": {},
   "outputs": [],
   "source": [
    "house_train, house_vld = train_test_split(df, test_size=0.25, random_state=2022)"
   ]
  },
  {
   "cell_type": "code",
   "execution_count": 352,
   "metadata": {},
   "outputs": [
    {
     "data": {
      "text/plain": [
       "((1003, 75), (335, 75))"
      ]
     },
     "execution_count": 352,
     "metadata": {},
     "output_type": "execute_result"
    }
   ],
   "source": [
    "house_train.shape, house_vld.shape"
   ]
  },
  {
   "cell_type": "markdown",
   "metadata": {},
   "source": [
    "### Handling Redundant Columns train 🟩"
   ]
  },
  {
   "cell_type": "code",
   "execution_count": 353,
   "metadata": {},
   "outputs": [
    {
     "name": "stdout",
     "output_type": "stream",
     "text": [
      "redundant features:  ['Street', 'LandContour', 'Utilities', 'LandSlope', 'Condition1', 'Condition2', 'BldgType', 'RoofMatl', 'ExterCond', 'BsmtCond', 'BsmtFinType2', 'BsmtFinSF2', 'Heating', 'CentralAir', 'Electrical', 'LowQualFinSF', 'BsmtHalfBath', 'KitchenAbvGr', 'Functional', 'GarageQual', 'GarageCond', 'PavedDrive', 'EnclosedPorch', '3SsnPorch', 'ScreenPorch', 'PoolArea', 'MiscVal', 'SaleType', 'SaleCondition']\n",
      "redundant features are dropped\n"
     ]
    }
   ],
   "source": [
    "# drop columns that contain data redundancy 80% or more\n",
    "duplicate_cols = pp.detected_redundant(house_train, threshold=81, drop_columns=True,  return_cols=True)"
   ]
  },
  {
   "cell_type": "markdown",
   "metadata": {},
   "source": [
    "### Handling Redundant Columns vld 🟦"
   ]
  },
  {
   "cell_type": "code",
   "execution_count": 354,
   "metadata": {},
   "outputs": [],
   "source": [
    "# drop columns that contain data redundancy 80% or more\n",
    "house_vld.drop(columns=duplicate_cols, inplace=True)"
   ]
  },
  {
   "cell_type": "markdown",
   "metadata": {},
   "source": [
    "### Split Data into Numeric and Categorical train 🟩"
   ]
  },
  {
   "cell_type": "code",
   "execution_count": 355,
   "metadata": {},
   "outputs": [],
   "source": [
    "num_col, cat_col = pp.separate_data(house_train, cols_only=True)"
   ]
  },
  {
   "cell_type": "code",
   "execution_count": 356,
   "metadata": {},
   "outputs": [
    {
     "data": {
      "text/plain": [
       "((28,), (18,))"
      ]
     },
     "execution_count": 356,
     "metadata": {},
     "output_type": "execute_result"
    }
   ],
   "source": [
    "num_col.shape, cat_col.shape"
   ]
  },
  {
   "cell_type": "markdown",
   "metadata": {},
   "source": [
    "### Handling Highly Correlated Features 🟩"
   ]
  },
  {
   "cell_type": "code",
   "execution_count": 457,
   "metadata": {},
   "outputs": [
    {
     "ename": "NameError",
     "evalue": "name 'sns' is not defined",
     "output_type": "error",
     "traceback": [
      "\u001b[1;31m---------------------------------------------------------------------------\u001b[0m",
      "\u001b[1;31mNameError\u001b[0m                                 Traceback (most recent call last)",
      "\u001b[1;32me:\\ملفات المعهد\\ML01\\Labs\\KNN and Tree and SVR\\Salim_Fathy_SVR.ipynb Cell 22'\u001b[0m in \u001b[0;36m<module>\u001b[1;34m\u001b[0m\n\u001b[0;32m      <a href='vscode-notebook-cell:/e%3A/%D9%85%D9%84%D9%81%D8%A7%D8%AA%20%D8%A7%D9%84%D9%85%D8%B9%D9%87%D8%AF/ML01/Labs/KNN%20and%20Tree%20and%20SVR/Salim_Fathy_SVR.ipynb#ch0000021?line=0'>1</a>\u001b[0m plt\u001b[39m.\u001b[39mfigure(figsize\u001b[39m=\u001b[39m(\u001b[39m25\u001b[39m, \u001b[39m25\u001b[39m))\n\u001b[1;32m----> <a href='vscode-notebook-cell:/e%3A/%D9%85%D9%84%D9%81%D8%A7%D8%AA%20%D8%A7%D9%84%D9%85%D8%B9%D9%87%D8%AF/ML01/Labs/KNN%20and%20Tree%20and%20SVR/Salim_Fathy_SVR.ipynb#ch0000021?line=1'>2</a>\u001b[0m sns\u001b[39m.\u001b[39mheatmap(house_train[num_col]\u001b[39m.\u001b[39mcorr(), annot\u001b[39m=\u001b[39m\u001b[39mTrue\u001b[39;00m, linewidths\u001b[39m=\u001b[39m\u001b[39m0.5\u001b[39m, fmt\u001b[39m=\u001b[39m\u001b[39m'\u001b[39m\u001b[39m.2f\u001b[39m\u001b[39m'\u001b[39m,  cmap\u001b[39m=\u001b[39m\u001b[39m'\u001b[39m\u001b[39mcoolwarm\u001b[39m\u001b[39m'\u001b[39m)\n",
      "\u001b[1;31mNameError\u001b[0m: name 'sns' is not defined"
     ]
    },
    {
     "data": {
      "text/plain": [
       "<Figure size 1800x1800 with 0 Axes>"
      ]
     },
     "metadata": {},
     "output_type": "display_data"
    }
   ],
   "source": [
    "plt.figure(figsize=(25, 25))\n",
    "sns.heatmap(house_train[num_col].corr(), annot=True, linewidths=0.5, fmt='.2f',  cmap='coolwarm');"
   ]
  },
  {
   "cell_type": "code",
   "execution_count": 358,
   "metadata": {},
   "outputs": [
    {
     "data": {
      "text/plain": [
       "SalePrice       1.000000\n",
       "OverallQual     0.785001\n",
       "GrLivArea       0.692018\n",
       "GarageCars      0.652386\n",
       "GarageArea      0.613693\n",
       "1stFlrSF        0.592153\n",
       "TotalBsmtSF     0.580446\n",
       "FullBath        0.574509\n",
       "TotRmsAbvGrd    0.553975\n",
       "YearBuilt       0.513225\n",
       "YearRemodAdd    0.501035\n",
       "GarageYrBlt     0.495614\n",
       "MasVnrArea      0.485986\n",
       "Fireplaces      0.437020\n",
       "WoodDeckSF      0.333671\n",
       "OpenPorchSF     0.332969\n",
       "BsmtFinSF1      0.329690\n",
       "LotFrontage     0.324470\n",
       "2ndFlrSF        0.306904\n",
       "LotArea         0.298267\n",
       "HalfBath        0.261588\n",
       "BsmtUnfSF       0.204669\n",
       "BsmtFullBath    0.200065\n",
       "BedroomAbvGr    0.167477\n",
       "OverallCond     0.113944\n",
       "MSSubClass      0.073955\n",
       "MoSold          0.028668\n",
       "YrSold          0.012454\n",
       "Name: SalePrice, dtype: float64"
      ]
     },
     "execution_count": 358,
     "metadata": {},
     "output_type": "execute_result"
    }
   ],
   "source": [
    "house_train[num_col].corr()['SalePrice'].abs().sort_values(ascending=False)"
   ]
  },
  {
   "cell_type": "code",
   "execution_count": 359,
   "metadata": {},
   "outputs": [
    {
     "name": "stdout",
     "output_type": "stream",
     "text": [
      "we will drop the column  GarageYrBlt\n",
      "we will drop the column  TotalBsmtSF\n",
      "we will drop the column  TotRmsAbvGrd\n",
      "we will drop the column  GarageArea\n"
     ]
    }
   ],
   "source": [
    "high_corr_list = pp.detected_highly_corr(df=house_train[num_col], target_name=house_train[num_col].columns[-1], threshold=0.75)"
   ]
  },
  {
   "cell_type": "code",
   "execution_count": 360,
   "metadata": {},
   "outputs": [],
   "source": [
    "house_train.drop(high_corr_list, axis=1, inplace=True)\n",
    "house_vld.drop(high_corr_list, axis=1, inplace=True)"
   ]
  },
  {
   "cell_type": "code",
   "execution_count": 361,
   "metadata": {},
   "outputs": [],
   "source": [
    "num_col, cat_col = pp.separate_data(house_train, cols_only=True)"
   ]
  },
  {
   "cell_type": "code",
   "execution_count": 362,
   "metadata": {},
   "outputs": [
    {
     "data": {
      "text/plain": [
       "((24,), (18,))"
      ]
     },
     "execution_count": 362,
     "metadata": {},
     "output_type": "execute_result"
    }
   ],
   "source": [
    "num_col.shape, cat_col.shape"
   ]
  },
  {
   "cell_type": "markdown",
   "metadata": {},
   "source": [
    "### Handling Outliers 🟩"
   ]
  },
  {
   "cell_type": "code",
   "execution_count": 363,
   "metadata": {},
   "outputs": [
    {
     "data": {
      "image/png": "[encoded data removed]",
      "text/plain": [
       "<Figure size 1800x2520 with 24 Axes>"
      ]
     },
     "metadata": {
      "needs_background": "light"
     },
     "output_type": "display_data"
    }
   ],
   "source": [
    "# after clipping outliers\n",
    "pp.boxplot(house_train[num_col], figsize=(25, 35))"
   ]
  },
  {
   "cell_type": "code",
   "execution_count": 364,
   "metadata": {},
   "outputs": [],
   "source": [
    "# # clamp the outliers\n",
    "# house_train[num_col[:-1]] = pp.detected_outliers(house_train[num_col[:-1]], threshold=3, clipping=True)"
   ]
  },
  {
   "cell_type": "markdown",
   "metadata": {},
   "source": [
    "### Handling Skewed Features 🟩"
   ]
  },
  {
   "cell_type": "code",
   "execution_count": 458,
   "metadata": {},
   "outputs": [
    {
     "data": {
      "image/png": "[encoded data removed]",
      "text/plain": [
       "<Figure size 1728x1728 with 25 Axes>"
      ]
     },
     "metadata": {
      "needs_background": "light"
     },
     "output_type": "display_data"
    }
   ],
   "source": [
    "pp.histplot(house_train[num_col])"
   ]
  },
  {
   "cell_type": "code",
   "execution_count": 366,
   "metadata": {},
   "outputs": [
    {
     "data": {
      "text/plain": [
       "LotArea         13.682839\n",
       "LotFrontage      2.885199\n",
       "MasVnrArea       2.644001\n",
       "OpenPorchSF      2.351311\n",
       "BsmtFinSF1       1.994983\n",
       "SalePrice        1.872283\n",
       "GrLivArea        1.486002\n",
       "1stFlrSF         1.444967\n",
       "MSSubClass       1.402379\n",
       "WoodDeckSF       1.355916\n",
       "BsmtUnfSF        0.951662\n",
       "OverallCond      0.907703\n",
       "2ndFlrSF         0.743501\n",
       "YearBuilt        0.684718\n",
       "YearRemodAdd     0.559015\n",
       "HalfBath         0.499056\n",
       "Fireplaces       0.489173\n",
       "BsmtFullBath     0.467961\n",
       "OverallQual      0.296549\n",
       "GarageCars       0.205266\n",
       "MoSold           0.201548\n",
       "YrSold           0.091633\n",
       "BedroomAbvGr     0.037956\n",
       "FullBath         0.014216\n",
       "dtype: float64"
      ]
     },
     "execution_count": 366,
     "metadata": {},
     "output_type": "execute_result"
    }
   ],
   "source": [
    "house_train[num_col].skew().abs().sort_values(ascending=False)"
   ]
  },
  {
   "cell_type": "code",
   "execution_count": 367,
   "metadata": {},
   "outputs": [
    {
     "name": "stdout",
     "output_type": "stream",
     "text": [
      "-Skewness Columns:  ['MSSubClass', 'LotFrontage', 'LotArea', 'OverallCond', 'MasVnrArea', 'BsmtFinSF1', 'BsmtUnfSF', '1stFlrSF', 'GrLivArea', 'WoodDeckSF', 'OpenPorchSF']\n"
     ]
    }
   ],
   "source": [
    "pp.skewness_calc(house_train[num_col[:-1]])"
   ]
  },
  {
   "cell_type": "code",
   "execution_count": 368,
   "metadata": {},
   "outputs": [
    {
     "name": "stdout",
     "output_type": "stream",
     "text": [
      "LotArea\n",
      "LotFrontage\n",
      "MasVnrArea\n"
     ]
    },
    {
     "name": "stderr",
     "output_type": "stream",
     "text": [
      "C:\\Users\\SM\\AppData\\Local\\Temp\\ipykernel_10292\\476885684.py:5: SettingWithCopyWarning: \n",
      "A value is trying to be set on a copy of a slice from a DataFrame.\n",
      "Try using .loc[row_indexer,col_indexer] = value instead\n",
      "\n",
      "See the caveats in the documentation: https://pandas.pydata.org/pandas-docs/stable/user_guide/indexing.html#returning-a-view-versus-a-copy\n",
      "  df[col] = np.log(df[col]+1)\n"
     ]
    },
    {
     "name": "stdout",
     "output_type": "stream",
     "text": [
      "OpenPorchSF\n",
      "BsmtFinSF1\n",
      "GrLivArea\n",
      "1stFlrSF\n",
      "MSSubClass\n",
      "WoodDeckSF\n",
      "BsmtUnfSF\n",
      "OverallCond\n",
      "LotArea\n",
      "MasVnrArea\n",
      "OpenPorchSF\n",
      "WoodDeckSF\n"
     ]
    },
    {
     "name": "stderr",
     "output_type": "stream",
     "text": [
      "C:\\Users\\SM\\AppData\\Local\\Temp\\ipykernel_10292\\476885684.py:5: SettingWithCopyWarning: \n",
      "A value is trying to be set on a copy of a slice from a DataFrame.\n",
      "Try using .loc[row_indexer,col_indexer] = value instead\n",
      "\n",
      "See the caveats in the documentation: https://pandas.pydata.org/pandas-docs/stable/user_guide/indexing.html#returning-a-view-versus-a-copy\n",
      "  df[col] = np.log(df[col]+1)\n"
     ]
    },
    {
     "name": "stdout",
     "output_type": "stream",
     "text": [
      "MSSubClass\n",
      "1stFlrSF\n",
      "GrLivArea\n",
      "BsmtUnfSF\n",
      "LotFrontage\n",
      "OverallCond\n",
      "BsmtFinSF1\n"
     ]
    }
   ],
   "source": [
    "house_train[['MSSubClass', 'LotFrontage', 'LotArea', 'OverallCond', 'MasVnrArea', 'BsmtFinSF1', 'BsmtUnfSF', '1stFlrSF', 'GrLivArea', 'WoodDeckSF', 'OpenPorchSF']] = log_transform(house_train[['MSSubClass', 'LotFrontage', 'LotArea', 'OverallCond', 'MasVnrArea', 'BsmtFinSF1', 'BsmtUnfSF', '1stFlrSF', 'GrLivArea', 'WoodDeckSF', 'OpenPorchSF']])\n",
    "house_vld[['MSSubClass', 'LotFrontage', 'LotArea', 'OverallCond', 'MasVnrArea', 'BsmtFinSF1', 'BsmtUnfSF', '1stFlrSF', 'GrLivArea', 'WoodDeckSF', 'OpenPorchSF']] = log_transform(house_vld[['MSSubClass', 'LotFrontage', 'LotArea', 'OverallCond', 'MasVnrArea', 'BsmtFinSF1', 'BsmtUnfSF', '1stFlrSF', 'GrLivArea', 'WoodDeckSF', 'OpenPorchSF']])"
   ]
  },
  {
   "cell_type": "markdown",
   "metadata": {},
   "source": [
    "#### Performs the Shapiro-Wilk test with alpha = 0.01 Test Dataset"
   ]
  },
  {
   "cell_type": "code",
   "execution_count": 369,
   "metadata": {},
   "outputs": [
    {
     "name": "stdout",
     "output_type": "stream",
     "text": [
      "+ Column '['1stFlrSF', 'GrLivArea']' is normally distributed (std)\n",
      "- Column '['MSSubClass', 'LotFrontage', 'LotArea', 'OverallQual', 'OverallCond', 'YearBuilt', 'YearRemodAdd', 'MasVnrArea', 'BsmtFinSF1', 'BsmtUnfSF', '2ndFlrSF', 'BsmtFullBath', 'FullBath', 'HalfBath', 'BedroomAbvGr', 'Fireplaces', 'GarageCars', 'WoodDeckSF', 'OpenPorchSF', 'MoSold', 'YrSold', 'SalePrice']' is 'not' normally distributed (minmax)\n"
     ]
    }
   ],
   "source": [
    "pp.shapiro_test(df=house_train[num_col], alpha=0.01)"
   ]
  },
  {
   "cell_type": "markdown",
   "metadata": {},
   "source": [
    "### Min-max scale the non-gaussian features, and standardize the gaussian features 🟩"
   ]
  },
  {
   "cell_type": "code",
   "execution_count": 370,
   "metadata": {},
   "outputs": [],
   "source": [
    "X_train_Scale, X_vld_Scale = pp.scaling(house_train[num_col], house_vld[num_col], 'robust')"
   ]
  },
  {
   "cell_type": "markdown",
   "metadata": {},
   "source": [
    "### Encoding Categorical Data 🟩"
   ]
  },
  {
   "cell_type": "code",
   "execution_count": 371,
   "metadata": {},
   "outputs": [],
   "source": [
    "ordinal_cats = ['BsmtQual', 'LotShape', 'HeatingQC', 'BsmtFinType1',  'ExterQual', 'KitchenQual', 'BsmtExposure', 'GarageFinish']\n",
    "nominal_cats = ['HouseStyle', 'LotConfig', 'RoofStyle', 'GarageType', 'Exterior1st', 'Foundation', 'MSZoning', 'Exterior2nd', 'MasVnrType', 'Neighborhood']"
   ]
  },
  {
   "cell_type": "code",
   "execution_count": 372,
   "metadata": {},
   "outputs": [
    {
     "data": {
      "text/plain": [
       "((1003, 42), (335, 42))"
      ]
     },
     "execution_count": 372,
     "metadata": {},
     "output_type": "execute_result"
    }
   ],
   "source": [
    "# house_vld_cat, house_vld_num = pp.separate_data(house_vld, cols_only=False)\n",
    "house_train.shape, house_vld.shape"
   ]
  },
  {
   "cell_type": "markdown",
   "metadata": {},
   "source": [
    "#### Encoding Categorical Variables Train, Test Dataset"
   ]
  },
  {
   "cell_type": "code",
   "execution_count": 373,
   "metadata": {},
   "outputs": [],
   "source": [
    "house_train_cat_nominal, house_vld_cat_nominal = pp.encoding_nominal_cat(df_train=house_train, nominal_cats=nominal_cats, df_test=house_vld)\n",
    "house_train_cat_ordinal, house_vld_cat_ordinal = pp.encoding_ordinal_cat(df_train=house_train, ordinal_cats=ordinal_cats, df_test=house_vld)"
   ]
  },
  {
   "cell_type": "code",
   "execution_count": 374,
   "metadata": {},
   "outputs": [],
   "source": [
    "house_train_cat_nominal.drop(columns=ordinal_cats, inplace=True)\n",
    "house_vld_cat_nominal.drop(columns=ordinal_cats, inplace=True)"
   ]
  },
  {
   "cell_type": "code",
   "execution_count": 375,
   "metadata": {},
   "outputs": [
    {
     "data": {
      "text/plain": [
       "((1003, 118), (335, 118), (1003, 8), (335, 8))"
      ]
     },
     "execution_count": 375,
     "metadata": {},
     "output_type": "execute_result"
    }
   ],
   "source": [
    "house_train_cat_nominal.shape, house_vld_cat_nominal.shape, house_train_cat_ordinal.shape, house_vld_cat_ordinal.shape"
   ]
  },
  {
   "cell_type": "markdown",
   "metadata": {},
   "source": [
    "### final Re-Collecting Data 🟩 "
   ]
  },
  {
   "cell_type": "code",
   "execution_count": 376,
   "metadata": {},
   "outputs": [],
   "source": [
    "house_train_final = house_train_cat_ordinal.merge(house_train_cat_nominal, left_index=True, right_index=True, how='inner')\n",
    "house_train_final[num_col] = X_train_Scale\n",
    "house_vld_final   = house_vld_cat_ordinal.merge(house_vld_cat_nominal, left_index=True, right_index=True, how='inner')\n",
    "house_vld_final[num_col] = X_vld_Scale"
   ]
  },
  {
   "cell_type": "code",
   "execution_count": 377,
   "metadata": {},
   "outputs": [
    {
     "data": {
      "text/plain": [
       "((702, 126), (77, 126))"
      ]
     },
     "execution_count": 377,
     "metadata": {},
     "output_type": "execute_result"
    }
   ],
   "source": [
    "house_train_final.shape, house_vld_final.shape"
   ]
  },
  {
   "cell_type": "code",
   "execution_count": 378,
   "metadata": {},
   "outputs": [
    {
     "data": {
      "text/plain": [
       "0"
      ]
     },
     "execution_count": 378,
     "metadata": {},
     "output_type": "execute_result"
    }
   ],
   "source": [
    "house_train_final.isnull().sum().sum()"
   ]
  },
  {
   "cell_type": "markdown",
   "metadata": {},
   "source": [
    "#### split the data into X, y"
   ]
  },
  {
   "cell_type": "code",
   "execution_count": 379,
   "metadata": {},
   "outputs": [],
   "source": [
    "X_train = house_train_final.iloc[:, :-1]\n",
    "y_train = house_train_final.iloc[:, -1]\n",
    "\n",
    "X_vld = house_vld_final.iloc[:, :-1]\n",
    "y_vld = house_vld_final.iloc[:, -1]"
   ]
  },
  {
   "cell_type": "markdown",
   "metadata": {},
   "source": [
    "### Modeling"
   ]
  },
  {
   "cell_type": "markdown",
   "metadata": {},
   "source": [
    "#### SVR"
   ]
  },
  {
   "cell_type": "code",
   "execution_count": 339,
   "metadata": {},
   "outputs": [],
   "source": [
    "from sklearn.model_selection import GridSearchCV\n",
    "from sklearn.pipeline import Pipeline\n",
    "from sklearn.linear_model import Ridge\n",
    "from sklearn.metrics import mean_squared_error\n"
   ]
  },
  {
   "cell_type": "code",
   "execution_count": 319,
   "metadata": {},
   "outputs": [],
   "source": [
    "# pca = PCA(random_state=2020, n_components=0.75)\n",
    "# pca_tr = pca.fit_transform(X_train)\n",
    "# pca_vld = pca.transform(X_vld)"
   ]
  },
  {
   "cell_type": "code",
   "execution_count": 342,
   "metadata": {},
   "outputs": [],
   "source": [
    "# kernel = ['linear', 'poly', 'rbf']\n",
    "# gamma = ['scale', 0.01, 0.001, 0.5, 0.8]\n",
    "# CC = [0.3, 0.5, 1, 12, 31, 55, 100]\n",
    "# degree = [3, 4, 5, 6, 7, 8, 9]\n",
    "# para_svr = {'kernel': kernel, 'gamma': gamma, 'C': CC, 'degree': degree}\n",
    "# grid_search = GridSearchCV(SVR(), para_svr, cv=5, scoring='r2', n_jobs=-1)\n",
    "# grid_search.fit(pca_tr, y_train)\n",
    "# print(grid_search.best_params_)\n",
    "# print(grid_search.best_score_)\n",
    "# print(r2_score(y_vld, grid_search.predict(pca_vld)))\n",
    "# print(r2_score(y_train, grid_search.predict(pca_tr)))\n",
    "# print(mean_squared_error(y_vld, grid_search.predict(pca_vld)))"
   ]
  },
  {
   "cell_type": "code",
   "execution_count": 400,
   "metadata": {},
   "outputs": [],
   "source": [
    "kernel = ['linear', 'poly', 'rbf']\n",
    "gamma = ['scale', 0.01, 0.001, 0.5, 0.8]\n",
    "CC = [0.3, 0.5, 1, 12, 31, 55, 100]\n",
    "degree = [3, 4, 5, 6, 7, 8, 9]"
   ]
  },
  {
   "cell_type": "code",
   "execution_count": 405,
   "metadata": {},
   "outputs": [],
   "source": [
    "def evaluate_model(y_true, y_pred):\n",
    "    print('R2:', r2_score(y_true, y_pred))\n",
    "    print('MSE:', mean_squared_error(y_true, y_pred))"
   ]
  },
  {
   "cell_type": "markdown",
   "metadata": {},
   "source": [
    "##### kernel poly"
   ]
  },
  {
   "cell_type": "code",
   "execution_count": 401,
   "metadata": {},
   "outputs": [
    {
     "name": "stdout",
     "output_type": "stream",
     "text": [
      "0.3 scale 3 0.791047947587306 0.1961326361365252\n",
      "0.3 scale 3 0.8271788606377707 0.09853737885376553\n",
      "0.3 scale 4 0.7639562503056005 0.22156223083980653\n",
      "0.3 scale 4 0.78134416278776 0.12467093521939066\n",
      "0.3 scale 5 0.742301334065051 0.24188859642719054\n",
      "0.3 scale 5 0.7276546774070478 0.1552830535108592\n",
      "0.3 scale 6 0.7195860125091091 0.2632103104090009\n",
      "0.3 scale 6 0.6703396552233896 0.1879623430686356\n",
      "0.3 scale 7 0.6964080645544652 0.284966268199743\n",
      "0.3 scale 7 0.6244256573080699 0.21414111392947416\n",
      "0.3 scale 8 0.6739291295695482 0.3060660981618128\n",
      "0.3 scale 8 0.576039885552769 0.2417292153630071\n",
      "0.3 scale 9 0.6540641122498934 0.32471237690764887\n",
      "0.3 scale 9 0.5168637657181745 0.2754696464280719\n",
      "0.3 0.01 3 0.6621565412927233 0.31711642643675697\n",
      "0.3 0.01 3 0.7432776214189417 0.1463753240595187\n",
      "0.3 0.01 4 0.5679666190749377 0.4055277032285338\n",
      "0.3 0.01 4 0.6560203404591262 0.1961267826103466\n",
      "0.3 0.01 5 0.47344191602597474 0.4942532217144631\n",
      "0.3 0.01 5 0.5572955504818963 0.2524166674481898\n",
      "0.3 0.01 6 0.38859261994892424 0.5738969290710769\n",
      "0.3 0.01 6 0.4483971611431852 0.31450723048019485\n",
      "0.3 0.01 7 0.31737462557943563 0.6407456286399903\n",
      "0.3 0.01 7 0.3478100632428953 0.371858946885832\n",
      "0.3 0.01 8 0.26623174473357136 0.6887508428702104\n",
      "0.3 0.01 8 0.2683148305098405 0.41718472065281864\n",
      "0.3 0.01 9 0.22411701083520985 0.7282817959491481\n",
      "0.3 0.01 9 0.1972036223386756 0.45773017756954637\n",
      "0.3 0.001 3 -0.06151468290101714 0.9963897011348807\n",
      "0.3 0.001 3 -0.17249796626661373 0.6685228250065193\n",
      "0.3 0.001 4 -0.06609369285439737 1.0006877842725284\n",
      "0.3 0.001 4 -0.17837734317994647 0.6718750676341927\n",
      "0.3 0.001 5 -0.0664276620008124 1.001001264079586\n",
      "0.3 0.001 5 -0.17881882111556546 0.672126784980567\n",
      "0.3 0.001 6 -0.06645220730762502 1.0010243035074085\n",
      "0.3 0.001 6 -0.17885107148771606 0.6721451731658926\n",
      "0.3 0.001 7 -0.06645408604996805 1.0010260669870399\n",
      "0.3 0.001 7 -0.1788534761322924 0.6721465442213925\n",
      "0.3 0.001 8 -0.06645423618843438 1.0010262079143621\n",
      "0.3 0.001 8 -0.17885365967691103 0.6721466488729746\n",
      "0.3 0.001 9 -0.06653311000177875 1.0011002427407958\n",
      "0.3 0.001 9 -0.17901966055771634 0.6722412975469871\n",
      "0.3 0.5 3 0.9914468687519751 0.008028388137502207\n",
      "0.3 0.5 3 0.7397344739445716 0.148395519426273\n",
      "0.3 0.5 4 0.9911950386667515 0.008264768196482562\n",
      "0.3 0.5 4 0.695344049717058 0.17370559471988528\n",
      "0.3 0.5 5 0.9910354547714693 0.00841456146103896\n",
      "0.3 0.5 5 0.5466663223216592 0.25847713138225237\n",
      "0.3 0.5 6 0.9908290775150721 0.008608277267456783\n",
      "0.3 0.5 6 0.26703772080051213 0.4179128899249941\n",
      "0.3 0.5 7 0.9906196819314921 0.00880482622368237\n",
      "0.3 0.5 7 -0.18336998856493447 0.6747217228038008\n",
      "0.3 0.5 8 0.99047820010738 0.008937627997142367\n",
      "0.3 0.5 8 -0.8734590793830275 1.0681896193570541\n",
      "0.3 0.5 9 0.9903324834766924 0.009074404767581708\n",
      "0.3 0.5 9 -1.9317578692507316 1.6715995331124702\n",
      "0.3 0.8 3 0.991446447139242 0.0080287838838747\n",
      "0.3 0.8 3 0.739727403261097 0.14839955091581683\n",
      "0.3 0.8 4 0.9911941407771787 0.00826561099963696\n",
      "0.3 0.8 4 0.6953698527579589 0.1736908826075463\n",
      "0.3 0.8 5 0.9910348262787068 0.008415151395145223\n",
      "0.3 0.8 5 0.5466172205710247 0.25850512771315565\n",
      "0.3 0.8 6 0.9908291303855044 0.008608227640678227\n",
      "0.3 0.8 6 0.2669800880847557 0.417945750353804\n",
      "0.3 0.8 7 0.9906198641812156 0.008804655155160651\n",
      "0.3 0.8 7 -0.18340438085037092 0.6747413322432028\n",
      "0.3 0.8 8 0.990476762035357 0.00893897784201616\n",
      "0.3 0.8 8 -0.8733666274232188 1.0681369060499724\n",
      "0.3 0.8 9 0.9903329862797715 0.009073932811971648\n",
      "0.3 0.8 9 -1.931743664010503 1.6715914337147735\n",
      "0.5 scale 3 0.8289073787744418 0.16059591871440332\n",
      "0.5 scale 3 0.8393294034137334 0.09160950740694881\n",
      "0.5 scale 4 0.8129708506739721 0.17555472496262098\n",
      "0.5 scale 4 0.7944248561914751 0.11721272005920563\n",
      "0.5 scale 5 0.7895629216790682 0.19752655422802332\n",
      "0.5 scale 5 0.7408629860086099 0.14775207603036922\n",
      "0.5 scale 6 0.7626942265944218 0.22274682814087265\n",
      "0.5 scale 6 0.6808608255175408 0.18196349045670596\n",
      "0.5 scale 7 0.7323315752582937 0.25124670061346877\n",
      "0.5 scale 7 0.6251474044097806 0.21372959559404175\n",
      "0.5 scale 8 0.707009015606956 0.27501569603990256\n",
      "0.5 scale 8 0.5600549125035346 0.2508433628054576\n",
      "0.5 scale 9 0.6853591066067601 0.29533736158610957\n",
      "0.5 scale 9 0.49007548818017976 0.2907435108542783\n",
      "0.5 0.01 3 0.7216994594158734 0.2612265255723745\n",
      "0.5 0.01 3 0.7913665883884425 0.11895645172453197\n",
      "0.5 0.01 4 0.6398945008027223 0.3380126685969355\n",
      "0.5 0.01 4 0.7149272144708452 0.16253986735793854\n",
      "0.5 0.01 5 0.5487354504883464 0.42357902049161783\n",
      "0.5 0.01 5 0.629005844855685 0.21152962972524902\n",
      "0.5 0.01 6 0.466749628761464 0.5005349304979642\n",
      "0.5 0.01 6 0.5334851813101833 0.2659926187257907\n",
      "0.5 0.01 7 0.3960906806754243 0.5668588818290443\n",
      "0.5 0.01 7 0.4349613019760643 0.32216795040058316\n",
      "0.5 0.01 8 0.332345250389965 0.6266934665540168\n",
      "0.5 0.01 8 0.342582151841366 0.3748397436117851\n",
      "0.5 0.01 9 0.28378912035234005 0.6722706297113227\n",
      "0.5 0.01 9 0.2666994957778106 0.41810573558798847\n",
      "0.5 0.001 3 -0.05811177766957565 0.9931955675245193\n",
      "0.5 0.001 3 -0.16801917214205808 0.6659691522608817\n",
      "0.5 0.001 4 -0.06585342737006483 1.00046225931467\n",
      "0.5 0.001 4 -0.17805993860105973 0.6716940931576032\n",
      "0.5 0.001 5 -0.06640993744765145 1.0009846269453935\n",
      "0.5 0.001 5 -0.1787955859960617 0.6721135370192256\n",
      "0.5 0.001 6 -0.06645084557079173 1.0010230253144847\n",
      "0.5 0.001 6 -0.178849335645469 0.6721441834412226\n",
      "0.5 0.001 7 -0.066453976802618 1.0010259644421236\n",
      "0.5 0.001 7 -0.17885334337971792 0.6721464685298958\n",
      "0.5 0.001 8 -0.06645422703335124 1.0010261993209524\n",
      "0.5 0.001 8 -0.1788536492873667 0.672146642949171\n",
      "0.5 0.001 9 -0.06653310908647625 1.001100241881648\n",
      "0.5 0.001 9 -0.1790196594886666 0.6722412969374473\n",
      "0.5 0.5 3 0.9914468687519751 0.008028388137502207\n",
      "0.5 0.5 3 0.7397344739445716 0.148395519426273\n",
      "0.5 0.5 4 0.9911950386667515 0.008264768196482562\n",
      "0.5 0.5 4 0.695344049717058 0.17370559471988528\n",
      "0.5 0.5 5 0.9910354547714693 0.00841456146103896\n",
      "0.5 0.5 5 0.5466663223216592 0.25847713138225237\n",
      "0.5 0.5 6 0.9908290775150721 0.008608277267456783\n",
      "0.5 0.5 6 0.26703772080051213 0.4179128899249941\n",
      "0.5 0.5 7 0.9906196819314921 0.00880482622368237\n",
      "0.5 0.5 7 -0.18336998856493447 0.6747217228038008\n",
      "0.5 0.5 8 0.99047820010738 0.008937627997142367\n",
      "0.5 0.5 8 -0.8734590793830275 1.0681896193570541\n",
      "0.5 0.5 9 0.9903324834766924 0.009074404767581708\n",
      "0.5 0.5 9 -1.9317578692507316 1.6715995331124702\n",
      "0.5 0.8 3 0.991446447139242 0.0080287838838747\n",
      "0.5 0.8 3 0.739727403261097 0.14839955091581683\n",
      "0.5 0.8 4 0.9911941407771787 0.00826561099963696\n",
      "0.5 0.8 4 0.6953698527579589 0.1736908826075463\n",
      "0.5 0.8 5 0.9910348262787068 0.008415151395145223\n",
      "0.5 0.8 5 0.5466172205710247 0.25850512771315565\n",
      "0.5 0.8 6 0.9908291303855044 0.008608227640678227\n",
      "0.5 0.8 6 0.2669800880847557 0.417945750353804\n",
      "0.5 0.8 7 0.9906198641812156 0.008804655155160651\n",
      "0.5 0.8 7 -0.18340438085037092 0.6747413322432028\n",
      "0.5 0.8 8 0.990476762035357 0.00893897784201616\n",
      "0.5 0.8 8 -0.8733666274232188 1.0681369060499724\n",
      "0.5 0.8 9 0.9903329862797715 0.009073932811971648\n",
      "0.5 0.8 9 -1.931743664010503 1.6715914337147735\n",
      "1 scale 3 0.8767659091797472 0.11567355675801819\n",
      "1 scale 3 0.8435811188630954 0.089185308043617\n",
      "1 scale 4 0.8673220891904653 0.1245379889964648\n",
      "1 scale 4 0.8010919773377845 0.11341132953092738\n",
      "1 scale 5 0.8459165652210787 0.14463026277661123\n",
      "1 scale 5 0.7386716697421208 0.1490014981898128\n",
      "1 scale 6 0.8122661248704748 0.17621621513702893\n",
      "1 scale 6 0.676220223651951 0.1846094210750702\n",
      "1 scale 7 0.7818334637845095 0.2047818021916656\n",
      "1 scale 7 0.61007306764613 0.22232452580993245\n",
      "1 scale 8 0.7529010218285652 0.23193921005229115\n",
      "1 scale 8 0.5223368747949828 0.272349045414795\n",
      "1 scale 9 0.7281276053766401 0.25519275276087117\n",
      "1 scale 9 0.42619065789079724 0.3271687059922361\n",
      "1 0.01 3 0.7925525316719645 0.19472035978218577\n",
      "1 0.01 3 0.8276772620082233 0.09825320548907897\n",
      "1 0.01 4 0.7243831294072804 0.25870750140459303\n",
      "1 0.01 4 0.7668491131994767 0.13293557343469078\n",
      "1 0.01 5 0.6513393692251818 0.3272699542372833\n",
      "1 0.01 5 0.692676867908278 0.17522634099741538\n",
      "1 0.01 6 0.5746353980456447 0.3992680604816263\n",
      "1 0.01 6 0.6184062627570857 0.21757319037295497\n",
      "1 0.01 7 0.5042161142360486 0.46536705117803506\n",
      "1 0.01 7 0.5404267289148446 0.26203475854343006\n",
      "1 0.01 8 0.4388073159447188 0.526762954627038\n",
      "1 0.01 8 0.4557497390755174 0.3103150132552435\n",
      "1 0.01 9 0.38454889621055577 0.577692566335494\n",
      "1 0.01 9 0.37241073014801673 0.3578323917790264\n",
      "1 0.001 3 -0.04945532221597482 0.9850701942242377\n",
      "1 0.001 3 -0.1564755392796633 0.6593873224632755\n",
      "1 0.001 4 -0.06522984248558372 0.9998769319831795\n",
      "1 0.001 4 -0.17721795976045662 0.6712140223265142\n",
      "1 0.001 5 -0.06636562860926354 1.000943036498318\n",
      "1 0.001 5 -0.17873750161892032 0.672080419066775\n",
      "1 0.001 6 -0.06644744124780577 1.0010198298501005\n",
      "1 0.001 6 -0.17884499606351545 0.6721417091430402\n",
      "1 0.001 7 -0.06645370368440018 1.00102570807998\n",
      "1 0.001 7 -0.17885301149845545 0.6721462793012528\n",
      "1 0.001 8 -0.06645420414564485 1.0010261778374294\n",
      "1 0.001 8 -0.17885362331350674 0.672146628139663\n",
      "1 0.001 9 -0.06653310679822022 1.001100239733779\n",
      "1 0.001 9 -0.17901965681604093 0.6722412954135971\n",
      "1 0.5 3 0.9914468687519751 0.008028388137502207\n",
      "1 0.5 3 0.7397344739445716 0.148395519426273\n",
      "1 0.5 4 0.9911950386667515 0.008264768196482562\n",
      "1 0.5 4 0.695344049717058 0.17370559471988528\n",
      "1 0.5 5 0.9910354547714693 0.00841456146103896\n",
      "1 0.5 5 0.5466663223216592 0.25847713138225237\n",
      "1 0.5 6 0.9908290775150721 0.008608277267456783\n",
      "1 0.5 6 0.26703772080051213 0.4179128899249941\n",
      "1 0.5 7 0.9906196819314921 0.00880482622368237\n",
      "1 0.5 7 -0.18336998856493447 0.6747217228038008\n",
      "1 0.5 8 0.99047820010738 0.008937627997142367\n",
      "1 0.5 8 -0.8734590793830275 1.0681896193570541\n",
      "1 0.5 9 0.9903324834766924 0.009074404767581708\n",
      "1 0.5 9 -1.9317578692507316 1.6715995331124702\n",
      "1 0.8 3 0.991446447139242 0.0080287838838747\n",
      "1 0.8 3 0.739727403261097 0.14839955091581683\n",
      "1 0.8 4 0.9911941407771787 0.00826561099963696\n",
      "1 0.8 4 0.6953698527579589 0.1736908826075463\n",
      "1 0.8 5 0.9910348262787068 0.008415151395145223\n",
      "1 0.8 5 0.5466172205710247 0.25850512771315565\n",
      "1 0.8 6 0.9908291303855044 0.008608227640678227\n",
      "1 0.8 6 0.2669800880847557 0.417945750353804\n",
      "1 0.8 7 0.9906198641812156 0.008804655155160651\n",
      "1 0.8 7 -0.18340438085037092 0.6747413322432028\n",
      "1 0.8 8 0.990476762035357 0.00893897784201616\n",
      "1 0.8 8 -0.8733666274232188 1.0681369060499724\n",
      "1 0.8 9 0.9903329862797715 0.009073932811971648\n",
      "1 0.8 9 -1.931743664010503 1.6715914337147735\n",
      "12 scale 3 0.9884040818627662 0.010884497024164396\n",
      "12 scale 3 0.7768391943131484 0.12723953178660025\n",
      "12 scale 4 0.9855562840624824 0.013557579596477605\n",
      "12 scale 4 0.7430544508461832 0.14650256916019375\n",
      "12 scale 5 0.9755944940237143 0.022908203906609814\n",
      "12 scale 5 0.6538799606152184 0.1973471623645158\n",
      "12 scale 6 0.9609851822789672 0.03662121984281266\n",
      "12 scale 6 0.517698439741163 0.27499374058272147\n",
      "12 scale 7 0.9411617477323928 0.05522846696006234\n",
      "12 scale 7 0.378748821820193 0.3542186038904851\n",
      "12 scale 8 0.9180701561312399 0.07690336644550538\n",
      "12 scale 8 0.20309880987333384 0.45436892020450226\n",
      "12 scale 9 0.8942864333069288 0.09922793421504976\n",
      "12 scale 9 -0.06743060483178209 0.6086165980421794\n",
      "12 0.01 3 0.9482246898431833 0.048598843373819665\n",
      "12 0.01 3 0.8252368352755394 0.09964466289070682\n",
      "12 0.01 4 0.9290783386682031 0.06657054685786923\n",
      "12 0.01 4 0.8093470973573559 0.10870451014613632\n",
      "12 0.01 5 0.8797277699594223 0.1128934090835665\n",
      "12 0.01 5 0.753745898309883 0.14040662966394038\n",
      "12 0.01 6 0.8209219383034484 0.16809144446877047\n",
      "12 0.01 6 0.6742052293511627 0.18575830979052296\n",
      "12 0.01 7 0.7616871203042981 0.22369214745825128\n",
      "12 0.01 7 0.6231019017253452 0.21489587926574086\n",
      "12 0.01 8 0.7080853443653612 0.2740054011215322\n",
      "12 0.01 8 0.5597770589784301 0.2510017864691952\n",
      "12 0.01 9 0.6630728410964903 0.3162563425374649\n",
      "12 0.01 9 0.5064092930367221 0.28143047008153393\n",
      "12 0.001 3 0.11472673847634696 0.8309608662798916\n",
      "12 0.001 3 0.07022169440799741 0.5301314265502104\n",
      "12 0.001 4 -0.051958738873601584 0.9874200237795783\n",
      "12 0.001 4 -0.15954679234739477 0.6611384579332051\n",
      "12 0.001 5 -0.06539175382489448 1.000028909900758\n",
      "12 0.001 5 -0.17746088199224896 0.6713525292248859\n",
      "12 0.001 6 -0.06637255304439127 1.0009495361124625\n",
      "12 0.001 6 -0.1787495338134395 0.6720872794596306\n",
      "12 0.001 7 -0.06644769514022131 1.0010200681659636\n",
      "12 0.001 7 -0.17884571017351303 0.6721421163069302\n",
      "12 0.001 8 -0.06645370061660927 1.0010257052004012\n",
      "12 0.001 8 -0.17885305188907652 0.6721463023307613\n",
      "12 0.001 9 -0.06653305645659469 1.001100192480662\n",
      "12 0.001 9 -0.17901959801828426 0.6722412618888972\n",
      "12 0.5 3 0.9914468687519751 0.008028388137502207\n",
      "12 0.5 3 0.7397344739445716 0.148395519426273\n",
      "12 0.5 4 0.9911950386667515 0.008264768196482562\n",
      "12 0.5 4 0.695344049717058 0.17370559471988528\n",
      "12 0.5 5 0.9910354547714693 0.00841456146103896\n",
      "12 0.5 5 0.5466663223216592 0.25847713138225237\n",
      "12 0.5 6 0.9908290775150721 0.008608277267456783\n",
      "12 0.5 6 0.26703772080051213 0.4179128899249941\n",
      "12 0.5 7 0.9906196819314921 0.00880482622368237\n",
      "12 0.5 7 -0.18336998856493447 0.6747217228038008\n",
      "12 0.5 8 0.99047820010738 0.008937627997142367\n",
      "12 0.5 8 -0.8734590793830275 1.0681896193570541\n",
      "12 0.5 9 0.9903324834766924 0.009074404767581708\n",
      "12 0.5 9 -1.9317578692507316 1.6715995331124702\n",
      "12 0.8 3 0.991446447139242 0.0080287838838747\n",
      "12 0.8 3 0.739727403261097 0.14839955091581683\n",
      "12 0.8 4 0.9911941407771787 0.00826561099963696\n",
      "12 0.8 4 0.6953698527579589 0.1736908826075463\n",
      "12 0.8 5 0.9910348262787068 0.008415151395145223\n",
      "12 0.8 5 0.5466172205710247 0.25850512771315565\n",
      "12 0.8 6 0.9908291303855044 0.008608227640678227\n",
      "12 0.8 6 0.2669800880847557 0.417945750353804\n",
      "12 0.8 7 0.9906198641812156 0.008804655155160651\n",
      "12 0.8 7 -0.18340438085037092 0.6747413322432028\n",
      "12 0.8 8 0.990476762035357 0.00893897784201616\n",
      "12 0.8 8 -0.8733666274232188 1.0681369060499724\n",
      "12 0.8 9 0.9903329862797715 0.009073932811971648\n",
      "12 0.8 9 -1.931743664010503 1.6715914337147735\n",
      "31 scale 3 0.9914453451368872 0.008029818277288853\n",
      "31 scale 3 0.7397331354289072 0.14839628260736074\n",
      "31 scale 4 0.9911940185732802 0.008265725706204692\n",
      "31 scale 4 0.6953633527185187 0.17369458873314678\n",
      "31 scale 5 0.9892633540785846 0.010077942013570505\n",
      "31 scale 5 0.5667716041072146 0.24701370870389247\n",
      "31 scale 6 0.9812450240514188 0.017604339517121145\n",
      "31 scale 6 0.37331125059371184 0.3573189422979589\n",
      "31 scale 7 0.9700263444888598 0.028134741928435222\n",
      "31 scale 7 0.11681075192174684 0.5035677571541299\n",
      "31 scale 8 0.9567889872448955 0.04055997413726674\n",
      "31 scale 8 -0.15208442773552155 0.6568836436690549\n",
      "31 scale 9 0.9415976143973946 0.05481934114854838\n",
      "31 scale 9 -0.4224885435016785 0.8110598798470848\n",
      "31 0.01 3 0.9856872865374238 0.013434614253692181\n",
      "31 0.01 3 0.7890966561712448 0.12025069831776596\n",
      "31 0.01 4 0.9720095047275141 0.026273250543224054\n",
      "31 0.01 4 0.7577715265690379 0.13811133836820744\n",
      "31 0.01 5 0.937976292468332 0.05821849137485603\n",
      "31 0.01 5 0.7278562685433092 0.1551681123512265\n",
      "31 0.01 6 0.8862466573220916 0.10677446194543463\n",
      "31 0.01 6 0.6582648560161171 0.1948470278268834\n",
      "31 0.01 7 0.8289901788439799 0.16051819851149896\n",
      "31 0.01 7 0.5766259003457599 0.24139508747862928\n",
      "31 0.01 8 0.7723127882353332 0.21371837482495293\n",
      "31 0.01 8 0.48895185407142283 0.29138417298783553\n",
      "31 0.01 9 0.720156157027743 0.26267514482375176\n",
      "31 0.01 9 0.4435425115223188 0.3172752046450391\n",
      "31 0.001 3 0.284803543403472 0.6713184425235021\n",
      "31 0.001 3 0.30598759014684485 0.3957048542283895\n",
      "31 0.001 4 -0.025640691867533816 0.9627166151379148\n",
      "31 0.001 4 -0.12075324056796743 0.6390195497783382\n",
      "31 0.001 5 -0.06359040737519805 0.998338077847688\n",
      "31 0.001 5 -0.17500218127071787 0.6699506525483426\n",
      "31 0.001 6 -0.06624323179423208 1.0008281488496464\n",
      "31 0.001 6 -0.17858468301116948 0.6719932865255627\n",
      "31 0.001 7 -0.06643731700083189 1.0010103267357497\n",
      "31 0.001 7 -0.17883309907716738 0.6721349258417881\n",
      "31 0.001 8 -0.06645283088692411 1.0010248888294973\n",
      "31 0.001 8 -0.17885206488543903 0.672145739571184\n",
      "31 0.001 9 -0.0665329695029 1.001100110861663\n",
      "31 0.001 9 -0.17901949645854187 0.6722412039826084\n",
      "31 0.5 3 0.9914468687519751 0.008028388137502207\n",
      "31 0.5 3 0.7397344739445716 0.148395519426273\n",
      "31 0.5 4 0.9911950386667515 0.008264768196482562\n",
      "31 0.5 4 0.695344049717058 0.17370559471988528\n",
      "31 0.5 5 0.9910354547714693 0.00841456146103896\n",
      "31 0.5 5 0.5466663223216592 0.25847713138225237\n",
      "31 0.5 6 0.9908290775150721 0.008608277267456783\n",
      "31 0.5 6 0.26703772080051213 0.4179128899249941\n",
      "31 0.5 7 0.9906196819314921 0.00880482622368237\n",
      "31 0.5 7 -0.18336998856493447 0.6747217228038008\n",
      "31 0.5 8 0.99047820010738 0.008937627997142367\n",
      "31 0.5 8 -0.8734590793830275 1.0681896193570541\n",
      "31 0.5 9 0.9903324834766924 0.009074404767581708\n",
      "31 0.5 9 -1.9317578692507316 1.6715995331124702\n",
      "31 0.8 3 0.991446447139242 0.0080287838838747\n",
      "31 0.8 3 0.739727403261097 0.14839955091581683\n",
      "31 0.8 4 0.9911941407771787 0.00826561099963696\n",
      "31 0.8 4 0.6953698527579589 0.1736908826075463\n",
      "31 0.8 5 0.9910348262787068 0.008415151395145223\n",
      "31 0.8 5 0.5466172205710247 0.25850512771315565\n",
      "31 0.8 6 0.9908291303855044 0.008608227640678227\n",
      "31 0.8 6 0.2669800880847557 0.417945750353804\n",
      "31 0.8 7 0.9906198641812156 0.008804655155160651\n",
      "31 0.8 7 -0.18340438085037092 0.6747413322432028\n",
      "31 0.8 8 0.990476762035357 0.00893897784201616\n",
      "31 0.8 8 -0.8733666274232188 1.0681369060499724\n",
      "31 0.8 9 0.9903329862797715 0.009073932811971648\n",
      "31 0.8 9 -1.931743664010503 1.6715914337147735\n",
      "55 scale 3 0.9914453451368872 0.008029818277288853\n",
      "55 scale 3 0.7397331354289072 0.14839628260736074\n",
      "55 scale 4 0.9911940185732802 0.008265725706204692\n",
      "55 scale 4 0.6953633527185187 0.17369458873314678\n",
      "55 scale 5 0.9908585282785851 0.008580633337582296\n",
      "55 scale 5 0.5510600584554974 0.25597195612648665\n",
      "55 scale 6 0.9871934034353396 0.012020899125713634\n",
      "55 scale 6 0.29406762191642777 0.4025012590535168\n",
      "55 scale 7 0.9789277091922803 0.019779484804440417\n",
      "55 scale 7 -0.03229982408698562 0.5885860909846895\n",
      "55 scale 8 0.9677117203461081 0.030307361577494765\n",
      "55 scale 8 -0.3931129458520424 0.794310803864019\n",
      "55 scale 9 0.9552752221377228 0.04198086824925595\n",
      "55 scale 9 -0.7821499238968097 1.0161279046839173\n",
      "55 0.01 3 0.9905862745340743 0.008836184044035618\n",
      "55 0.01 3 0.7568354326048023 0.13864507079201277\n",
      "55 0.01 4 0.9845254368650282 0.014525183292905147\n",
      "55 0.01 4 0.7452971871808061 0.1452238288354315\n",
      "55 0.01 5 0.962505202245187 0.03519445461360101\n",
      "55 0.01 5 0.6864924598960116 0.17875250311820592\n",
      "55 0.01 6 0.9206603045962654 0.07447212616542874\n",
      "55 0.01 6 0.635100271310193 0.20805477236312064\n",
      "55 0.01 7 0.870703292005883 0.12136422633731495\n",
      "55 0.01 7 0.5268993366639876 0.2697476678555968\n",
      "55 0.01 8 0.8123359642698067 0.17615066045432065\n",
      "55 0.01 8 0.4338740524321514 0.32278786715736707\n",
      "55 0.01 9 0.7588662446495937 0.22633995958539793\n",
      "55 0.01 9 0.3481149700089049 0.37168509828358204\n",
      "55 0.001 3 0.38879192921368455 0.5737098476279779\n",
      "55 0.001 3 0.4389484569290667 0.319894595418649\n",
      "55 0.001 4 0.001633372960417434 0.9371158413187649\n",
      "55 0.001 4 -0.08314090495405546 0.6175741353016123\n",
      "55 0.001 5 -0.06166179477022893 0.9965277875445728\n",
      "55 0.001 5 -0.17261926793892401 0.6685919875458021\n",
      "55 0.001 6 -0.066079934945664 1.0006748704251816\n",
      "55 0.001 6 -0.1783765201942864 0.6718745983926977\n",
      "55 0.001 7 -0.0664242082339972 1.0009980222048005\n",
      "55 0.001 7 -0.17881716978381812 0.6721258434412242\n",
      "55 0.001 8 -0.06645173228514212 1.0010238576280275\n",
      "55 0.001 8 -0.17885081814797932 0.6721450287192485\n",
      "55 0.001 9 -0.06653285966669342 1.001100007764017\n",
      "55 0.001 9 -0.17901936817258557 0.672241130837842\n",
      "55 0.5 3 0.9914468687519751 0.008028388137502207\n",
      "55 0.5 3 0.7397344739445716 0.148395519426273\n",
      "55 0.5 4 0.9911950386667515 0.008264768196482562\n",
      "55 0.5 4 0.695344049717058 0.17370559471988528\n",
      "55 0.5 5 0.9910354547714693 0.00841456146103896\n",
      "55 0.5 5 0.5466663223216592 0.25847713138225237\n",
      "55 0.5 6 0.9908290775150721 0.008608277267456783\n",
      "55 0.5 6 0.26703772080051213 0.4179128899249941\n",
      "55 0.5 7 0.9906196819314921 0.00880482622368237\n",
      "55 0.5 7 -0.18336998856493447 0.6747217228038008\n",
      "55 0.5 8 0.99047820010738 0.008937627997142367\n",
      "55 0.5 8 -0.8734590793830275 1.0681896193570541\n",
      "55 0.5 9 0.9903324834766924 0.009074404767581708\n",
      "55 0.5 9 -1.9317578692507316 1.6715995331124702\n",
      "55 0.8 3 0.991446447139242 0.0080287838838747\n",
      "55 0.8 3 0.739727403261097 0.14839955091581683\n",
      "55 0.8 4 0.9911941407771787 0.00826561099963696\n",
      "55 0.8 4 0.6953698527579589 0.1736908826075463\n",
      "55 0.8 5 0.9910348262787068 0.008415151395145223\n",
      "55 0.8 5 0.5466172205710247 0.25850512771315565\n",
      "55 0.8 6 0.9908291303855044 0.008608227640678227\n",
      "55 0.8 6 0.2669800880847557 0.417945750353804\n",
      "55 0.8 7 0.9906198641812156 0.008804655155160651\n",
      "55 0.8 7 -0.18340438085037092 0.6747413322432028\n",
      "55 0.8 8 0.990476762035357 0.00893897784201616\n",
      "55 0.8 8 -0.8733666274232188 1.0681369060499724\n",
      "55 0.8 9 0.9903329862797715 0.009073932811971648\n",
      "55 0.8 9 -1.931743664010503 1.6715914337147735\n",
      "100 scale 3 0.9914453451368872 0.008029818277288853\n",
      "100 scale 3 0.7397331354289072 0.14839628260736074\n",
      "100 scale 4 0.9911940185732802 0.008265725706204692\n",
      "100 scale 4 0.6953633527185187 0.17369458873314678\n",
      "100 scale 5 0.9910346355895652 0.008415330385318309\n",
      "100 scale 5 0.5466173254564339 0.2585050679106723\n",
      "100 scale 6 0.9899200182126441 0.009461564877369778\n",
      "100 scale 6 0.29769678333704463 0.4004320211400041\n",
      "100 scale 7 0.9851556562919428 0.013933628454759447\n",
      "100 scale 7 -0.12463634562304238 0.6412335786601806\n",
      "100 scale 8 0.977352080899534 0.021258446734028377\n",
      "100 scale 8 -0.6567479831108853 0.9446275165148486\n",
      "100 scale 9 0.9665585424791104 0.03138979083519751\n",
      "100 scale 9 -1.1837598475433788 1.2451137182472016\n",
      "100 0.01 3 0.9914450846012571 0.00803006282879884\n",
      "100 0.01 3 0.7397960554751623 0.1483604075028555\n",
      "100 0.01 4 0.990775612350731 0.008658462290779734\n",
      "100 0.01 4 0.7107425385690915 0.16492584280187464\n",
      "100 0.01 5 0.9788626728377372 0.01984053111393569\n",
      "100 0.01 5 0.6451218529921265 0.20234077004516998\n",
      "100 0.01 6 0.9514154179263085 0.04560386963265644\n",
      "100 0.01 6 0.5553504116827072 0.2535257266725774\n",
      "100 0.01 7 0.9060603001835427 0.08817640578368553\n",
      "100 0.01 7 0.4870700373001122 0.29245712790997236\n",
      "100 0.01 8 0.8565004835836623 0.13469567833420848\n",
      "100 0.01 8 0.35607307494725515 0.3671476279014164\n",
      "100 0.01 9 0.8005067443355607 0.18725414597816734\n",
      "100 0.01 9 0.2621049224590405 0.4207254221231763\n",
      "100 0.001 3 0.4930177655909641 0.47587836999388644\n",
      "100 0.001 3 0.5671456950711458 0.24680041336760025\n",
      "100 0.001 4 0.050152613739368856 0.8915733042274163\n",
      "100 0.001 4 -0.014331999194462819 0.5783413814824468\n",
      "100 0.001 5 -0.057687861734992296 0.9927976592542244\n",
      "100 0.001 5 -0.16738293674335236 0.6656063901083243\n",
      "100 0.001 6 -0.06577392277425287 1.0003876324049004\n",
      "100 0.001 6 -0.17798642484750893 0.6716521778420849\n",
      "100 0.001 7 -0.06639963068581278 1.0009749525136467\n",
      "100 0.001 7 -0.17878730390094244 0.6721088148194561\n",
      "100 0.001 8 -0.06644967241924604 1.0010219241369533\n",
      "100 0.001 8 -0.17884848052720725 0.6721436958786917\n",
      "100 0.001 9 -0.06653265372392614 1.0010998144560435\n",
      "100 0.001 9 -0.17901912763651895 0.6722409936914627\n",
      "100 0.5 3 0.9914468687519751 0.008028388137502207\n",
      "100 0.5 3 0.7397344739445716 0.148395519426273\n",
      "100 0.5 4 0.9911950386667515 0.008264768196482562\n",
      "100 0.5 4 0.695344049717058 0.17370559471988528\n",
      "100 0.5 5 0.9910354547714693 0.00841456146103896\n",
      "100 0.5 5 0.5466663223216592 0.25847713138225237\n",
      "100 0.5 6 0.9908290775150721 0.008608277267456783\n",
      "100 0.5 6 0.26703772080051213 0.4179128899249941\n",
      "100 0.5 7 0.9906196819314921 0.00880482622368237\n",
      "100 0.5 7 -0.18336998856493447 0.6747217228038008\n",
      "100 0.5 8 0.99047820010738 0.008937627997142367\n",
      "100 0.5 8 -0.8734590793830275 1.0681896193570541\n",
      "100 0.5 9 0.9903324834766924 0.009074404767581708\n",
      "100 0.5 9 -1.9317578692507316 1.6715995331124702\n",
      "100 0.8 3 0.991446447139242 0.0080287838838747\n",
      "100 0.8 3 0.739727403261097 0.14839955091581683\n",
      "100 0.8 4 0.9911941407771787 0.00826561099963696\n",
      "100 0.8 4 0.6953698527579589 0.1736908826075463\n",
      "100 0.8 5 0.9910348262787068 0.008415151395145223\n",
      "100 0.8 5 0.5466172205710247 0.25850512771315565\n",
      "100 0.8 6 0.9908291303855044 0.008608227640678227\n",
      "100 0.8 6 0.2669800880847557 0.417945750353804\n",
      "100 0.8 7 0.9906198641812156 0.008804655155160651\n",
      "100 0.8 7 -0.18340438085037092 0.6747413322432028\n",
      "100 0.8 8 0.990476762035357 0.00893897784201616\n",
      "100 0.8 8 -0.8733666274232188 1.0681369060499724\n",
      "100 0.8 9 0.9903329862797715 0.009073932811971648\n",
      "100 0.8 9 -1.931743664010503 1.6715914337147735\n"
     ]
    }
   ],
   "source": [
    "for c in CC:\n",
    "    for g in gamma:\n",
    "        for d in degree:\n",
    "            svr = SVR(kernel='poly', C=c, gamma=g, degree=d)\n",
    "            svr.fit(X_train, y_train)\n",
    "            y_pred = svr.predict(X_vld)\n",
    "            print(c,g,d,r2_score(y_train, svr.predict(X_train)), mean_squared_error(y_train, svr.predict(X_train)))\n",
    "            print(c,g,d,r2_score(y_vld, y_pred), mean_squared_error(y_vld, y_pred))"
   ]
  },
  {
   "cell_type": "code",
   "execution_count": 409,
   "metadata": {},
   "outputs": [
    {
     "name": "stdout",
     "output_type": "stream",
     "text": [
      "R2: 0.9905862745340743\n",
      "MSE: 0.008836184044035618\n",
      "R2: 0.7568354326048023\n",
      "MSE: 0.13864507079201277\n"
     ]
    }
   ],
   "source": [
    "svr = SVR(kernel='poly', C=55, gamma=0.01, degree=3)\n",
    "svr.fit(X_train, y_train)\n",
    "y_pred = svr.predict(X_vld)\n",
    "\n",
    "evaluate_model(y_train, svr.predict(X_train))\n",
    "evaluate_model(y_vld, y_pred)"
   ]
  },
  {
   "cell_type": "markdown",
   "metadata": {},
   "source": [
    "##### kernel linear"
   ]
  },
  {
   "cell_type": "code",
   "execution_count": null,
   "metadata": {},
   "outputs": [],
   "source": [
    "for c in CC:\n",
    "    svr = SVR(kernel='linear', C=c)\n",
    "    svr.fit(X_train, y_train)\n",
    "    y_pred = svr.predict(X_vld)\n",
    "    print(c,r2_score(y_train, svr.predict(X_train)), mean_squared_error(y_train, svr.predict(X_train)))\n",
    "    print(c,r2_score(y_vld, y_pred), mean_squared_error(y_vld, y_pred))"
   ]
  },
  {
   "cell_type": "code",
   "execution_count": 412,
   "metadata": {},
   "outputs": [
    {
     "name": "stdout",
     "output_type": "stream",
     "text": [
      "R2: 0.8516385317358852\n",
      "MSE: 0.1392593445995675\n",
      "R2: 0.8743348417987309\n",
      "MSE: 0.07165046676635393\n"
     ]
    },
    {
     "data": {
      "text/plain": [
       "(None, None)"
      ]
     },
     "execution_count": 412,
     "metadata": {},
     "output_type": "execute_result"
    }
   ],
   "source": [
    "svr = SVR(kernel='linear', C=0.3)\n",
    "svr.fit(X_train, y_train)\n",
    "y_pred = svr.predict(X_vld)\n",
    "evaluate_model(y_train, svr.predict(X_train)), evaluate_model(y_vld, y_pred)"
   ]
  },
  {
   "cell_type": "markdown",
   "metadata": {},
   "source": [
    "##### kernel rbf"
   ]
  },
  {
   "cell_type": "code",
   "execution_count": 413,
   "metadata": {},
   "outputs": [
    {
     "name": "stdout",
     "output_type": "stream",
     "text": [
      "0.3 scale 0.8045060630326384 0.18350018946158464\n",
      "0.3 scale 0.8336726764356613 0.09483480178567819\n",
      "0.3 0.01 0.7925317976549022 0.1947398217466755\n",
      "0.3 0.01 0.8307100575416425 0.09652399734032255\n",
      "0.3 0.001 0.5909904771874784 0.3839163817147969\n",
      "0.3 0.001 0.629346135327827 0.2113356064055468\n",
      "0.3 0.5 0.29175188018157083 0.6647963931187839\n",
      "0.3 0.5 -0.14394749345822921 0.6522442102146255\n",
      "0.3 0.8 0.29131607817644956 0.6652054582373652\n",
      "0.3 0.8 -0.14601042304665945 0.6534204301791157\n",
      "0.5 scale 0.841571112705167 0.14870911745791646\n",
      "0.5 scale 0.8559170509482046 0.08215173322822962\n",
      "0.5 0.01 0.8273207100872622 0.16208524369924326\n",
      "0.5 0.01 0.8572382946456394 0.0813984000928694\n",
      "0.5 0.001 0.670286671646571 0.30948508766778277\n",
      "0.5 0.001 0.721374498234134 0.15886382144651018\n",
      "0.5 0.5 0.4608240884839112 0.5060969329848992\n",
      "0.5 0.5 -0.10696150085437961 0.6311559175500963\n",
      "0.5 0.8 0.46066292284811583 0.5062482109486147\n",
      "0.5 0.8 -0.10956092771096193 0.6326380320062035\n",
      "1 scale 0.8829635309115393 0.10985616528472159\n",
      "1 scale 0.8783990643385635 0.06933317018081232\n",
      "1 0.01 0.8648314492308302 0.12687582571694542\n",
      "1 0.01 0.8760797943451105 0.0706555476796092\n",
      "1 0.001 0.7357335217049081 0.2480534669655314\n",
      "1 0.001 0.7878104457827982 0.12098405652151187\n",
      "1 0.5 0.7119603504971201 0.27036813047072294\n",
      "1 0.5 -0.049524878673704364 0.5984072953573257\n",
      "1 0.8 0.7118380236954575 0.2704829524014157\n",
      "1 0.8 -0.0524730154930404 0.6000882336716529\n",
      "12 scale 0.9787291047426631 0.019965904673506604\n",
      "12 scale 0.8270821874341563 0.0985924989862025\n",
      "12 0.01 0.9548725881628696 0.04235880022922098\n",
      "12 0.01 0.8383173662074966 0.0921865403669968\n",
      "12 0.001 0.8484521026268578 0.14225028311297042\n",
      "12 0.001 0.8789375977661431 0.06902611473276558\n",
      "12 0.5 0.9899254619242334 0.009456455142901775\n",
      "12 0.5 0.00025149019938797146 0.5700263175688837\n",
      "12 0.8 0.9899255074014652 0.009456412455743392\n",
      "12 0.8 -0.0029850851401045375 0.571871714790504\n",
      "31 scale 0.9914604183340033 0.008015669835810185\n",
      "31 scale 0.7845088664464237 0.12286651705316136\n",
      "31 0.01 0.9862668605487495 0.012890597684508042\n",
      "31 0.01 0.7959671205602472 0.11633336763183943\n",
      "31 0.001 0.8729028945119894 0.11929957163307167\n",
      "31 0.001 0.8835157211846196 0.06641580743245207\n",
      "31 0.5 0.9899254619242334 0.009456455142901775\n",
      "31 0.5 0.00025149019938797146 0.5700263175688837\n",
      "31 0.8 0.9899255074014652 0.009456412455743392\n",
      "31 0.8 -0.0029850851401045375 0.571871714790504\n",
      "55 scale 0.9914604183340033 0.008015669835810185\n",
      "55 scale 0.7845088664464237 0.12286651705316136\n",
      "55 0.01 0.9912210058666002 0.008240394110176213\n",
      "55 0.01 0.7634573418966002 0.13486945869369468\n",
      "55 0.001 0.8850004988912958 0.10794416731685161\n",
      "55 0.001 0.8823310838349099 0.0670912517661919\n",
      "55 0.5 0.9899254619242334 0.009456455142901775\n",
      "55 0.5 0.00025149019938797146 0.5700263175688837\n",
      "55 0.8 0.9899255074014652 0.009456412455743392\n",
      "55 0.8 -0.0029850851401045375 0.571871714790504\n",
      "100 scale 0.9914604183340033 0.008015669835810185\n",
      "100 scale 0.7845088664464237 0.12286651705316136\n",
      "100 0.01 0.9913199211597584 0.00814754736865188\n",
      "100 0.01 0.7581139740974236 0.137916085160373\n",
      "100 0.001 0.8974283982383836 0.0962787319576934\n",
      "100 0.001 0.8813544637653162 0.06764809094772302\n",
      "100 0.5 0.9899254619242334 0.009456455142901775\n",
      "100 0.5 0.00025149019938797146 0.5700263175688837\n",
      "100 0.8 0.9899255074014652 0.009456412455743392\n",
      "100 0.8 -0.0029850851401045375 0.571871714790504\n"
     ]
    }
   ],
   "source": [
    "for c in CC:\n",
    "    for g in gamma:\n",
    "        svr = SVR(kernel='rbf', C=c, gamma=g)\n",
    "        svr.fit(X_train, y_train)\n",
    "        y_pred = svr.predict(X_vld)\n",
    "        print(c,g,r2_score(y_train, svr.predict(X_train)), mean_squared_error(y_train, svr.predict(X_train)))\n",
    "        print(c,g,r2_score(y_vld, y_pred), mean_squared_error(y_vld, y_pred))"
   ]
  },
  {
   "cell_type": "code",
   "execution_count": 414,
   "metadata": {},
   "outputs": [
    {
     "name": "stdout",
     "output_type": "stream",
     "text": [
      "R2: 0.9787291047426631\n",
      "MSE: 0.019965904673506604\n",
      "R2: 0.8270821874341563\n",
      "MSE: 0.0985924989862025\n"
     ]
    },
    {
     "data": {
      "text/plain": [
       "(None, None)"
      ]
     },
     "execution_count": 414,
     "metadata": {},
     "output_type": "execute_result"
    }
   ],
   "source": [
    "svr = SVR(kernel='rbf', C=12, gamma='scale')\n",
    "svr.fit(X_train, y_train)\n",
    "y_pred = svr.predict(X_vld)\n",
    "evaluate_model(y_train, svr.predict(X_train)), evaluate_model(y_vld, y_pred)"
   ]
  },
  {
   "cell_type": "code",
   "execution_count": null,
   "metadata": {},
   "outputs": [],
   "source": [
    "# kernel = ['linear', 'poly', 'rbf']\n",
    "# gamma = ['scale', 0.01, 0.001, 0.5, 0.8]\n",
    "# CC = [0.3, 0.5, 1, 12, 31, 55, 100]\n",
    "# degree = [3, 4, 5, 6, 7, 8, 9]\n",
    "# para_svr = {'kernel': kernel, 'gamma': gamma, 'C': CC, 'degree': degree}\n",
    "# grid_search = GridSearchCV(SVR(), para_svr, cv=5, scoring='r2', n_jobs=-1)\n",
    "# grid_search.fit(X_train, y_train)\n",
    "# print(grid_search.best_params_)\n",
    "# print(r2_score(y_vld, grid_search.predict(X_vld)))\n",
    "# print(r2_score(y_train, grid_search.predict(X_train)))\n",
    "# print(mean_squared_error(y_vld, grid_search.predict(X_vld)))"
   ]
  },
  {
   "cell_type": "code",
   "execution_count": 415,
   "metadata": {},
   "outputs": [
    {
     "data": {
      "text/html": [
       "<table class=\"simpletable\">\n",
       "<caption>OLS Regression Results</caption>\n",
       "<tr>\n",
       "  <th>Dep. Variable:</th>        <td>SalePrice</td>    <th>  R-squared:         </th> <td>   0.873</td> \n",
       "</tr>\n",
       "<tr>\n",
       "  <th>Model:</th>                   <td>OLS</td>       <th>  Adj. R-squared:    </th> <td>   0.851</td> \n",
       "</tr>\n",
       "<tr>\n",
       "  <th>Method:</th>             <td>Least Squares</td>  <th>  F-statistic:       </th> <td>   38.28</td> \n",
       "</tr>\n",
       "<tr>\n",
       "  <th>Date:</th>             <td>Wed, 01 Jun 2022</td> <th>  Prob (F-statistic):</th> <td>2.46e-207</td>\n",
       "</tr>\n",
       "<tr>\n",
       "  <th>Time:</th>                 <td>04:06:35</td>     <th>  Log-Likelihood:    </th> <td> -248.59</td> \n",
       "</tr>\n",
       "<tr>\n",
       "  <th>No. Observations:</th>      <td>   702</td>      <th>  AIC:               </th> <td>   713.2</td> \n",
       "</tr>\n",
       "<tr>\n",
       "  <th>Df Residuals:</th>          <td>   594</td>      <th>  BIC:               </th> <td>   1205.</td> \n",
       "</tr>\n",
       "<tr>\n",
       "  <th>Df Model:</th>              <td>   107</td>      <th>                     </th>     <td> </td>    \n",
       "</tr>\n",
       "<tr>\n",
       "  <th>Covariance Type:</th>      <td>nonrobust</td>    <th>                     </th>     <td> </td>    \n",
       "</tr>\n",
       "</table>"
      ],
      "text/plain": [
       "<class 'statsmodels.iolib.table.SimpleTable'>"
      ]
     },
     "execution_count": 415,
     "metadata": {},
     "output_type": "execute_result"
    }
   ],
   "source": [
    "OLS(y_train, X_train).fit().summary().tables[0]"
   ]
  },
  {
   "cell_type": "markdown",
   "metadata": {},
   "source": [
    "#### Regression"
   ]
  },
  {
   "cell_type": "code",
   "execution_count": 419,
   "metadata": {},
   "outputs": [
    {
     "name": "stdout",
     "output_type": "stream",
     "text": [
      "R2: 0.8733494497737302\n",
      "MSE: 0.11888041298086158\n",
      "R2: -1.3309537161709282e+21\n",
      "MSE: 7.588694939238717e+20\n"
     ]
    },
    {
     "data": {
      "text/plain": [
       "(None, None)"
      ]
     },
     "execution_count": 419,
     "metadata": {},
     "output_type": "execute_result"
    }
   ],
   "source": [
    "reg = LinearRegression()\n",
    "reg.fit(X_train, y_train)\n",
    "y_pred = reg.predict(X_vld)\n",
    "evaluate_model(y_train, reg.predict(X_train)), evaluate_model(y_vld, y_pred)"
   ]
  },
  {
   "cell_type": "code",
   "execution_count": 418,
   "metadata": {},
   "outputs": [
    {
     "name": "stdout",
     "output_type": "stream",
     "text": [
      "R2: 1.0\n",
      "MSE: 1.0847704376620805e-27\n",
      "R2: 0.7030046806395502\n",
      "MSE: 0.16933773501097354\n"
     ]
    },
    {
     "data": {
      "text/plain": [
       "(None, None)"
      ]
     },
     "execution_count": 418,
     "metadata": {},
     "output_type": "execute_result"
    }
   ],
   "source": [
    "poly_reg = PolynomialFeatures(degree=4, include_bias=False)\n",
    "X_poly = poly_reg.fit_transform(X_train)\n",
    "X_poly_vld = poly_reg.transform(X_vld)\n",
    "# ---------------------------------------------------------- #\n",
    "reg = LinearRegression()\n",
    "reg.fit(X_poly, y_train)\n",
    "y_pred = reg.predict(X_poly_vld)\n",
    "evaluate_model(y_train, reg.predict(X_poly)), evaluate_model(y_vld, y_pred)"
   ]
  },
  {
   "cell_type": "code",
   "execution_count": null,
   "metadata": {},
   "outputs": [],
   "source": [
    "poly_reg = PolynomialFeatures(degree=5, include_bias=False)\n",
    "X_poly = poly_reg.fit_transform(X_train)\n",
    "X_poly_vld = poly_reg.transform(X_vld)\n",
    "# ---------------------------------------------------------- #\n",
    "reg = LinearRegression()\n",
    "reg.fit(X_poly, y_train)\n",
    "y_pred = reg.predict(X_poly_vld)\n",
    "evaluate_model(y_train, reg.predict(X_poly)), evaluate_model(y_vld, y_pred)"
   ]
  },
  {
   "cell_type": "markdown",
   "metadata": {},
   "source": [
    "#### comparing basis exponention between SVR vs Poly Feature Regression"
   ]
  },
  {
   "cell_type": "code",
   "execution_count": 421,
   "metadata": {},
   "outputs": [
    {
     "name": "stdout",
     "output_type": "stream",
     "text": [
      "R2: 0.25370074874151427\n",
      "MSE: 0.700513049792611\n",
      "R2: -0.3457686595811582\n",
      "MSE: 0.767316525906754\n"
     ]
    }
   ],
   "source": [
    "svr = SVR(kernel='poly', C=55, gamma=0.01, degree=50)\n",
    "svr.fit(X_train, y_train)\n",
    "y_pred = svr.predict(X_vld)\n",
    "\n",
    "evaluate_model(y_train, svr.predict(X_train))\n",
    "evaluate_model(y_vld, y_pred)"
   ]
  },
  {
   "cell_type": "code",
   "execution_count": 443,
   "metadata": {},
   "outputs": [
    {
     "ename": "ValueError",
     "evalue": "Maximum allowed dimension exceeded",
     "output_type": "error",
     "traceback": [
      "\u001b[1;31m---------------------------------------------------------------------------\u001b[0m",
      "\u001b[1;31mValueError\u001b[0m                                Traceback (most recent call last)",
      "\u001b[1;32me:\\ملفات المعهد\\ML01\\Labs\\KNN and Tree and SVR\\Salim_Fathy_SVR.ipynb Cell 77'\u001b[0m in \u001b[0;36m<module>\u001b[1;34m\u001b[0m\n\u001b[0;32m      <a href='vscode-notebook-cell:/e%3A/%D9%85%D9%84%D9%81%D8%A7%D8%AA%20%D8%A7%D9%84%D9%85%D8%B9%D9%87%D8%AF/ML01/Labs/KNN%20and%20Tree%20and%20SVR/Salim_Fathy_SVR.ipynb#ch0000124?line=0'>1</a>\u001b[0m poly_reg \u001b[39m=\u001b[39m PolynomialFeatures(degree\u001b[39m=\u001b[39m\u001b[39m50\u001b[39m, include_bias\u001b[39m=\u001b[39m\u001b[39mFalse\u001b[39;00m)\n\u001b[1;32m----> <a href='vscode-notebook-cell:/e%3A/%D9%85%D9%84%D9%81%D8%A7%D8%AA%20%D8%A7%D9%84%D9%85%D8%B9%D9%87%D8%AF/ML01/Labs/KNN%20and%20Tree%20and%20SVR/Salim_Fathy_SVR.ipynb#ch0000124?line=1'>2</a>\u001b[0m X_poly \u001b[39m=\u001b[39m poly_reg\u001b[39m.\u001b[39;49mfit_transform(X_train)\n\u001b[0;32m      <a href='vscode-notebook-cell:/e%3A/%D9%85%D9%84%D9%81%D8%A7%D8%AA%20%D8%A7%D9%84%D9%85%D8%B9%D9%87%D8%AF/ML01/Labs/KNN%20and%20Tree%20and%20SVR/Salim_Fathy_SVR.ipynb#ch0000124?line=2'>3</a>\u001b[0m X_poly_vld \u001b[39m=\u001b[39m poly_reg\u001b[39m.\u001b[39mtransform(X_vld)\n\u001b[0;32m      <a href='vscode-notebook-cell:/e%3A/%D9%85%D9%84%D9%81%D8%A7%D8%AA%20%D8%A7%D9%84%D9%85%D8%B9%D9%87%D8%AF/ML01/Labs/KNN%20and%20Tree%20and%20SVR/Salim_Fathy_SVR.ipynb#ch0000124?line=3'>4</a>\u001b[0m \u001b[39m# ---------------------------------------------------------- #\u001b[39;00m\n",
      "File \u001b[1;32mc:\\Users\\SM\\AppData\\Local\\Programs\\Python\\Python310\\lib\\site-packages\\sklearn\\base.py:852\u001b[0m, in \u001b[0;36mTransformerMixin.fit_transform\u001b[1;34m(self, X, y, **fit_params)\u001b[0m\n\u001b[0;32m    <a href='file:///c%3A/Users/SM/AppData/Local/Programs/Python/Python310/lib/site-packages/sklearn/base.py?line=847'>848</a>\u001b[0m \u001b[39m# non-optimized default implementation; override when a better\u001b[39;00m\n\u001b[0;32m    <a href='file:///c%3A/Users/SM/AppData/Local/Programs/Python/Python310/lib/site-packages/sklearn/base.py?line=848'>849</a>\u001b[0m \u001b[39m# method is possible for a given clustering algorithm\u001b[39;00m\n\u001b[0;32m    <a href='file:///c%3A/Users/SM/AppData/Local/Programs/Python/Python310/lib/site-packages/sklearn/base.py?line=849'>850</a>\u001b[0m \u001b[39mif\u001b[39;00m y \u001b[39mis\u001b[39;00m \u001b[39mNone\u001b[39;00m:\n\u001b[0;32m    <a href='file:///c%3A/Users/SM/AppData/Local/Programs/Python/Python310/lib/site-packages/sklearn/base.py?line=850'>851</a>\u001b[0m     \u001b[39m# fit method of arity 1 (unsupervised transformation)\u001b[39;00m\n\u001b[1;32m--> <a href='file:///c%3A/Users/SM/AppData/Local/Programs/Python/Python310/lib/site-packages/sklearn/base.py?line=851'>852</a>\u001b[0m     \u001b[39mreturn\u001b[39;00m \u001b[39mself\u001b[39;49m\u001b[39m.\u001b[39;49mfit(X, \u001b[39m*\u001b[39;49m\u001b[39m*\u001b[39;49mfit_params)\u001b[39m.\u001b[39;49mtransform(X)\n\u001b[0;32m    <a href='file:///c%3A/Users/SM/AppData/Local/Programs/Python/Python310/lib/site-packages/sklearn/base.py?line=852'>853</a>\u001b[0m \u001b[39melse\u001b[39;00m:\n\u001b[0;32m    <a href='file:///c%3A/Users/SM/AppData/Local/Programs/Python/Python310/lib/site-packages/sklearn/base.py?line=853'>854</a>\u001b[0m     \u001b[39m# fit method of arity 2 (supervised transformation)\u001b[39;00m\n\u001b[0;32m    <a href='file:///c%3A/Users/SM/AppData/Local/Programs/Python/Python310/lib/site-packages/sklearn/base.py?line=854'>855</a>\u001b[0m     \u001b[39mreturn\u001b[39;00m \u001b[39mself\u001b[39m\u001b[39m.\u001b[39mfit(X, y, \u001b[39m*\u001b[39m\u001b[39m*\u001b[39mfit_params)\u001b[39m.\u001b[39mtransform(X)\n",
      "File \u001b[1;32mc:\\Users\\SM\\AppData\\Local\\Programs\\Python\\Python310\\lib\\site-packages\\sklearn\\preprocessing\\_polynomial.py:421\u001b[0m, in \u001b[0;36mPolynomialFeatures.transform\u001b[1;34m(self, X)\u001b[0m\n\u001b[0;32m    <a href='file:///c%3A/Users/SM/AppData/Local/Programs/Python/Python310/lib/site-packages/sklearn/preprocessing/_polynomial.py?line=416'>417</a>\u001b[0m     XP \u001b[39m=\u001b[39m sparse\u001b[39m.\u001b[39mhstack(columns, dtype\u001b[39m=\u001b[39mX\u001b[39m.\u001b[39mdtype)\u001b[39m.\u001b[39mtocsc()\n\u001b[0;32m    <a href='file:///c%3A/Users/SM/AppData/Local/Programs/Python/Python310/lib/site-packages/sklearn/preprocessing/_polynomial.py?line=417'>418</a>\u001b[0m \u001b[39melse\u001b[39;00m:\n\u001b[0;32m    <a href='file:///c%3A/Users/SM/AppData/Local/Programs/Python/Python310/lib/site-packages/sklearn/preprocessing/_polynomial.py?line=418'>419</a>\u001b[0m     \u001b[39m# Do as if _min_degree = 0 and cut down array after the\u001b[39;00m\n\u001b[0;32m    <a href='file:///c%3A/Users/SM/AppData/Local/Programs/Python/Python310/lib/site-packages/sklearn/preprocessing/_polynomial.py?line=419'>420</a>\u001b[0m     \u001b[39m# computation, i.e. use _n_out_full instead of n_output_features_.\u001b[39;00m\n\u001b[1;32m--> <a href='file:///c%3A/Users/SM/AppData/Local/Programs/Python/Python310/lib/site-packages/sklearn/preprocessing/_polynomial.py?line=420'>421</a>\u001b[0m     XP \u001b[39m=\u001b[39m np\u001b[39m.\u001b[39;49mempty(\n\u001b[0;32m    <a href='file:///c%3A/Users/SM/AppData/Local/Programs/Python/Python310/lib/site-packages/sklearn/preprocessing/_polynomial.py?line=421'>422</a>\u001b[0m         shape\u001b[39m=\u001b[39;49m(n_samples, \u001b[39mself\u001b[39;49m\u001b[39m.\u001b[39;49m_n_out_full), dtype\u001b[39m=\u001b[39;49mX\u001b[39m.\u001b[39;49mdtype, order\u001b[39m=\u001b[39;49m\u001b[39mself\u001b[39;49m\u001b[39m.\u001b[39;49morder\n\u001b[0;32m    <a href='file:///c%3A/Users/SM/AppData/Local/Programs/Python/Python310/lib/site-packages/sklearn/preprocessing/_polynomial.py?line=422'>423</a>\u001b[0m     )\n\u001b[0;32m    <a href='file:///c%3A/Users/SM/AppData/Local/Programs/Python/Python310/lib/site-packages/sklearn/preprocessing/_polynomial.py?line=424'>425</a>\u001b[0m     \u001b[39m# What follows is a faster implementation of:\u001b[39;00m\n\u001b[0;32m    <a href='file:///c%3A/Users/SM/AppData/Local/Programs/Python/Python310/lib/site-packages/sklearn/preprocessing/_polynomial.py?line=425'>426</a>\u001b[0m     \u001b[39m# for i, comb in enumerate(combinations):\u001b[39;00m\n\u001b[0;32m    <a href='file:///c%3A/Users/SM/AppData/Local/Programs/Python/Python310/lib/site-packages/sklearn/preprocessing/_polynomial.py?line=426'>427</a>\u001b[0m     \u001b[39m#     XP[:, i] = X[:, comb].prod(1)\u001b[39;00m\n\u001b[1;32m   (...)\u001b[0m\n\u001b[0;32m    <a href='file:///c%3A/Users/SM/AppData/Local/Programs/Python/Python310/lib/site-packages/sklearn/preprocessing/_polynomial.py?line=436'>437</a>\u001b[0m \n\u001b[0;32m    <a href='file:///c%3A/Users/SM/AppData/Local/Programs/Python/Python310/lib/site-packages/sklearn/preprocessing/_polynomial.py?line=437'>438</a>\u001b[0m     \u001b[39m# degree 0 term\u001b[39;00m\n\u001b[0;32m    <a href='file:///c%3A/Users/SM/AppData/Local/Programs/Python/Python310/lib/site-packages/sklearn/preprocessing/_polynomial.py?line=438'>439</a>\u001b[0m     \u001b[39mif\u001b[39;00m \u001b[39mself\u001b[39m\u001b[39m.\u001b[39minclude_bias:\n",
      "\u001b[1;31mValueError\u001b[0m: Maximum allowed dimension exceeded"
     ]
    }
   ],
   "source": [
    "poly_reg = PolynomialFeatures(degree=50, include_bias=False)\n",
    "X_poly = poly_reg.fit_transform(X_train)\n",
    "X_poly_vld = poly_reg.transform(X_vld)\n",
    "# ---------------------------------------------------------- #\n",
    "reg = LinearRegression()\n",
    "reg.fit(X_poly, y_train)\n",
    "y_pred = reg.predict(X_poly_vld)\n",
    "evaluate_model(y_train, reg.predict(X_poly)), evaluate_model(y_vld, y_pred)"
   ]
  },
  {
   "cell_type": "markdown",
   "metadata": {},
   "source": [
    "<li>\n",
    "After trying found Support Vector Regression memory consumption and running time 16.5s. because SVR is that it does not perform explicit basis expansion of the inputs but\n",
    "uses the kernel trick instead, so it is more efficient than Polynomial Feature Regression in terms of both time and memory.\n",
    "\n",
    "</li>"
   ]
  },
  {
   "cell_type": "markdown",
   "metadata": {},
   "source": []
  }
 ],
 "metadata": {
  "interpreter": {
   "hash": "665ae0994724b1013868f7e77634dfc5a85cce5f00c589345370b6c9a0cceb5a"
  },
  "kernelspec": {
   "display_name": "Python 3.10.2 64-bit",
   "language": "python",
   "name": "python3"
  },
  "language_info": {
   "codemirror_mode": {
    "name": "ipython",
    "version": 3
   },
   "file_extension": ".py",
   "mimetype": "text/x-python",
   "name": "python",
   "nbconvert_exporter": "python",
   "pygments_lexer": "ipython3",
   "version": "3.10.2"
  },
  "orig_nbformat": 4
 },
 "nbformat": 4,
 "nbformat_minor": 2
}
