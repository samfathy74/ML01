{
 "cells": [
  {
   "cell_type": "markdown",
   "metadata": {},
   "source": [
    "### Importing the libraries"
   ]
  },
  {
   "cell_type": "code",
   "execution_count": 1,
   "metadata": {},
   "outputs": [],
   "source": [
    "import numpy as np\n",
    "import pandas as pd\n",
    "import matplotlib.pyplot as plt\n",
    "import seaborn as sns\n",
    "from PreprocessingDataset import Preprocessing_Data as pp"
   ]
  },
  {
   "cell_type": "markdown",
   "metadata": {},
   "source": [
    "### Loading the dataset 🟩"
   ]
  },
  {
   "cell_type": "markdown",
   "metadata": {},
   "source": [
    "#### Load Test Dataset"
   ]
  },
  {
   "cell_type": "code",
   "execution_count": 2,
   "metadata": {},
   "outputs": [],
   "source": [
    "house_test = pd.read_csv('test.csv')"
   ]
  },
  {
   "cell_type": "code",
   "execution_count": 3,
   "metadata": {},
   "outputs": [
    {
     "data": {
      "text/html": [
       "<div>\n",
       "<style scoped>\n",
       "    .dataframe tbody tr th:only-of-type {\n",
       "        vertical-align: middle;\n",
       "    }\n",
       "\n",
       "    .dataframe tbody tr th {\n",
       "        vertical-align: top;\n",
       "    }\n",
       "\n",
       "    .dataframe thead th {\n",
       "        text-align: right;\n",
       "    }\n",
       "</style>\n",
       "<table border=\"1\" class=\"dataframe\">\n",
       "  <thead>\n",
       "    <tr style=\"text-align: right;\">\n",
       "      <th></th>\n",
       "      <th>Id</th>\n",
       "      <th>MSSubClass</th>\n",
       "      <th>MSZoning</th>\n",
       "      <th>LotFrontage</th>\n",
       "      <th>LotArea</th>\n",
       "      <th>Street</th>\n",
       "      <th>Alley</th>\n",
       "      <th>LotShape</th>\n",
       "      <th>LandContour</th>\n",
       "      <th>Utilities</th>\n",
       "      <th>...</th>\n",
       "      <th>ScreenPorch</th>\n",
       "      <th>PoolArea</th>\n",
       "      <th>PoolQC</th>\n",
       "      <th>Fence</th>\n",
       "      <th>MiscFeature</th>\n",
       "      <th>MiscVal</th>\n",
       "      <th>MoSold</th>\n",
       "      <th>YrSold</th>\n",
       "      <th>SaleType</th>\n",
       "      <th>SaleCondition</th>\n",
       "    </tr>\n",
       "  </thead>\n",
       "  <tbody>\n",
       "    <tr>\n",
       "      <th>0</th>\n",
       "      <td>1461</td>\n",
       "      <td>20</td>\n",
       "      <td>RH</td>\n",
       "      <td>80.0</td>\n",
       "      <td>11622</td>\n",
       "      <td>Pave</td>\n",
       "      <td>NaN</td>\n",
       "      <td>Reg</td>\n",
       "      <td>Lvl</td>\n",
       "      <td>AllPub</td>\n",
       "      <td>...</td>\n",
       "      <td>120</td>\n",
       "      <td>0</td>\n",
       "      <td>NaN</td>\n",
       "      <td>MnPrv</td>\n",
       "      <td>NaN</td>\n",
       "      <td>0</td>\n",
       "      <td>6</td>\n",
       "      <td>2010</td>\n",
       "      <td>WD</td>\n",
       "      <td>Normal</td>\n",
       "    </tr>\n",
       "    <tr>\n",
       "      <th>1</th>\n",
       "      <td>1462</td>\n",
       "      <td>20</td>\n",
       "      <td>RL</td>\n",
       "      <td>81.0</td>\n",
       "      <td>14267</td>\n",
       "      <td>Pave</td>\n",
       "      <td>NaN</td>\n",
       "      <td>IR1</td>\n",
       "      <td>Lvl</td>\n",
       "      <td>AllPub</td>\n",
       "      <td>...</td>\n",
       "      <td>0</td>\n",
       "      <td>0</td>\n",
       "      <td>NaN</td>\n",
       "      <td>NaN</td>\n",
       "      <td>Gar2</td>\n",
       "      <td>12500</td>\n",
       "      <td>6</td>\n",
       "      <td>2010</td>\n",
       "      <td>WD</td>\n",
       "      <td>Normal</td>\n",
       "    </tr>\n",
       "    <tr>\n",
       "      <th>2</th>\n",
       "      <td>1463</td>\n",
       "      <td>60</td>\n",
       "      <td>RL</td>\n",
       "      <td>74.0</td>\n",
       "      <td>13830</td>\n",
       "      <td>Pave</td>\n",
       "      <td>NaN</td>\n",
       "      <td>IR1</td>\n",
       "      <td>Lvl</td>\n",
       "      <td>AllPub</td>\n",
       "      <td>...</td>\n",
       "      <td>0</td>\n",
       "      <td>0</td>\n",
       "      <td>NaN</td>\n",
       "      <td>MnPrv</td>\n",
       "      <td>NaN</td>\n",
       "      <td>0</td>\n",
       "      <td>3</td>\n",
       "      <td>2010</td>\n",
       "      <td>WD</td>\n",
       "      <td>Normal</td>\n",
       "    </tr>\n",
       "    <tr>\n",
       "      <th>3</th>\n",
       "      <td>1464</td>\n",
       "      <td>60</td>\n",
       "      <td>RL</td>\n",
       "      <td>78.0</td>\n",
       "      <td>9978</td>\n",
       "      <td>Pave</td>\n",
       "      <td>NaN</td>\n",
       "      <td>IR1</td>\n",
       "      <td>Lvl</td>\n",
       "      <td>AllPub</td>\n",
       "      <td>...</td>\n",
       "      <td>0</td>\n",
       "      <td>0</td>\n",
       "      <td>NaN</td>\n",
       "      <td>NaN</td>\n",
       "      <td>NaN</td>\n",
       "      <td>0</td>\n",
       "      <td>6</td>\n",
       "      <td>2010</td>\n",
       "      <td>WD</td>\n",
       "      <td>Normal</td>\n",
       "    </tr>\n",
       "    <tr>\n",
       "      <th>4</th>\n",
       "      <td>1465</td>\n",
       "      <td>120</td>\n",
       "      <td>RL</td>\n",
       "      <td>43.0</td>\n",
       "      <td>5005</td>\n",
       "      <td>Pave</td>\n",
       "      <td>NaN</td>\n",
       "      <td>IR1</td>\n",
       "      <td>HLS</td>\n",
       "      <td>AllPub</td>\n",
       "      <td>...</td>\n",
       "      <td>144</td>\n",
       "      <td>0</td>\n",
       "      <td>NaN</td>\n",
       "      <td>NaN</td>\n",
       "      <td>NaN</td>\n",
       "      <td>0</td>\n",
       "      <td>1</td>\n",
       "      <td>2010</td>\n",
       "      <td>WD</td>\n",
       "      <td>Normal</td>\n",
       "    </tr>\n",
       "    <tr>\n",
       "      <th>...</th>\n",
       "      <td>...</td>\n",
       "      <td>...</td>\n",
       "      <td>...</td>\n",
       "      <td>...</td>\n",
       "      <td>...</td>\n",
       "      <td>...</td>\n",
       "      <td>...</td>\n",
       "      <td>...</td>\n",
       "      <td>...</td>\n",
       "      <td>...</td>\n",
       "      <td>...</td>\n",
       "      <td>...</td>\n",
       "      <td>...</td>\n",
       "      <td>...</td>\n",
       "      <td>...</td>\n",
       "      <td>...</td>\n",
       "      <td>...</td>\n",
       "      <td>...</td>\n",
       "      <td>...</td>\n",
       "      <td>...</td>\n",
       "      <td>...</td>\n",
       "    </tr>\n",
       "    <tr>\n",
       "      <th>1454</th>\n",
       "      <td>2915</td>\n",
       "      <td>160</td>\n",
       "      <td>RM</td>\n",
       "      <td>21.0</td>\n",
       "      <td>1936</td>\n",
       "      <td>Pave</td>\n",
       "      <td>NaN</td>\n",
       "      <td>Reg</td>\n",
       "      <td>Lvl</td>\n",
       "      <td>AllPub</td>\n",
       "      <td>...</td>\n",
       "      <td>0</td>\n",
       "      <td>0</td>\n",
       "      <td>NaN</td>\n",
       "      <td>NaN</td>\n",
       "      <td>NaN</td>\n",
       "      <td>0</td>\n",
       "      <td>6</td>\n",
       "      <td>2006</td>\n",
       "      <td>WD</td>\n",
       "      <td>Normal</td>\n",
       "    </tr>\n",
       "    <tr>\n",
       "      <th>1455</th>\n",
       "      <td>2916</td>\n",
       "      <td>160</td>\n",
       "      <td>RM</td>\n",
       "      <td>21.0</td>\n",
       "      <td>1894</td>\n",
       "      <td>Pave</td>\n",
       "      <td>NaN</td>\n",
       "      <td>Reg</td>\n",
       "      <td>Lvl</td>\n",
       "      <td>AllPub</td>\n",
       "      <td>...</td>\n",
       "      <td>0</td>\n",
       "      <td>0</td>\n",
       "      <td>NaN</td>\n",
       "      <td>NaN</td>\n",
       "      <td>NaN</td>\n",
       "      <td>0</td>\n",
       "      <td>4</td>\n",
       "      <td>2006</td>\n",
       "      <td>WD</td>\n",
       "      <td>Abnorml</td>\n",
       "    </tr>\n",
       "    <tr>\n",
       "      <th>1456</th>\n",
       "      <td>2917</td>\n",
       "      <td>20</td>\n",
       "      <td>RL</td>\n",
       "      <td>160.0</td>\n",
       "      <td>20000</td>\n",
       "      <td>Pave</td>\n",
       "      <td>NaN</td>\n",
       "      <td>Reg</td>\n",
       "      <td>Lvl</td>\n",
       "      <td>AllPub</td>\n",
       "      <td>...</td>\n",
       "      <td>0</td>\n",
       "      <td>0</td>\n",
       "      <td>NaN</td>\n",
       "      <td>NaN</td>\n",
       "      <td>NaN</td>\n",
       "      <td>0</td>\n",
       "      <td>9</td>\n",
       "      <td>2006</td>\n",
       "      <td>WD</td>\n",
       "      <td>Abnorml</td>\n",
       "    </tr>\n",
       "    <tr>\n",
       "      <th>1457</th>\n",
       "      <td>2918</td>\n",
       "      <td>85</td>\n",
       "      <td>RL</td>\n",
       "      <td>62.0</td>\n",
       "      <td>10441</td>\n",
       "      <td>Pave</td>\n",
       "      <td>NaN</td>\n",
       "      <td>Reg</td>\n",
       "      <td>Lvl</td>\n",
       "      <td>AllPub</td>\n",
       "      <td>...</td>\n",
       "      <td>0</td>\n",
       "      <td>0</td>\n",
       "      <td>NaN</td>\n",
       "      <td>MnPrv</td>\n",
       "      <td>Shed</td>\n",
       "      <td>700</td>\n",
       "      <td>7</td>\n",
       "      <td>2006</td>\n",
       "      <td>WD</td>\n",
       "      <td>Normal</td>\n",
       "    </tr>\n",
       "    <tr>\n",
       "      <th>1458</th>\n",
       "      <td>2919</td>\n",
       "      <td>60</td>\n",
       "      <td>RL</td>\n",
       "      <td>74.0</td>\n",
       "      <td>9627</td>\n",
       "      <td>Pave</td>\n",
       "      <td>NaN</td>\n",
       "      <td>Reg</td>\n",
       "      <td>Lvl</td>\n",
       "      <td>AllPub</td>\n",
       "      <td>...</td>\n",
       "      <td>0</td>\n",
       "      <td>0</td>\n",
       "      <td>NaN</td>\n",
       "      <td>NaN</td>\n",
       "      <td>NaN</td>\n",
       "      <td>0</td>\n",
       "      <td>11</td>\n",
       "      <td>2006</td>\n",
       "      <td>WD</td>\n",
       "      <td>Normal</td>\n",
       "    </tr>\n",
       "  </tbody>\n",
       "</table>\n",
       "<p>1459 rows × 80 columns</p>\n",
       "</div>"
      ],
      "text/plain": [
       "        Id  MSSubClass MSZoning  LotFrontage  LotArea Street Alley LotShape  \\\n",
       "0     1461          20       RH         80.0    11622   Pave   NaN      Reg   \n",
       "1     1462          20       RL         81.0    14267   Pave   NaN      IR1   \n",
       "2     1463          60       RL         74.0    13830   Pave   NaN      IR1   \n",
       "3     1464          60       RL         78.0     9978   Pave   NaN      IR1   \n",
       "4     1465         120       RL         43.0     5005   Pave   NaN      IR1   \n",
       "...    ...         ...      ...          ...      ...    ...   ...      ...   \n",
       "1454  2915         160       RM         21.0     1936   Pave   NaN      Reg   \n",
       "1455  2916         160       RM         21.0     1894   Pave   NaN      Reg   \n",
       "1456  2917          20       RL        160.0    20000   Pave   NaN      Reg   \n",
       "1457  2918          85       RL         62.0    10441   Pave   NaN      Reg   \n",
       "1458  2919          60       RL         74.0     9627   Pave   NaN      Reg   \n",
       "\n",
       "     LandContour Utilities  ... ScreenPorch PoolArea PoolQC  Fence  \\\n",
       "0            Lvl    AllPub  ...         120        0    NaN  MnPrv   \n",
       "1            Lvl    AllPub  ...           0        0    NaN    NaN   \n",
       "2            Lvl    AllPub  ...           0        0    NaN  MnPrv   \n",
       "3            Lvl    AllPub  ...           0        0    NaN    NaN   \n",
       "4            HLS    AllPub  ...         144        0    NaN    NaN   \n",
       "...          ...       ...  ...         ...      ...    ...    ...   \n",
       "1454         Lvl    AllPub  ...           0        0    NaN    NaN   \n",
       "1455         Lvl    AllPub  ...           0        0    NaN    NaN   \n",
       "1456         Lvl    AllPub  ...           0        0    NaN    NaN   \n",
       "1457         Lvl    AllPub  ...           0        0    NaN  MnPrv   \n",
       "1458         Lvl    AllPub  ...           0        0    NaN    NaN   \n",
       "\n",
       "     MiscFeature MiscVal MoSold  YrSold  SaleType  SaleCondition  \n",
       "0            NaN       0      6    2010        WD         Normal  \n",
       "1           Gar2   12500      6    2010        WD         Normal  \n",
       "2            NaN       0      3    2010        WD         Normal  \n",
       "3            NaN       0      6    2010        WD         Normal  \n",
       "4            NaN       0      1    2010        WD         Normal  \n",
       "...          ...     ...    ...     ...       ...            ...  \n",
       "1454         NaN       0      6    2006        WD         Normal  \n",
       "1455         NaN       0      4    2006        WD        Abnorml  \n",
       "1456         NaN       0      9    2006        WD        Abnorml  \n",
       "1457        Shed     700      7    2006        WD         Normal  \n",
       "1458         NaN       0     11    2006        WD         Normal  \n",
       "\n",
       "[1459 rows x 80 columns]"
      ]
     },
     "execution_count": 3,
     "metadata": {},
     "output_type": "execute_result"
    }
   ],
   "source": [
    "house_test"
   ]
  },
  {
   "cell_type": "markdown",
   "metadata": {},
   "source": [
    "#### Load Train Dataset"
   ]
  },
  {
   "cell_type": "code",
   "execution_count": 4,
   "metadata": {},
   "outputs": [],
   "source": [
    "house_train = pd.read_csv('train.csv')"
   ]
  },
  {
   "cell_type": "code",
   "execution_count": 5,
   "metadata": {},
   "outputs": [
    {
     "data": {
      "text/html": [
       "<div>\n",
       "<style scoped>\n",
       "    .dataframe tbody tr th:only-of-type {\n",
       "        vertical-align: middle;\n",
       "    }\n",
       "\n",
       "    .dataframe tbody tr th {\n",
       "        vertical-align: top;\n",
       "    }\n",
       "\n",
       "    .dataframe thead th {\n",
       "        text-align: right;\n",
       "    }\n",
       "</style>\n",
       "<table border=\"1\" class=\"dataframe\">\n",
       "  <thead>\n",
       "    <tr style=\"text-align: right;\">\n",
       "      <th></th>\n",
       "      <th>Id</th>\n",
       "      <th>MSSubClass</th>\n",
       "      <th>MSZoning</th>\n",
       "      <th>LotFrontage</th>\n",
       "      <th>LotArea</th>\n",
       "      <th>Street</th>\n",
       "      <th>Alley</th>\n",
       "      <th>LotShape</th>\n",
       "      <th>LandContour</th>\n",
       "      <th>Utilities</th>\n",
       "      <th>...</th>\n",
       "      <th>PoolArea</th>\n",
       "      <th>PoolQC</th>\n",
       "      <th>Fence</th>\n",
       "      <th>MiscFeature</th>\n",
       "      <th>MiscVal</th>\n",
       "      <th>MoSold</th>\n",
       "      <th>YrSold</th>\n",
       "      <th>SaleType</th>\n",
       "      <th>SaleCondition</th>\n",
       "      <th>SalePrice</th>\n",
       "    </tr>\n",
       "  </thead>\n",
       "  <tbody>\n",
       "    <tr>\n",
       "      <th>0</th>\n",
       "      <td>1</td>\n",
       "      <td>60</td>\n",
       "      <td>RL</td>\n",
       "      <td>65.0</td>\n",
       "      <td>8450</td>\n",
       "      <td>Pave</td>\n",
       "      <td>NaN</td>\n",
       "      <td>Reg</td>\n",
       "      <td>Lvl</td>\n",
       "      <td>AllPub</td>\n",
       "      <td>...</td>\n",
       "      <td>0</td>\n",
       "      <td>NaN</td>\n",
       "      <td>NaN</td>\n",
       "      <td>NaN</td>\n",
       "      <td>0</td>\n",
       "      <td>2</td>\n",
       "      <td>2008</td>\n",
       "      <td>WD</td>\n",
       "      <td>Normal</td>\n",
       "      <td>208500</td>\n",
       "    </tr>\n",
       "    <tr>\n",
       "      <th>1</th>\n",
       "      <td>2</td>\n",
       "      <td>20</td>\n",
       "      <td>RL</td>\n",
       "      <td>80.0</td>\n",
       "      <td>9600</td>\n",
       "      <td>Pave</td>\n",
       "      <td>NaN</td>\n",
       "      <td>Reg</td>\n",
       "      <td>Lvl</td>\n",
       "      <td>AllPub</td>\n",
       "      <td>...</td>\n",
       "      <td>0</td>\n",
       "      <td>NaN</td>\n",
       "      <td>NaN</td>\n",
       "      <td>NaN</td>\n",
       "      <td>0</td>\n",
       "      <td>5</td>\n",
       "      <td>2007</td>\n",
       "      <td>WD</td>\n",
       "      <td>Normal</td>\n",
       "      <td>181500</td>\n",
       "    </tr>\n",
       "    <tr>\n",
       "      <th>2</th>\n",
       "      <td>3</td>\n",
       "      <td>60</td>\n",
       "      <td>RL</td>\n",
       "      <td>68.0</td>\n",
       "      <td>11250</td>\n",
       "      <td>Pave</td>\n",
       "      <td>NaN</td>\n",
       "      <td>IR1</td>\n",
       "      <td>Lvl</td>\n",
       "      <td>AllPub</td>\n",
       "      <td>...</td>\n",
       "      <td>0</td>\n",
       "      <td>NaN</td>\n",
       "      <td>NaN</td>\n",
       "      <td>NaN</td>\n",
       "      <td>0</td>\n",
       "      <td>9</td>\n",
       "      <td>2008</td>\n",
       "      <td>WD</td>\n",
       "      <td>Normal</td>\n",
       "      <td>223500</td>\n",
       "    </tr>\n",
       "    <tr>\n",
       "      <th>3</th>\n",
       "      <td>4</td>\n",
       "      <td>70</td>\n",
       "      <td>RL</td>\n",
       "      <td>60.0</td>\n",
       "      <td>9550</td>\n",
       "      <td>Pave</td>\n",
       "      <td>NaN</td>\n",
       "      <td>IR1</td>\n",
       "      <td>Lvl</td>\n",
       "      <td>AllPub</td>\n",
       "      <td>...</td>\n",
       "      <td>0</td>\n",
       "      <td>NaN</td>\n",
       "      <td>NaN</td>\n",
       "      <td>NaN</td>\n",
       "      <td>0</td>\n",
       "      <td>2</td>\n",
       "      <td>2006</td>\n",
       "      <td>WD</td>\n",
       "      <td>Abnorml</td>\n",
       "      <td>140000</td>\n",
       "    </tr>\n",
       "    <tr>\n",
       "      <th>4</th>\n",
       "      <td>5</td>\n",
       "      <td>60</td>\n",
       "      <td>RL</td>\n",
       "      <td>84.0</td>\n",
       "      <td>14260</td>\n",
       "      <td>Pave</td>\n",
       "      <td>NaN</td>\n",
       "      <td>IR1</td>\n",
       "      <td>Lvl</td>\n",
       "      <td>AllPub</td>\n",
       "      <td>...</td>\n",
       "      <td>0</td>\n",
       "      <td>NaN</td>\n",
       "      <td>NaN</td>\n",
       "      <td>NaN</td>\n",
       "      <td>0</td>\n",
       "      <td>12</td>\n",
       "      <td>2008</td>\n",
       "      <td>WD</td>\n",
       "      <td>Normal</td>\n",
       "      <td>250000</td>\n",
       "    </tr>\n",
       "    <tr>\n",
       "      <th>...</th>\n",
       "      <td>...</td>\n",
       "      <td>...</td>\n",
       "      <td>...</td>\n",
       "      <td>...</td>\n",
       "      <td>...</td>\n",
       "      <td>...</td>\n",
       "      <td>...</td>\n",
       "      <td>...</td>\n",
       "      <td>...</td>\n",
       "      <td>...</td>\n",
       "      <td>...</td>\n",
       "      <td>...</td>\n",
       "      <td>...</td>\n",
       "      <td>...</td>\n",
       "      <td>...</td>\n",
       "      <td>...</td>\n",
       "      <td>...</td>\n",
       "      <td>...</td>\n",
       "      <td>...</td>\n",
       "      <td>...</td>\n",
       "      <td>...</td>\n",
       "    </tr>\n",
       "    <tr>\n",
       "      <th>1455</th>\n",
       "      <td>1456</td>\n",
       "      <td>60</td>\n",
       "      <td>RL</td>\n",
       "      <td>62.0</td>\n",
       "      <td>7917</td>\n",
       "      <td>Pave</td>\n",
       "      <td>NaN</td>\n",
       "      <td>Reg</td>\n",
       "      <td>Lvl</td>\n",
       "      <td>AllPub</td>\n",
       "      <td>...</td>\n",
       "      <td>0</td>\n",
       "      <td>NaN</td>\n",
       "      <td>NaN</td>\n",
       "      <td>NaN</td>\n",
       "      <td>0</td>\n",
       "      <td>8</td>\n",
       "      <td>2007</td>\n",
       "      <td>WD</td>\n",
       "      <td>Normal</td>\n",
       "      <td>175000</td>\n",
       "    </tr>\n",
       "    <tr>\n",
       "      <th>1456</th>\n",
       "      <td>1457</td>\n",
       "      <td>20</td>\n",
       "      <td>RL</td>\n",
       "      <td>85.0</td>\n",
       "      <td>13175</td>\n",
       "      <td>Pave</td>\n",
       "      <td>NaN</td>\n",
       "      <td>Reg</td>\n",
       "      <td>Lvl</td>\n",
       "      <td>AllPub</td>\n",
       "      <td>...</td>\n",
       "      <td>0</td>\n",
       "      <td>NaN</td>\n",
       "      <td>MnPrv</td>\n",
       "      <td>NaN</td>\n",
       "      <td>0</td>\n",
       "      <td>2</td>\n",
       "      <td>2010</td>\n",
       "      <td>WD</td>\n",
       "      <td>Normal</td>\n",
       "      <td>210000</td>\n",
       "    </tr>\n",
       "    <tr>\n",
       "      <th>1457</th>\n",
       "      <td>1458</td>\n",
       "      <td>70</td>\n",
       "      <td>RL</td>\n",
       "      <td>66.0</td>\n",
       "      <td>9042</td>\n",
       "      <td>Pave</td>\n",
       "      <td>NaN</td>\n",
       "      <td>Reg</td>\n",
       "      <td>Lvl</td>\n",
       "      <td>AllPub</td>\n",
       "      <td>...</td>\n",
       "      <td>0</td>\n",
       "      <td>NaN</td>\n",
       "      <td>GdPrv</td>\n",
       "      <td>Shed</td>\n",
       "      <td>2500</td>\n",
       "      <td>5</td>\n",
       "      <td>2010</td>\n",
       "      <td>WD</td>\n",
       "      <td>Normal</td>\n",
       "      <td>266500</td>\n",
       "    </tr>\n",
       "    <tr>\n",
       "      <th>1458</th>\n",
       "      <td>1459</td>\n",
       "      <td>20</td>\n",
       "      <td>RL</td>\n",
       "      <td>68.0</td>\n",
       "      <td>9717</td>\n",
       "      <td>Pave</td>\n",
       "      <td>NaN</td>\n",
       "      <td>Reg</td>\n",
       "      <td>Lvl</td>\n",
       "      <td>AllPub</td>\n",
       "      <td>...</td>\n",
       "      <td>0</td>\n",
       "      <td>NaN</td>\n",
       "      <td>NaN</td>\n",
       "      <td>NaN</td>\n",
       "      <td>0</td>\n",
       "      <td>4</td>\n",
       "      <td>2010</td>\n",
       "      <td>WD</td>\n",
       "      <td>Normal</td>\n",
       "      <td>142125</td>\n",
       "    </tr>\n",
       "    <tr>\n",
       "      <th>1459</th>\n",
       "      <td>1460</td>\n",
       "      <td>20</td>\n",
       "      <td>RL</td>\n",
       "      <td>75.0</td>\n",
       "      <td>9937</td>\n",
       "      <td>Pave</td>\n",
       "      <td>NaN</td>\n",
       "      <td>Reg</td>\n",
       "      <td>Lvl</td>\n",
       "      <td>AllPub</td>\n",
       "      <td>...</td>\n",
       "      <td>0</td>\n",
       "      <td>NaN</td>\n",
       "      <td>NaN</td>\n",
       "      <td>NaN</td>\n",
       "      <td>0</td>\n",
       "      <td>6</td>\n",
       "      <td>2008</td>\n",
       "      <td>WD</td>\n",
       "      <td>Normal</td>\n",
       "      <td>147500</td>\n",
       "    </tr>\n",
       "  </tbody>\n",
       "</table>\n",
       "<p>1460 rows × 81 columns</p>\n",
       "</div>"
      ],
      "text/plain": [
       "        Id  MSSubClass MSZoning  LotFrontage  LotArea Street Alley LotShape  \\\n",
       "0        1          60       RL         65.0     8450   Pave   NaN      Reg   \n",
       "1        2          20       RL         80.0     9600   Pave   NaN      Reg   \n",
       "2        3          60       RL         68.0    11250   Pave   NaN      IR1   \n",
       "3        4          70       RL         60.0     9550   Pave   NaN      IR1   \n",
       "4        5          60       RL         84.0    14260   Pave   NaN      IR1   \n",
       "...    ...         ...      ...          ...      ...    ...   ...      ...   \n",
       "1455  1456          60       RL         62.0     7917   Pave   NaN      Reg   \n",
       "1456  1457          20       RL         85.0    13175   Pave   NaN      Reg   \n",
       "1457  1458          70       RL         66.0     9042   Pave   NaN      Reg   \n",
       "1458  1459          20       RL         68.0     9717   Pave   NaN      Reg   \n",
       "1459  1460          20       RL         75.0     9937   Pave   NaN      Reg   \n",
       "\n",
       "     LandContour Utilities  ... PoolArea PoolQC  Fence MiscFeature MiscVal  \\\n",
       "0            Lvl    AllPub  ...        0    NaN    NaN         NaN       0   \n",
       "1            Lvl    AllPub  ...        0    NaN    NaN         NaN       0   \n",
       "2            Lvl    AllPub  ...        0    NaN    NaN         NaN       0   \n",
       "3            Lvl    AllPub  ...        0    NaN    NaN         NaN       0   \n",
       "4            Lvl    AllPub  ...        0    NaN    NaN         NaN       0   \n",
       "...          ...       ...  ...      ...    ...    ...         ...     ...   \n",
       "1455         Lvl    AllPub  ...        0    NaN    NaN         NaN       0   \n",
       "1456         Lvl    AllPub  ...        0    NaN  MnPrv         NaN       0   \n",
       "1457         Lvl    AllPub  ...        0    NaN  GdPrv        Shed    2500   \n",
       "1458         Lvl    AllPub  ...        0    NaN    NaN         NaN       0   \n",
       "1459         Lvl    AllPub  ...        0    NaN    NaN         NaN       0   \n",
       "\n",
       "     MoSold YrSold  SaleType  SaleCondition  SalePrice  \n",
       "0         2   2008        WD         Normal     208500  \n",
       "1         5   2007        WD         Normal     181500  \n",
       "2         9   2008        WD         Normal     223500  \n",
       "3         2   2006        WD        Abnorml     140000  \n",
       "4        12   2008        WD         Normal     250000  \n",
       "...     ...    ...       ...            ...        ...  \n",
       "1455      8   2007        WD         Normal     175000  \n",
       "1456      2   2010        WD         Normal     210000  \n",
       "1457      5   2010        WD         Normal     266500  \n",
       "1458      4   2010        WD         Normal     142125  \n",
       "1459      6   2008        WD         Normal     147500  \n",
       "\n",
       "[1460 rows x 81 columns]"
      ]
     },
     "execution_count": 5,
     "metadata": {},
     "output_type": "execute_result"
    }
   ],
   "source": [
    "house_train"
   ]
  },
  {
   "cell_type": "markdown",
   "metadata": {},
   "source": [
    "### Drop ID 🟩"
   ]
  },
  {
   "cell_type": "code",
   "execution_count": 6,
   "metadata": {},
   "outputs": [],
   "source": [
    "# drop id column\n",
    "house_test.drop(columns=['Id'], inplace=True)\n",
    "# drop id column\n",
    "house_train.drop(columns=['Id'], inplace=True)"
   ]
  },
  {
   "cell_type": "markdown",
   "metadata": {},
   "source": [
    "### Handling Missing Values 🟩"
   ]
  },
  {
   "cell_type": "markdown",
   "metadata": {},
   "source": [
    "#### Handling missing values Train Dataset"
   ]
  },
  {
   "cell_type": "code",
   "execution_count": 7,
   "metadata": {},
   "outputs": [
    {
     "name": "stdout",
     "output_type": "stream",
     "text": [
      "drop columns:  ['PoolQC', 'MiscFeature', 'Alley', 'Fence', 'FireplaceQu']\n"
     ]
    },
    {
     "data": {
      "text/html": [
       "<div>\n",
       "<style scoped>\n",
       "    .dataframe tbody tr th:only-of-type {\n",
       "        vertical-align: middle;\n",
       "    }\n",
       "\n",
       "    .dataframe tbody tr th {\n",
       "        vertical-align: top;\n",
       "    }\n",
       "\n",
       "    .dataframe thead th {\n",
       "        text-align: right;\n",
       "    }\n",
       "</style>\n",
       "<table border=\"1\" class=\"dataframe\">\n",
       "  <thead>\n",
       "    <tr style=\"text-align: right;\">\n",
       "      <th></th>\n",
       "      <th>index</th>\n",
       "      <th>Counter</th>\n",
       "      <th>presentage of null value</th>\n",
       "    </tr>\n",
       "  </thead>\n",
       "  <tbody>\n",
       "    <tr>\n",
       "      <th>71</th>\n",
       "      <td>PoolQC</td>\n",
       "      <td>1453</td>\n",
       "      <td>99.52</td>\n",
       "    </tr>\n",
       "    <tr>\n",
       "      <th>73</th>\n",
       "      <td>MiscFeature</td>\n",
       "      <td>1406</td>\n",
       "      <td>96.30</td>\n",
       "    </tr>\n",
       "    <tr>\n",
       "      <th>5</th>\n",
       "      <td>Alley</td>\n",
       "      <td>1369</td>\n",
       "      <td>93.77</td>\n",
       "    </tr>\n",
       "    <tr>\n",
       "      <th>72</th>\n",
       "      <td>Fence</td>\n",
       "      <td>1179</td>\n",
       "      <td>80.75</td>\n",
       "    </tr>\n",
       "    <tr>\n",
       "      <th>56</th>\n",
       "      <td>FireplaceQu</td>\n",
       "      <td>690</td>\n",
       "      <td>47.26</td>\n",
       "    </tr>\n",
       "  </tbody>\n",
       "</table>\n",
       "</div>"
      ],
      "text/plain": [
       "          index  Counter  presentage of null value\n",
       "71       PoolQC     1453                     99.52\n",
       "73  MiscFeature     1406                     96.30\n",
       "5         Alley     1369                     93.77\n",
       "72        Fence     1179                     80.75\n",
       "56  FireplaceQu      690                     47.26"
      ]
     },
     "execution_count": 7,
     "metadata": {},
     "output_type": "execute_result"
    }
   ],
   "source": [
    "# drop columns having missing values more than 45%\n",
    "pp.detected_null_value(house_train, presentage_of_null=45, drop_columns=True)"
   ]
  },
  {
   "cell_type": "code",
   "execution_count": 8,
   "metadata": {},
   "outputs": [],
   "source": [
    "# fill missing values having missing values\n",
    "fill_col = pp.detected_null_value(house_train, presentage_of_null=10)['index'].tolist()\n",
    "house_train[fill_col] = house_train[fill_col].fillna(house_train[fill_col].mean())"
   ]
  },
  {
   "cell_type": "code",
   "execution_count": 9,
   "metadata": {},
   "outputs": [
    {
     "name": "stdout",
     "output_type": "stream",
     "text": [
      "drop rows in :  ['GarageType', 'GarageYrBlt', 'GarageFinish', 'GarageQual', 'GarageCond', 'BsmtExposure', 'BsmtFinType2', 'BsmtQual', 'BsmtCond', 'BsmtFinType1', 'MasVnrType', 'MasVnrArea', 'Electrical']\n"
     ]
    },
    {
     "data": {
      "text/html": [
       "<div>\n",
       "<style scoped>\n",
       "    .dataframe tbody tr th:only-of-type {\n",
       "        vertical-align: middle;\n",
       "    }\n",
       "\n",
       "    .dataframe tbody tr th {\n",
       "        vertical-align: top;\n",
       "    }\n",
       "\n",
       "    .dataframe thead th {\n",
       "        text-align: right;\n",
       "    }\n",
       "</style>\n",
       "<table border=\"1\" class=\"dataframe\">\n",
       "  <thead>\n",
       "    <tr style=\"text-align: right;\">\n",
       "      <th></th>\n",
       "      <th>index</th>\n",
       "      <th>Counter</th>\n",
       "      <th>presentage of null value</th>\n",
       "    </tr>\n",
       "  </thead>\n",
       "  <tbody>\n",
       "    <tr>\n",
       "      <th>55</th>\n",
       "      <td>GarageType</td>\n",
       "      <td>81</td>\n",
       "      <td>5.55</td>\n",
       "    </tr>\n",
       "    <tr>\n",
       "      <th>56</th>\n",
       "      <td>GarageYrBlt</td>\n",
       "      <td>81</td>\n",
       "      <td>5.55</td>\n",
       "    </tr>\n",
       "    <tr>\n",
       "      <th>57</th>\n",
       "      <td>GarageFinish</td>\n",
       "      <td>81</td>\n",
       "      <td>5.55</td>\n",
       "    </tr>\n",
       "    <tr>\n",
       "      <th>60</th>\n",
       "      <td>GarageQual</td>\n",
       "      <td>81</td>\n",
       "      <td>5.55</td>\n",
       "    </tr>\n",
       "    <tr>\n",
       "      <th>61</th>\n",
       "      <td>GarageCond</td>\n",
       "      <td>81</td>\n",
       "      <td>5.55</td>\n",
       "    </tr>\n",
       "    <tr>\n",
       "      <th>30</th>\n",
       "      <td>BsmtExposure</td>\n",
       "      <td>38</td>\n",
       "      <td>2.60</td>\n",
       "    </tr>\n",
       "    <tr>\n",
       "      <th>33</th>\n",
       "      <td>BsmtFinType2</td>\n",
       "      <td>38</td>\n",
       "      <td>2.60</td>\n",
       "    </tr>\n",
       "    <tr>\n",
       "      <th>28</th>\n",
       "      <td>BsmtQual</td>\n",
       "      <td>37</td>\n",
       "      <td>2.53</td>\n",
       "    </tr>\n",
       "    <tr>\n",
       "      <th>29</th>\n",
       "      <td>BsmtCond</td>\n",
       "      <td>37</td>\n",
       "      <td>2.53</td>\n",
       "    </tr>\n",
       "    <tr>\n",
       "      <th>31</th>\n",
       "      <td>BsmtFinType1</td>\n",
       "      <td>37</td>\n",
       "      <td>2.53</td>\n",
       "    </tr>\n",
       "    <tr>\n",
       "      <th>23</th>\n",
       "      <td>MasVnrType</td>\n",
       "      <td>8</td>\n",
       "      <td>0.55</td>\n",
       "    </tr>\n",
       "    <tr>\n",
       "      <th>24</th>\n",
       "      <td>MasVnrArea</td>\n",
       "      <td>8</td>\n",
       "      <td>0.55</td>\n",
       "    </tr>\n",
       "    <tr>\n",
       "      <th>40</th>\n",
       "      <td>Electrical</td>\n",
       "      <td>1</td>\n",
       "      <td>0.07</td>\n",
       "    </tr>\n",
       "  </tbody>\n",
       "</table>\n",
       "</div>"
      ],
      "text/plain": [
       "           index  Counter  presentage of null value\n",
       "55    GarageType       81                      5.55\n",
       "56   GarageYrBlt       81                      5.55\n",
       "57  GarageFinish       81                      5.55\n",
       "60    GarageQual       81                      5.55\n",
       "61    GarageCond       81                      5.55\n",
       "30  BsmtExposure       38                      2.60\n",
       "33  BsmtFinType2       38                      2.60\n",
       "28      BsmtQual       37                      2.53\n",
       "29      BsmtCond       37                      2.53\n",
       "31  BsmtFinType1       37                      2.53\n",
       "23    MasVnrType        8                      0.55\n",
       "24    MasVnrArea        8                      0.55\n",
       "40    Electrical        1                      0.07"
      ]
     },
     "execution_count": 9,
     "metadata": {},
     "output_type": "execute_result"
    }
   ],
   "source": [
    "# drop rows having missing values\n",
    "pp.detected_null_value(house_train, presentage_of_null=0, drop_rows=True)"
   ]
  },
  {
   "cell_type": "code",
   "execution_count": 10,
   "metadata": {},
   "outputs": [
    {
     "data": {
      "text/html": [
       "<div>\n",
       "<style scoped>\n",
       "    .dataframe tbody tr th:only-of-type {\n",
       "        vertical-align: middle;\n",
       "    }\n",
       "\n",
       "    .dataframe tbody tr th {\n",
       "        vertical-align: top;\n",
       "    }\n",
       "\n",
       "    .dataframe thead th {\n",
       "        text-align: right;\n",
       "    }\n",
       "</style>\n",
       "<table border=\"1\" class=\"dataframe\">\n",
       "  <thead>\n",
       "    <tr style=\"text-align: right;\">\n",
       "      <th></th>\n",
       "      <th>index</th>\n",
       "      <th>Counter</th>\n",
       "      <th>presentage of null value</th>\n",
       "    </tr>\n",
       "  </thead>\n",
       "  <tbody>\n",
       "  </tbody>\n",
       "</table>\n",
       "</div>"
      ],
      "text/plain": [
       "Empty DataFrame\n",
       "Columns: [index, Counter, presentage of null value]\n",
       "Index: []"
      ]
     },
     "execution_count": 10,
     "metadata": {},
     "output_type": "execute_result"
    }
   ],
   "source": [
    "# confirm from missing values\n",
    "pp.detected_null_value(house_train, presentage_of_null=0)"
   ]
  },
  {
   "cell_type": "markdown",
   "metadata": {},
   "source": [
    "#### Handling missing values Test Dataset"
   ]
  },
  {
   "cell_type": "code",
   "execution_count": 11,
   "metadata": {},
   "outputs": [
    {
     "name": "stdout",
     "output_type": "stream",
     "text": [
      "drop columns:  ['PoolQC', 'MiscFeature', 'Alley', 'Fence', 'FireplaceQu']\n"
     ]
    },
    {
     "data": {
      "text/html": [
       "<div>\n",
       "<style scoped>\n",
       "    .dataframe tbody tr th:only-of-type {\n",
       "        vertical-align: middle;\n",
       "    }\n",
       "\n",
       "    .dataframe tbody tr th {\n",
       "        vertical-align: top;\n",
       "    }\n",
       "\n",
       "    .dataframe thead th {\n",
       "        text-align: right;\n",
       "    }\n",
       "</style>\n",
       "<table border=\"1\" class=\"dataframe\">\n",
       "  <thead>\n",
       "    <tr style=\"text-align: right;\">\n",
       "      <th></th>\n",
       "      <th>index</th>\n",
       "      <th>Counter</th>\n",
       "      <th>presentage of null value</th>\n",
       "    </tr>\n",
       "  </thead>\n",
       "  <tbody>\n",
       "    <tr>\n",
       "      <th>71</th>\n",
       "      <td>PoolQC</td>\n",
       "      <td>1456</td>\n",
       "      <td>99.79</td>\n",
       "    </tr>\n",
       "    <tr>\n",
       "      <th>73</th>\n",
       "      <td>MiscFeature</td>\n",
       "      <td>1408</td>\n",
       "      <td>96.50</td>\n",
       "    </tr>\n",
       "    <tr>\n",
       "      <th>5</th>\n",
       "      <td>Alley</td>\n",
       "      <td>1352</td>\n",
       "      <td>92.67</td>\n",
       "    </tr>\n",
       "    <tr>\n",
       "      <th>72</th>\n",
       "      <td>Fence</td>\n",
       "      <td>1169</td>\n",
       "      <td>80.12</td>\n",
       "    </tr>\n",
       "    <tr>\n",
       "      <th>56</th>\n",
       "      <td>FireplaceQu</td>\n",
       "      <td>730</td>\n",
       "      <td>50.03</td>\n",
       "    </tr>\n",
       "  </tbody>\n",
       "</table>\n",
       "</div>"
      ],
      "text/plain": [
       "          index  Counter  presentage of null value\n",
       "71       PoolQC     1456                     99.79\n",
       "73  MiscFeature     1408                     96.50\n",
       "5         Alley     1352                     92.67\n",
       "72        Fence     1169                     80.12\n",
       "56  FireplaceQu      730                     50.03"
      ]
     },
     "execution_count": 11,
     "metadata": {},
     "output_type": "execute_result"
    }
   ],
   "source": [
    "# drop columns having missing values more than 50%\n",
    "pp.detected_null_value(house_test, presentage_of_null=50, drop_columns=True)"
   ]
  },
  {
   "cell_type": "code",
   "execution_count": 12,
   "metadata": {},
   "outputs": [],
   "source": [
    "# fill missing values having missing values\n",
    "fill_col = pp.detected_null_value(house_test, presentage_of_null=10)['index'].tolist()\n",
    "# fill by train data not test data!!!\n",
    "house_test[fill_col] = house_test[fill_col].fillna(house_train[fill_col].mean())"
   ]
  },
  {
   "cell_type": "code",
   "execution_count": 13,
   "metadata": {},
   "outputs": [
    {
     "name": "stdout",
     "output_type": "stream",
     "text": [
      "drop rows in :  ['GarageFinish', 'GarageCond', 'GarageQual', 'GarageYrBlt', 'GarageType', 'BsmtCond', 'BsmtQual', 'BsmtExposure', 'BsmtFinType1', 'BsmtFinType2', 'MasVnrType', 'MasVnrArea', 'MSZoning', 'Utilities', 'BsmtFullBath', 'BsmtHalfBath', 'Functional', 'GarageCars', 'GarageArea', 'BsmtUnfSF', 'KitchenQual', 'TotalBsmtSF', 'BsmtFinSF2', 'BsmtFinSF1', 'Exterior2nd', 'Exterior1st', 'SaleType']\n"
     ]
    },
    {
     "data": {
      "text/html": [
       "<div>\n",
       "<style scoped>\n",
       "    .dataframe tbody tr th:only-of-type {\n",
       "        vertical-align: middle;\n",
       "    }\n",
       "\n",
       "    .dataframe tbody tr th {\n",
       "        vertical-align: top;\n",
       "    }\n",
       "\n",
       "    .dataframe thead th {\n",
       "        text-align: right;\n",
       "    }\n",
       "</style>\n",
       "<table border=\"1\" class=\"dataframe\">\n",
       "  <thead>\n",
       "    <tr style=\"text-align: right;\">\n",
       "      <th></th>\n",
       "      <th>index</th>\n",
       "      <th>Counter</th>\n",
       "      <th>presentage of null value</th>\n",
       "    </tr>\n",
       "  </thead>\n",
       "  <tbody>\n",
       "    <tr>\n",
       "      <th>57</th>\n",
       "      <td>GarageFinish</td>\n",
       "      <td>78</td>\n",
       "      <td>5.35</td>\n",
       "    </tr>\n",
       "    <tr>\n",
       "      <th>61</th>\n",
       "      <td>GarageCond</td>\n",
       "      <td>78</td>\n",
       "      <td>5.35</td>\n",
       "    </tr>\n",
       "    <tr>\n",
       "      <th>60</th>\n",
       "      <td>GarageQual</td>\n",
       "      <td>78</td>\n",
       "      <td>5.35</td>\n",
       "    </tr>\n",
       "    <tr>\n",
       "      <th>56</th>\n",
       "      <td>GarageYrBlt</td>\n",
       "      <td>78</td>\n",
       "      <td>5.35</td>\n",
       "    </tr>\n",
       "    <tr>\n",
       "      <th>55</th>\n",
       "      <td>GarageType</td>\n",
       "      <td>76</td>\n",
       "      <td>5.21</td>\n",
       "    </tr>\n",
       "    <tr>\n",
       "      <th>29</th>\n",
       "      <td>BsmtCond</td>\n",
       "      <td>45</td>\n",
       "      <td>3.08</td>\n",
       "    </tr>\n",
       "    <tr>\n",
       "      <th>28</th>\n",
       "      <td>BsmtQual</td>\n",
       "      <td>44</td>\n",
       "      <td>3.02</td>\n",
       "    </tr>\n",
       "    <tr>\n",
       "      <th>30</th>\n",
       "      <td>BsmtExposure</td>\n",
       "      <td>44</td>\n",
       "      <td>3.02</td>\n",
       "    </tr>\n",
       "    <tr>\n",
       "      <th>31</th>\n",
       "      <td>BsmtFinType1</td>\n",
       "      <td>42</td>\n",
       "      <td>2.88</td>\n",
       "    </tr>\n",
       "    <tr>\n",
       "      <th>33</th>\n",
       "      <td>BsmtFinType2</td>\n",
       "      <td>42</td>\n",
       "      <td>2.88</td>\n",
       "    </tr>\n",
       "    <tr>\n",
       "      <th>23</th>\n",
       "      <td>MasVnrType</td>\n",
       "      <td>16</td>\n",
       "      <td>1.10</td>\n",
       "    </tr>\n",
       "    <tr>\n",
       "      <th>24</th>\n",
       "      <td>MasVnrArea</td>\n",
       "      <td>15</td>\n",
       "      <td>1.03</td>\n",
       "    </tr>\n",
       "    <tr>\n",
       "      <th>1</th>\n",
       "      <td>MSZoning</td>\n",
       "      <td>4</td>\n",
       "      <td>0.27</td>\n",
       "    </tr>\n",
       "    <tr>\n",
       "      <th>7</th>\n",
       "      <td>Utilities</td>\n",
       "      <td>2</td>\n",
       "      <td>0.14</td>\n",
       "    </tr>\n",
       "    <tr>\n",
       "      <th>45</th>\n",
       "      <td>BsmtFullBath</td>\n",
       "      <td>2</td>\n",
       "      <td>0.14</td>\n",
       "    </tr>\n",
       "    <tr>\n",
       "      <th>46</th>\n",
       "      <td>BsmtHalfBath</td>\n",
       "      <td>2</td>\n",
       "      <td>0.14</td>\n",
       "    </tr>\n",
       "    <tr>\n",
       "      <th>53</th>\n",
       "      <td>Functional</td>\n",
       "      <td>2</td>\n",
       "      <td>0.14</td>\n",
       "    </tr>\n",
       "    <tr>\n",
       "      <th>58</th>\n",
       "      <td>GarageCars</td>\n",
       "      <td>1</td>\n",
       "      <td>0.07</td>\n",
       "    </tr>\n",
       "    <tr>\n",
       "      <th>59</th>\n",
       "      <td>GarageArea</td>\n",
       "      <td>1</td>\n",
       "      <td>0.07</td>\n",
       "    </tr>\n",
       "    <tr>\n",
       "      <th>35</th>\n",
       "      <td>BsmtUnfSF</td>\n",
       "      <td>1</td>\n",
       "      <td>0.07</td>\n",
       "    </tr>\n",
       "    <tr>\n",
       "      <th>51</th>\n",
       "      <td>KitchenQual</td>\n",
       "      <td>1</td>\n",
       "      <td>0.07</td>\n",
       "    </tr>\n",
       "    <tr>\n",
       "      <th>36</th>\n",
       "      <td>TotalBsmtSF</td>\n",
       "      <td>1</td>\n",
       "      <td>0.07</td>\n",
       "    </tr>\n",
       "    <tr>\n",
       "      <th>34</th>\n",
       "      <td>BsmtFinSF2</td>\n",
       "      <td>1</td>\n",
       "      <td>0.07</td>\n",
       "    </tr>\n",
       "    <tr>\n",
       "      <th>32</th>\n",
       "      <td>BsmtFinSF1</td>\n",
       "      <td>1</td>\n",
       "      <td>0.07</td>\n",
       "    </tr>\n",
       "    <tr>\n",
       "      <th>22</th>\n",
       "      <td>Exterior2nd</td>\n",
       "      <td>1</td>\n",
       "      <td>0.07</td>\n",
       "    </tr>\n",
       "    <tr>\n",
       "      <th>21</th>\n",
       "      <td>Exterior1st</td>\n",
       "      <td>1</td>\n",
       "      <td>0.07</td>\n",
       "    </tr>\n",
       "    <tr>\n",
       "      <th>72</th>\n",
       "      <td>SaleType</td>\n",
       "      <td>1</td>\n",
       "      <td>0.07</td>\n",
       "    </tr>\n",
       "  </tbody>\n",
       "</table>\n",
       "</div>"
      ],
      "text/plain": [
       "           index  Counter  presentage of null value\n",
       "57  GarageFinish       78                      5.35\n",
       "61    GarageCond       78                      5.35\n",
       "60    GarageQual       78                      5.35\n",
       "56   GarageYrBlt       78                      5.35\n",
       "55    GarageType       76                      5.21\n",
       "29      BsmtCond       45                      3.08\n",
       "28      BsmtQual       44                      3.02\n",
       "30  BsmtExposure       44                      3.02\n",
       "31  BsmtFinType1       42                      2.88\n",
       "33  BsmtFinType2       42                      2.88\n",
       "23    MasVnrType       16                      1.10\n",
       "24    MasVnrArea       15                      1.03\n",
       "1       MSZoning        4                      0.27\n",
       "7      Utilities        2                      0.14\n",
       "45  BsmtFullBath        2                      0.14\n",
       "46  BsmtHalfBath        2                      0.14\n",
       "53    Functional        2                      0.14\n",
       "58    GarageCars        1                      0.07\n",
       "59    GarageArea        1                      0.07\n",
       "35     BsmtUnfSF        1                      0.07\n",
       "51   KitchenQual        1                      0.07\n",
       "36   TotalBsmtSF        1                      0.07\n",
       "34    BsmtFinSF2        1                      0.07\n",
       "32    BsmtFinSF1        1                      0.07\n",
       "22   Exterior2nd        1                      0.07\n",
       "21   Exterior1st        1                      0.07\n",
       "72      SaleType        1                      0.07"
      ]
     },
     "execution_count": 13,
     "metadata": {},
     "output_type": "execute_result"
    }
   ],
   "source": [
    "# drop rows having missing values\n",
    "pp.detected_null_value(house_test, presentage_of_null=0, drop_rows=True)"
   ]
  },
  {
   "cell_type": "code",
   "execution_count": 14,
   "metadata": {},
   "outputs": [
    {
     "data": {
      "text/html": [
       "<div>\n",
       "<style scoped>\n",
       "    .dataframe tbody tr th:only-of-type {\n",
       "        vertical-align: middle;\n",
       "    }\n",
       "\n",
       "    .dataframe tbody tr th {\n",
       "        vertical-align: top;\n",
       "    }\n",
       "\n",
       "    .dataframe thead th {\n",
       "        text-align: right;\n",
       "    }\n",
       "</style>\n",
       "<table border=\"1\" class=\"dataframe\">\n",
       "  <thead>\n",
       "    <tr style=\"text-align: right;\">\n",
       "      <th></th>\n",
       "      <th>index</th>\n",
       "      <th>Counter</th>\n",
       "      <th>presentage of null value</th>\n",
       "    </tr>\n",
       "  </thead>\n",
       "  <tbody>\n",
       "  </tbody>\n",
       "</table>\n",
       "</div>"
      ],
      "text/plain": [
       "Empty DataFrame\n",
       "Columns: [index, Counter, presentage of null value]\n",
       "Index: []"
      ]
     },
     "execution_count": 14,
     "metadata": {},
     "output_type": "execute_result"
    }
   ],
   "source": [
    "# confirm from missing values\n",
    "pp.detected_null_value(house_test, presentage_of_null=0)"
   ]
  },
  {
   "cell_type": "markdown",
   "metadata": {},
   "source": [
    "### Handling strange values (symbols) 🟩"
   ]
  },
  {
   "cell_type": "code",
   "execution_count": 15,
   "metadata": {},
   "outputs": [
    {
     "data": {
      "text/plain": [
       "(Empty DataFrame\n",
       " Columns: [index, count_symbols]\n",
       " Index: [],\n",
       " Empty DataFrame\n",
       " Columns: [index, count_symbols]\n",
       " Index: [])"
      ]
     },
     "execution_count": 15,
     "metadata": {},
     "output_type": "execute_result"
    }
   ],
   "source": [
    "pp.detected_symbols(house_test) , pp.detected_symbols(house_train)"
   ]
  },
  {
   "cell_type": "markdown",
   "metadata": {},
   "source": [
    "### Check Data Types 🟩"
   ]
  },
  {
   "cell_type": "code",
   "execution_count": 16,
   "metadata": {},
   "outputs": [
    {
     "name": "stdout",
     "output_type": "stream",
     "text": [
      "Test Data\n",
      " float64    11\n",
      "int64      25\n",
      "object     38\n",
      "dtype: int64 \n",
      "\n",
      "Train Data\n",
      " float64     3\n",
      "int64      34\n",
      "object     38\n",
      "dtype: int64\n"
     ]
    }
   ],
   "source": [
    "print('Test Data\\n',house_test.dtypes.value_counts().sort_values(), '\\n')\n",
    "print('Train Data\\n',house_train.dtypes.value_counts().sort_values())"
   ]
  },
  {
   "cell_type": "markdown",
   "metadata": {},
   "source": [
    "### Split Data into Numeric and Categorical 🟩"
   ]
  },
  {
   "cell_type": "code",
   "execution_count": 17,
   "metadata": {},
   "outputs": [],
   "source": [
    "house_test_num, house_test_cat = pp.separate_data(house_test)\n",
    "house_train_num, house_train_cat = pp.separate_data(house_train)"
   ]
  },
  {
   "cell_type": "markdown",
   "metadata": {},
   "source": [
    "### Handling Redundant Columns 🟩"
   ]
  },
  {
   "cell_type": "markdown",
   "metadata": {},
   "source": [
    "#### Handling Redundant Columns Test Dataset"
   ]
  },
  {
   "cell_type": "code",
   "execution_count": 18,
   "metadata": {},
   "outputs": [
    {
     "name": "stdout",
     "output_type": "stream",
     "text": [
      "redundant features:  ['BsmtFinSF2', 'LowQualFinSF', 'BsmtHalfBath', 'KitchenAbvGr', 'EnclosedPorch', '3SsnPorch', 'ScreenPorch', 'PoolArea', 'MiscVal']\n",
      "redundant features are dropped\n"
     ]
    },
    {
     "data": {
      "text/html": [
       "<div>\n",
       "<style scoped>\n",
       "    .dataframe tbody tr th:only-of-type {\n",
       "        vertical-align: middle;\n",
       "    }\n",
       "\n",
       "    .dataframe tbody tr th {\n",
       "        vertical-align: top;\n",
       "    }\n",
       "\n",
       "    .dataframe thead th {\n",
       "        text-align: right;\n",
       "    }\n",
       "</style>\n",
       "<table border=\"1\" class=\"dataframe\">\n",
       "  <thead>\n",
       "    <tr style=\"text-align: right;\">\n",
       "      <th></th>\n",
       "      <th>MSSubClass</th>\n",
       "      <th>LotFrontage</th>\n",
       "      <th>LotArea</th>\n",
       "      <th>OverallQual</th>\n",
       "      <th>OverallCond</th>\n",
       "      <th>YearBuilt</th>\n",
       "      <th>YearRemodAdd</th>\n",
       "      <th>MasVnrArea</th>\n",
       "      <th>BsmtFinSF1</th>\n",
       "      <th>BsmtUnfSF</th>\n",
       "      <th>...</th>\n",
       "      <th>BedroomAbvGr</th>\n",
       "      <th>TotRmsAbvGrd</th>\n",
       "      <th>Fireplaces</th>\n",
       "      <th>GarageYrBlt</th>\n",
       "      <th>GarageCars</th>\n",
       "      <th>GarageArea</th>\n",
       "      <th>WoodDeckSF</th>\n",
       "      <th>OpenPorchSF</th>\n",
       "      <th>MoSold</th>\n",
       "      <th>YrSold</th>\n",
       "    </tr>\n",
       "  </thead>\n",
       "  <tbody>\n",
       "    <tr>\n",
       "      <th>0</th>\n",
       "      <td>20</td>\n",
       "      <td>80.0</td>\n",
       "      <td>11622</td>\n",
       "      <td>5</td>\n",
       "      <td>6</td>\n",
       "      <td>1961</td>\n",
       "      <td>1961</td>\n",
       "      <td>0.0</td>\n",
       "      <td>468.0</td>\n",
       "      <td>270.0</td>\n",
       "      <td>...</td>\n",
       "      <td>2</td>\n",
       "      <td>5</td>\n",
       "      <td>0</td>\n",
       "      <td>1961.0</td>\n",
       "      <td>1.0</td>\n",
       "      <td>730.0</td>\n",
       "      <td>140</td>\n",
       "      <td>0</td>\n",
       "      <td>6</td>\n",
       "      <td>2010</td>\n",
       "    </tr>\n",
       "    <tr>\n",
       "      <th>1</th>\n",
       "      <td>20</td>\n",
       "      <td>81.0</td>\n",
       "      <td>14267</td>\n",
       "      <td>6</td>\n",
       "      <td>6</td>\n",
       "      <td>1958</td>\n",
       "      <td>1958</td>\n",
       "      <td>108.0</td>\n",
       "      <td>923.0</td>\n",
       "      <td>406.0</td>\n",
       "      <td>...</td>\n",
       "      <td>3</td>\n",
       "      <td>6</td>\n",
       "      <td>0</td>\n",
       "      <td>1958.0</td>\n",
       "      <td>1.0</td>\n",
       "      <td>312.0</td>\n",
       "      <td>393</td>\n",
       "      <td>36</td>\n",
       "      <td>6</td>\n",
       "      <td>2010</td>\n",
       "    </tr>\n",
       "    <tr>\n",
       "      <th>2</th>\n",
       "      <td>60</td>\n",
       "      <td>74.0</td>\n",
       "      <td>13830</td>\n",
       "      <td>5</td>\n",
       "      <td>5</td>\n",
       "      <td>1997</td>\n",
       "      <td>1998</td>\n",
       "      <td>0.0</td>\n",
       "      <td>791.0</td>\n",
       "      <td>137.0</td>\n",
       "      <td>...</td>\n",
       "      <td>3</td>\n",
       "      <td>6</td>\n",
       "      <td>1</td>\n",
       "      <td>1997.0</td>\n",
       "      <td>2.0</td>\n",
       "      <td>482.0</td>\n",
       "      <td>212</td>\n",
       "      <td>34</td>\n",
       "      <td>3</td>\n",
       "      <td>2010</td>\n",
       "    </tr>\n",
       "    <tr>\n",
       "      <th>3</th>\n",
       "      <td>60</td>\n",
       "      <td>78.0</td>\n",
       "      <td>9978</td>\n",
       "      <td>6</td>\n",
       "      <td>6</td>\n",
       "      <td>1998</td>\n",
       "      <td>1998</td>\n",
       "      <td>20.0</td>\n",
       "      <td>602.0</td>\n",
       "      <td>324.0</td>\n",
       "      <td>...</td>\n",
       "      <td>3</td>\n",
       "      <td>7</td>\n",
       "      <td>1</td>\n",
       "      <td>1998.0</td>\n",
       "      <td>2.0</td>\n",
       "      <td>470.0</td>\n",
       "      <td>360</td>\n",
       "      <td>36</td>\n",
       "      <td>6</td>\n",
       "      <td>2010</td>\n",
       "    </tr>\n",
       "    <tr>\n",
       "      <th>4</th>\n",
       "      <td>120</td>\n",
       "      <td>43.0</td>\n",
       "      <td>5005</td>\n",
       "      <td>8</td>\n",
       "      <td>5</td>\n",
       "      <td>1992</td>\n",
       "      <td>1992</td>\n",
       "      <td>0.0</td>\n",
       "      <td>263.0</td>\n",
       "      <td>1017.0</td>\n",
       "      <td>...</td>\n",
       "      <td>2</td>\n",
       "      <td>5</td>\n",
       "      <td>0</td>\n",
       "      <td>1992.0</td>\n",
       "      <td>2.0</td>\n",
       "      <td>506.0</td>\n",
       "      <td>0</td>\n",
       "      <td>82</td>\n",
       "      <td>1</td>\n",
       "      <td>2010</td>\n",
       "    </tr>\n",
       "  </tbody>\n",
       "</table>\n",
       "<p>5 rows × 27 columns</p>\n",
       "</div>"
      ],
      "text/plain": [
       "   MSSubClass  LotFrontage  LotArea  OverallQual  OverallCond  YearBuilt  \\\n",
       "0          20         80.0    11622            5            6       1961   \n",
       "1          20         81.0    14267            6            6       1958   \n",
       "2          60         74.0    13830            5            5       1997   \n",
       "3          60         78.0     9978            6            6       1998   \n",
       "4         120         43.0     5005            8            5       1992   \n",
       "\n",
       "   YearRemodAdd  MasVnrArea  BsmtFinSF1  BsmtUnfSF  ...  BedroomAbvGr  \\\n",
       "0          1961         0.0       468.0      270.0  ...             2   \n",
       "1          1958       108.0       923.0      406.0  ...             3   \n",
       "2          1998         0.0       791.0      137.0  ...             3   \n",
       "3          1998        20.0       602.0      324.0  ...             3   \n",
       "4          1992         0.0       263.0     1017.0  ...             2   \n",
       "\n",
       "   TotRmsAbvGrd  Fireplaces  GarageYrBlt  GarageCars  GarageArea  WoodDeckSF  \\\n",
       "0             5           0       1961.0         1.0       730.0         140   \n",
       "1             6           0       1958.0         1.0       312.0         393   \n",
       "2             6           1       1997.0         2.0       482.0         212   \n",
       "3             7           1       1998.0         2.0       470.0         360   \n",
       "4             5           0       1992.0         2.0       506.0           0   \n",
       "\n",
       "   OpenPorchSF  MoSold  YrSold  \n",
       "0            0       6    2010  \n",
       "1           36       6    2010  \n",
       "2           34       3    2010  \n",
       "3           36       6    2010  \n",
       "4           82       1    2010  \n",
       "\n",
       "[5 rows x 27 columns]"
      ]
     },
     "execution_count": 18,
     "metadata": {},
     "output_type": "execute_result"
    }
   ],
   "source": [
    "# drop columns that contain data redundancy 80% or more\n",
    "pp.detected_redundant(house_test_num, 80, drop_columns=True).head(5)"
   ]
  },
  {
   "cell_type": "markdown",
   "metadata": {},
   "source": [
    "#### Handling Redundant Columns Train Dataset"
   ]
  },
  {
   "cell_type": "code",
   "execution_count": 19,
   "metadata": {},
   "outputs": [
    {
     "name": "stdout",
     "output_type": "stream",
     "text": [
      "redundant features:  ['BsmtFinSF2', 'LowQualFinSF', 'BsmtHalfBath', 'KitchenAbvGr', 'EnclosedPorch', '3SsnPorch', 'ScreenPorch', 'PoolArea', 'MiscVal']\n",
      "redundant features are dropped\n"
     ]
    },
    {
     "data": {
      "text/html": [
       "<div>\n",
       "<style scoped>\n",
       "    .dataframe tbody tr th:only-of-type {\n",
       "        vertical-align: middle;\n",
       "    }\n",
       "\n",
       "    .dataframe tbody tr th {\n",
       "        vertical-align: top;\n",
       "    }\n",
       "\n",
       "    .dataframe thead th {\n",
       "        text-align: right;\n",
       "    }\n",
       "</style>\n",
       "<table border=\"1\" class=\"dataframe\">\n",
       "  <thead>\n",
       "    <tr style=\"text-align: right;\">\n",
       "      <th></th>\n",
       "      <th>MSSubClass</th>\n",
       "      <th>LotFrontage</th>\n",
       "      <th>LotArea</th>\n",
       "      <th>OverallQual</th>\n",
       "      <th>OverallCond</th>\n",
       "      <th>YearBuilt</th>\n",
       "      <th>YearRemodAdd</th>\n",
       "      <th>MasVnrArea</th>\n",
       "      <th>BsmtFinSF1</th>\n",
       "      <th>BsmtUnfSF</th>\n",
       "      <th>...</th>\n",
       "      <th>TotRmsAbvGrd</th>\n",
       "      <th>Fireplaces</th>\n",
       "      <th>GarageYrBlt</th>\n",
       "      <th>GarageCars</th>\n",
       "      <th>GarageArea</th>\n",
       "      <th>WoodDeckSF</th>\n",
       "      <th>OpenPorchSF</th>\n",
       "      <th>MoSold</th>\n",
       "      <th>YrSold</th>\n",
       "      <th>SalePrice</th>\n",
       "    </tr>\n",
       "  </thead>\n",
       "  <tbody>\n",
       "    <tr>\n",
       "      <th>0</th>\n",
       "      <td>60</td>\n",
       "      <td>65.0</td>\n",
       "      <td>8450</td>\n",
       "      <td>7</td>\n",
       "      <td>5</td>\n",
       "      <td>2003</td>\n",
       "      <td>2003</td>\n",
       "      <td>196.0</td>\n",
       "      <td>706</td>\n",
       "      <td>150</td>\n",
       "      <td>...</td>\n",
       "      <td>8</td>\n",
       "      <td>0</td>\n",
       "      <td>2003.0</td>\n",
       "      <td>2</td>\n",
       "      <td>548</td>\n",
       "      <td>0</td>\n",
       "      <td>61</td>\n",
       "      <td>2</td>\n",
       "      <td>2008</td>\n",
       "      <td>208500</td>\n",
       "    </tr>\n",
       "    <tr>\n",
       "      <th>1</th>\n",
       "      <td>20</td>\n",
       "      <td>80.0</td>\n",
       "      <td>9600</td>\n",
       "      <td>6</td>\n",
       "      <td>8</td>\n",
       "      <td>1976</td>\n",
       "      <td>1976</td>\n",
       "      <td>0.0</td>\n",
       "      <td>978</td>\n",
       "      <td>284</td>\n",
       "      <td>...</td>\n",
       "      <td>6</td>\n",
       "      <td>1</td>\n",
       "      <td>1976.0</td>\n",
       "      <td>2</td>\n",
       "      <td>460</td>\n",
       "      <td>298</td>\n",
       "      <td>0</td>\n",
       "      <td>5</td>\n",
       "      <td>2007</td>\n",
       "      <td>181500</td>\n",
       "    </tr>\n",
       "    <tr>\n",
       "      <th>2</th>\n",
       "      <td>60</td>\n",
       "      <td>68.0</td>\n",
       "      <td>11250</td>\n",
       "      <td>7</td>\n",
       "      <td>5</td>\n",
       "      <td>2001</td>\n",
       "      <td>2002</td>\n",
       "      <td>162.0</td>\n",
       "      <td>486</td>\n",
       "      <td>434</td>\n",
       "      <td>...</td>\n",
       "      <td>6</td>\n",
       "      <td>1</td>\n",
       "      <td>2001.0</td>\n",
       "      <td>2</td>\n",
       "      <td>608</td>\n",
       "      <td>0</td>\n",
       "      <td>42</td>\n",
       "      <td>9</td>\n",
       "      <td>2008</td>\n",
       "      <td>223500</td>\n",
       "    </tr>\n",
       "    <tr>\n",
       "      <th>3</th>\n",
       "      <td>70</td>\n",
       "      <td>60.0</td>\n",
       "      <td>9550</td>\n",
       "      <td>7</td>\n",
       "      <td>5</td>\n",
       "      <td>1915</td>\n",
       "      <td>1970</td>\n",
       "      <td>0.0</td>\n",
       "      <td>216</td>\n",
       "      <td>540</td>\n",
       "      <td>...</td>\n",
       "      <td>7</td>\n",
       "      <td>1</td>\n",
       "      <td>1998.0</td>\n",
       "      <td>3</td>\n",
       "      <td>642</td>\n",
       "      <td>0</td>\n",
       "      <td>35</td>\n",
       "      <td>2</td>\n",
       "      <td>2006</td>\n",
       "      <td>140000</td>\n",
       "    </tr>\n",
       "    <tr>\n",
       "      <th>4</th>\n",
       "      <td>60</td>\n",
       "      <td>84.0</td>\n",
       "      <td>14260</td>\n",
       "      <td>8</td>\n",
       "      <td>5</td>\n",
       "      <td>2000</td>\n",
       "      <td>2000</td>\n",
       "      <td>350.0</td>\n",
       "      <td>655</td>\n",
       "      <td>490</td>\n",
       "      <td>...</td>\n",
       "      <td>9</td>\n",
       "      <td>1</td>\n",
       "      <td>2000.0</td>\n",
       "      <td>3</td>\n",
       "      <td>836</td>\n",
       "      <td>192</td>\n",
       "      <td>84</td>\n",
       "      <td>12</td>\n",
       "      <td>2008</td>\n",
       "      <td>250000</td>\n",
       "    </tr>\n",
       "  </tbody>\n",
       "</table>\n",
       "<p>5 rows × 28 columns</p>\n",
       "</div>"
      ],
      "text/plain": [
       "   MSSubClass  LotFrontage  LotArea  OverallQual  OverallCond  YearBuilt  \\\n",
       "0          60         65.0     8450            7            5       2003   \n",
       "1          20         80.0     9600            6            8       1976   \n",
       "2          60         68.0    11250            7            5       2001   \n",
       "3          70         60.0     9550            7            5       1915   \n",
       "4          60         84.0    14260            8            5       2000   \n",
       "\n",
       "   YearRemodAdd  MasVnrArea  BsmtFinSF1  BsmtUnfSF  ...  TotRmsAbvGrd  \\\n",
       "0          2003       196.0         706        150  ...             8   \n",
       "1          1976         0.0         978        284  ...             6   \n",
       "2          2002       162.0         486        434  ...             6   \n",
       "3          1970         0.0         216        540  ...             7   \n",
       "4          2000       350.0         655        490  ...             9   \n",
       "\n",
       "   Fireplaces  GarageYrBlt  GarageCars  GarageArea  WoodDeckSF  OpenPorchSF  \\\n",
       "0           0       2003.0           2         548           0           61   \n",
       "1           1       1976.0           2         460         298            0   \n",
       "2           1       2001.0           2         608           0           42   \n",
       "3           1       1998.0           3         642           0           35   \n",
       "4           1       2000.0           3         836         192           84   \n",
       "\n",
       "   MoSold  YrSold  SalePrice  \n",
       "0       2    2008     208500  \n",
       "1       5    2007     181500  \n",
       "2       9    2008     223500  \n",
       "3       2    2006     140000  \n",
       "4      12    2008     250000  \n",
       "\n",
       "[5 rows x 28 columns]"
      ]
     },
     "execution_count": 19,
     "metadata": {},
     "output_type": "execute_result"
    }
   ],
   "source": [
    "# drop columns that contain data redundancy 80% or more\n",
    "pp.detected_redundant(house_train_num, 80, drop_columns=True).head(5)"
   ]
  },
  {
   "cell_type": "markdown",
   "metadata": {},
   "source": [
    "### Handling Highly Correlated Features 🟩"
   ]
  },
  {
   "cell_type": "markdown",
   "metadata": {},
   "source": [
    "#### Handling Highly Correlation Features Test Dataset"
   ]
  },
  {
   "cell_type": "code",
   "execution_count": 20,
   "metadata": {},
   "outputs": [],
   "source": [
    "pp.detected_highly_corr(df=house_test_num, target_name=house_test_num.columns[-1], threshold=70)"
   ]
  },
  {
   "cell_type": "code",
   "execution_count": 21,
   "metadata": {},
   "outputs": [],
   "source": [
    "# plt.figure(figsize=(25, 15))\n",
    "# sns.heatmap(house_test_num.corr(), annot=True, linewidths=0.5, fmt='.2f');"
   ]
  },
  {
   "cell_type": "markdown",
   "metadata": {},
   "source": [
    "#### Handling Highly Correlation Features Train Dataset"
   ]
  },
  {
   "cell_type": "code",
   "execution_count": 21,
   "metadata": {},
   "outputs": [],
   "source": [
    "pp.detected_highly_corr(df=house_train_num, target_name=house_train_num.columns[-1], threshold=70)"
   ]
  },
  {
   "cell_type": "code",
   "execution_count": 23,
   "metadata": {},
   "outputs": [],
   "source": [
    "# plt.figure(figsize=(25, 15))\n",
    "# sns.heatmap(house_train_num.corr(), annot=True, linewidths=0.5, fmt='.2f');"
   ]
  },
  {
   "cell_type": "code",
   "execution_count": 22,
   "metadata": {},
   "outputs": [
    {
     "data": {
      "text/plain": [
       "SalePrice       1.000000\n",
       "OverallQual     0.783546\n",
       "GrLivArea       0.711706\n",
       "GarageCars      0.640154\n",
       "GarageArea      0.607535\n",
       "1stFlrSF        0.604714\n",
       "TotalBsmtSF     0.602042\n",
       "FullBath        0.569313\n",
       "TotRmsAbvGrd    0.551821\n",
       "YearBuilt       0.504297\n",
       "YearRemodAdd    0.501435\n",
       "GarageYrBlt     0.481730\n",
       "MasVnrArea      0.465811\n",
       "Fireplaces      0.445434\n",
       "BsmtFinSF1      0.359677\n",
       "LotFrontage     0.327831\n",
       "OpenPorchSF     0.322786\n",
       "2ndFlrSF        0.311354\n",
       "WoodDeckSF      0.305983\n",
       "HalfBath        0.258175\n",
       "LotArea         0.254757\n",
       "BsmtFullBath    0.209695\n",
       "BsmtUnfSF       0.191689\n",
       "BedroomAbvGr    0.169266\n",
       "MoSold          0.041310\n",
       "YrSold          0.020451\n",
       "MSSubClass      0.079599\n",
       "OverallCond     0.108627\n",
       "Name: SalePrice, dtype: float64"
      ]
     },
     "execution_count": 22,
     "metadata": {},
     "output_type": "execute_result"
    }
   ],
   "source": [
    "house_train_num.corr()['SalePrice'].sort_values(ascending=False).abs()"
   ]
  },
  {
   "cell_type": "markdown",
   "metadata": {},
   "source": [
    "### Handling Outliers 🟩"
   ]
  },
  {
   "cell_type": "markdown",
   "metadata": {},
   "source": [
    "#### Handling Outliers"
   ]
  },
  {
   "cell_type": "code",
   "execution_count": 23,
   "metadata": {},
   "outputs": [
    {
     "name": "stdout",
     "output_type": "stream",
     "text": [
      "clamping outliers in column:  MSSubClass : [9, 56, 75, 87, 93, 115, 145, 172, 180, 193, 195, 225, 227, 232, 235, 243, 246, 285, 300, 312, 335, 344, 348, 363, 411, 430, 432, 472, 488, 489, 490, 500, 504, 578, 599, 603, 623, 637, 655, 675, 685, 687, 703, 713, 755, 758, 829, 831, 837, 861, 914, 915, 956, 959, 962, 969, 971, 975, 985, 1007, 1029, 1039, 1062, 1068, 1086, 1088, 1091, 1104, 1144, 1160, 1172, 1186, 1190, 1191, 1236, 1265, 1266, 1291, 1297, 1304, 1334, 1358, 1364, 1367, 1378, 1393, 1416, 1452]\n",
      "clamping outliers in column:  LotFrontage : [36, 41, 56, 75, 85, 86, 145, 150, 159, 171, 193, 195, 197, 225, 227, 231, 232, 235, 260, 276, 277, 290, 302, 306, 313, 320, 363, 429, 430, 432, 446, 489, 500, 504, 523, 599, 655, 662, 675, 758, 807, 825, 829, 837, 889, 906, 909, 915, 934, 956, 959, 962, 963, 966, 991, 1007, 1010, 1029, 1039, 1061, 1088, 1091, 1104, 1106, 1107, 1127, 1151, 1160, 1168, 1169, 1182, 1191, 1211, 1273, 1291, 1298, 1334, 1339, 1359, 1361, 1378]\n",
      "clamping outliers in column:  LotArea : [53, 66, 75, 113, 120, 159, 171, 185, 197, 225, 232, 235, 249, 260, 271, 277, 304, 313, 335, 349, 363, 364, 384, 411, 417, 422, 430, 451, 457, 489, 523, 558, 563, 588, 655, 661, 664, 666, 691, 692, 706, 726, 769, 807, 828, 837, 848, 854, 876, 934, 939, 943, 956, 1010, 1029, 1039, 1057, 1061, 1107, 1169, 1184, 1190, 1230, 1260, 1270, 1277, 1287, 1291, 1298, 1346, 1383, 1396, 1409, 1423, 1430, 1446]\n",
      "clamping outliers in column:  OverallQual : []\n",
      "clamping outliers in column:  OverallCond : [1, 15, 24, 91, 95, 114, 184, 185, 190, 191, 218, 235, 246, 267, 299, 304, 323, 344, 346, 353, 363, 378, 383, 390, 398, 402, 410, 425, 436, 439, 450, 461, 482, 489, 494, 503, 508, 519, 531, 568, 583, 588, 592, 607, 662, 676, 677, 698, 703, 714, 716, 726, 741, 745, 754, 789, 840, 841, 844, 848, 855, 860, 879, 892, 916, 919, 950, 952, 974, 980, 986, 991, 992, 1005, 1006, 1031, 1041, 1072, 1076, 1093, 1122, 1130, 1149, 1153, 1155, 1156, 1174, 1177, 1192, 1202, 1213, 1223, 1225, 1227, 1259, 1268, 1310, 1320, 1327, 1352, 1380, 1385, 1397, 1411, 1435, 1457]\n",
      "clamping outliers in column:  YearBuilt : [106, 304, 630, 747, 991, 1132, 1416]\n",
      "clamping outliers in column:  YearRemodAdd : []\n",
      "clamping outliers in column:  MasVnrArea : [25, 37, 56, 58, 64, 70, 80, 81, 82, 104, 105, 109, 115, 151, 159, 161, 169, 173, 178, 180, 224, 231, 235, 249, 251, 297, 343, 349, 359, 363, 403, 423, 477, 481, 517, 523, 524, 539, 540, 598, 618, 623, 640, 654, 661, 678, 691, 700, 702, 718, 731, 755, 759, 763, 769, 798, 808, 815, 825, 898, 944, 981, 987, 997, 1059, 1111, 1169, 1191, 1228, 1256, 1268, 1275, 1286, 1287, 1289, 1298, 1336, 1353, 1373, 1417, 1426, 1447]\n",
      "clamping outliers in column:  BsmtFinSF1 : [70, 178, 523, 898, 1182, 1298]\n",
      "clamping outliers in column:  BsmtUnfSF : [22, 137, 169, 224, 238, 278, 350, 477, 496, 552, 581, 618, 678, 768, 774, 798, 803, 903, 928, 932, 963, 1003, 1008, 1046, 1166, 1241, 1267, 1318, 1324]\n",
      "clamping outliers in column:  TotalBsmtSF : [70, 178, 224, 278, 313, 440, 477, 496, 523, 654, 691, 888, 898, 1044, 1182, 1205, 1223, 1250, 1298, 1373]\n",
      "clamping outliers in column:  1stFlrSF : [66, 70, 113, 178, 224, 440, 496, 523, 691, 888, 898, 1024, 1044, 1182, 1205, 1298, 1373]\n",
      "clamping outliers in column:  2ndFlrSF : [691, 1182]\n",
      "clamping outliers in column:  GrLivArea : [58, 118, 185, 197, 231, 304, 324, 496, 523, 583, 608, 691, 769, 798, 803, 961, 1024, 1031, 1046, 1142, 1169, 1175, 1182, 1268, 1298, 1312, 1328, 1353, 1386]\n",
      "clamping outliers in column:  BsmtFullBath : []\n",
      "clamping outliers in column:  FullBath : []\n",
      "clamping outliers in column:  HalfBath : []\n",
      "clamping outliers in column:  BedroomAbvGr : [53, 118, 137, 144, 189, 324, 328, 330, 570, 628, 634, 789, 848, 883, 910, 1031, 1032, 1062, 1068, 1132, 1163, 1213, 1262, 1270, 1328, 1350, 1386, 1387]\n",
      "clamping outliers in column:  TotRmsAbvGrd : [11, 118, 185, 324, 523, 527, 566, 745, 769, 798, 803, 809, 875, 898, 910, 961, 1031, 1046, 1142, 1230, 1268, 1292, 1298, 1350, 1386, 1416, 1440]\n",
      "clamping outliers in column:  Fireplaces : [166, 309, 605, 642, 1298]\n",
      "clamping outliers in column:  GarageYrBlt : [93]\n",
      "clamping outliers in column:  GarageCars : [420, 747, 1190, 1340, 1350]\n",
      "clamping outliers in column:  GarageArea : [53, 178, 224, 268, 270, 283, 317, 408, 473, 515, 552, 581, 664, 718, 774, 803, 825, 865, 1033, 1036, 1037, 1061, 1087, 1115, 1142, 1161, 1184, 1190, 1228, 1241, 1268, 1298, 1324, 1350, 1374, 1404, 1417, 1438]\n",
      "clamping outliers in column:  WoodDeckSF : [53, 64, 166, 169, 172, 302, 335, 343, 357, 480, 538, 661, 769, 828, 848, 893, 961, 974, 1044, 1068, 1141, 1190, 1210, 1312, 1313, 1423, 1459]\n",
      "clamping outliers in column:  OpenPorchSF : [7, 14, 28, 81, 87, 112, 126, 176, 183, 185, 222, 238, 293, 316, 377, 384, 391, 414, 449, 499, 523, 549, 583, 591, 621, 641, 645, 664, 666, 713, 735, 745, 775, 807, 854, 860, 875, 883, 888, 914, 918, 932, 947, 953, 961, 988, 996, 1106, 1109, 1164, 1184, 1193, 1203, 1227, 1287, 1292, 1298, 1310, 1317, 1328, 1336, 1354, 1369, 1374, 1423]\n",
      "clamping outliers in column:  MoSold : []\n",
      "clamping outliers in column:  YrSold : []\n",
      "clamping outliers in column:  SalePrice : [53, 58, 112, 151, 161, 178, 185, 224, 231, 278, 309, 313, 321, 336, 349, 378, 389, 440, 473, 477, 481, 496, 515, 527, 585, 591, 608, 644, 654, 661, 664, 678, 688, 691, 702, 769, 774, 798, 803, 825, 877, 898, 987, 990, 1046, 1142, 1169, 1181, 1182, 1228, 1267, 1268, 1353, 1373, 1388, 1437]\n"
     ]
    }
   ],
   "source": [
    "# clamp the outliers\n",
    "pp.detected_outliers(house_train_num, clipping=True)"
   ]
  },
  {
   "cell_type": "code",
   "execution_count": 24,
   "metadata": {},
   "outputs": [
    {
     "data": {
      "image/png": "[encoded data removed]",
      "text/plain": [
       "<Figure size 2016x2016 with 28 Axes>"
      ]
     },
     "metadata": {
      "needs_background": "light"
     },
     "output_type": "display_data"
    }
   ],
   "source": [
    "# after clipping outliers\n",
    "pp.boxplot(house_train_num)"
   ]
  },
  {
   "cell_type": "markdown",
   "metadata": {},
   "source": [
    "#### Handling Outliers Test Dataset"
   ]
  },
  {
   "cell_type": "code",
   "execution_count": 25,
   "metadata": {},
   "outputs": [
    {
     "name": "stdout",
     "output_type": "stream",
     "text": [
      "clamping outliers in column:  MSSubClass : [11, 12, 13, 36, 37, 38, 39, 40, 41, 65, 99, 156, 191, 192, 193, 195, 196, 197, 278, 281, 282, 377, 430, 447, 448, 449, 501, 502, 503, 504, 523, 559, 566, 567, 568, 573, 575, 576, 577, 634, 640, 643, 683, 686, 749, 782, 783, 784, 804, 822, 823, 898, 909, 910, 1012, 1015, 1016, 1021, 1090, 1106, 1109, 1141, 1142, 1144, 1164, 1182, 1183, 1184, 1185, 1186, 1190, 1253, 1254, 1255, 1258, 1266, 1293, 1318, 1323, 1358, 1404, 1405, 1414, 1446, 1450, 1452, 1455]\n",
      "clamping outliers in column:  LotFrontage : [10, 11, 12, 13, 14, 19, 35, 37, 38, 39, 55, 64, 108, 153, 156, 169, 191, 192, 193, 194, 195, 196, 197, 198, 200, 205, 211, 218, 221, 237, 248, 278, 284, 300, 447, 448, 449, 460, 463, 501, 502, 503, 504, 505, 509, 514, 516, 517, 519, 537, 566, 567, 568, 573, 575, 576, 578, 749, 768, 779, 780, 783, 784, 799, 804, 814, 821, 822, 823, 824, 828, 829, 830, 832, 833, 835, 839, 906, 909, 910, 913, 920, 921, 964, 983, 1009, 1014, 1053, 1089, 1105, 1109, 1130, 1141, 1144, 1166, 1181, 1182, 1183, 1184, 1185, 1186, 1189, 1190, 1192, 1193, 1194, 1195, 1200, 1201, 1222, 1253, 1256, 1279, 1282, 1291, 1342, 1361, 1369, 1405, 1439, 1450, 1452, 1455, 1456]\n",
      "clamping outliers in column:  LotArea : [22, 47, 105, 108, 137, 206, 394, 487, 490, 561, 579, 689, 748, 762, 772, 785, 799, 803, 804, 901, 916, 936, 964, 1033, 1034, 1043, 1053, 1089, 1107, 1108, 1110, 1112, 1113, 1130, 1147, 1157, 1168, 1173, 1291, 1293, 1304, 1336, 1355, 1361, 1362, 1390, 1420, 1436, 1440, 1456]\n",
      "clamping outliers in column:  OverallQual : []\n",
      "clamping outliers in column:  OverallCond : [56, 67, 76, 77, 78, 93, 113, 117, 120, 159, 274, 276, 277, 283, 306, 309, 317, 323, 326, 333, 345, 347, 355, 370, 378, 381, 438, 439, 451, 462, 468, 558, 579, 595, 609, 641, 645, 653, 667, 674, 680, 684, 685, 686, 688, 694, 737, 741, 742, 747, 750, 751, 940, 953, 957, 970, 982, 983, 985, 986, 989, 991, 1000, 1003, 1008, 1010, 1014, 1018, 1019, 1027, 1069, 1094, 1100, 1102, 1121, 1130, 1144, 1270, 1284, 1295, 1296, 1297, 1298, 1304, 1312, 1315, 1317, 1338, 1345, 1362, 1365, 1368, 1384, 1407, 1411, 1415, 1416, 1417]\n",
      "clamping outliers in column:  YearBuilt : [991]\n",
      "clamping outliers in column:  YearRemodAdd : []\n",
      "clamping outliers in column:  MasVnrArea : [11, 12, 17, 19, 33, 40, 58, 70, 191, 200, 202, 203, 211, 217, 218, 220, 238, 281, 283, 294, 313, 330, 365, 492, 507, 508, 510, 514, 515, 516, 518, 520, 531, 535, 537, 539, 564, 574, 575, 576, 579, 701, 762, 776, 803, 806, 811, 822, 829, 832, 834, 837, 838, 870, 875, 879, 915, 918, 1020, 1073, 1089, 1112, 1122, 1130, 1135, 1157, 1167, 1168, 1170, 1171, 1182, 1185, 1186, 1194, 1195, 1201, 1204, 1205, 1220, 1222, 1223, 1251, 1254, 1281, 1286, 1350, 1375, 1434]\n",
      "clamping outliers in column:  BsmtFinSF1 : [169, 203, 211, 217, 245, 514, 701, 1089]\n",
      "clamping outliers in column:  BsmtUnfSF : [18, 146, 204, 241, 251, 279, 313, 517, 546, 588, 607, 827, 833, 837, 838, 891, 1045, 1046, 1047, 1110, 1131, 1138, 1158, 1164, 1193, 1342, 1352, 1437]\n",
      "clamping outliers in column:  TotalBsmtSF : [19, 169, 203, 211, 217, 218, 245, 460, 507, 514, 701, 803, 806, 828, 832, 834, 916, 1046, 1089, 1293]\n",
      "clamping outliers in column:  1stFlrSF : [19, 169, 203, 211, 217, 218, 245, 451, 507, 514, 701, 803, 806, 832, 834, 915, 916, 1035, 1089, 1113, 1130]\n",
      "clamping outliers in column:  2ndFlrSF : [695, 964, 1168, 1362]\n",
      "clamping outliers in column:  GrLivArea : [19, 179, 200, 201, 203, 237, 278, 287, 401, 402, 403, 495, 509, 510, 516, 517, 563, 564, 579, 695, 829, 833, 838, 871, 964, 1026, 1089, 1113, 1164, 1167, 1168, 1170, 1171, 1220, 1221, 1222, 1224, 1229, 1250, 1251, 1293, 1362]\n",
      "clamping outliers in column:  BsmtFullBath : []\n",
      "clamping outliers in column:  FullBath : [159, 401, 402, 403]\n",
      "clamping outliers in column:  HalfBath : []\n",
      "clamping outliers in column:  BedroomAbvGr : [136, 146, 161, 206, 287, 330, 401, 402, 403, 442, 452, 483, 588, 607, 646, 796, 838, 934, 1009, 1053, 1137, 1140, 1168, 1293, 1312, 1324, 1328, 1336, 1352, 1353, 1362, 1366]\n",
      "clamping outliers in column:  TotRmsAbvGrd : [136, 330, 346, 442, 452, 538, 830, 838, 1026, 1089, 1167, 1169, 1170, 1191, 1222, 1229]\n",
      "clamping outliers in column:  Fireplaces : [200, 949, 1107, 1250, 1251, 1291, 1425]\n",
      "clamping outliers in column:  GarageYrBlt : [142]\n",
      "clamping outliers in column:  GarageCars : [115, 368, 401, 402, 403, 495, 510, 611, 777, 1368, 1445]\n",
      "clamping outliers in column:  GarageArea : [19, 26, 115, 217, 241, 248, 368, 404, 420, 495, 510, 511, 520, 537, 611, 701, 803, 814, 828, 829, 834, 879, 913, 964, 1089, 1156, 1194, 1222, 1293]\n",
      "clamping outliers in column:  WoodDeckSF : [6, 69, 105, 115, 276, 277, 283, 441, 452, 491, 600, 869, 903, 967, 1014, 1053, 1089, 1146, 1147, 1176, 1222, 1250, 1293, 1304, 1362, 1363, 1415, 1456]\n",
      "clamping outliers in column:  OpenPorchSF : [42, 43, 49, 77, 114, 163, 177, 201, 206, 210, 217, 221, 245, 271, 279, 312, 340, 357, 382, 407, 412, 429, 446, 463, 508, 510, 563, 595, 597, 613, 616, 641, 646, 661, 665, 669, 694, 742, 768, 775, 776, 835, 839, 876, 886, 890, 907, 918, 920, 961, 964, 1026, 1043, 1089, 1120, 1157, 1177, 1229, 1251, 1252, 1256, 1257, 1283, 1301, 1328, 1363, 1367, 1403, 1443]\n",
      "clamping outliers in column:  MoSold : []\n",
      "clamping outliers in column:  YrSold : []\n"
     ]
    }
   ],
   "source": [
    "# clamp the outliers\n",
    "pp.detected_outliers(house_test_num, clipping=True)"
   ]
  },
  {
   "cell_type": "code",
   "execution_count": 26,
   "metadata": {},
   "outputs": [
    {
     "data": {
      "image/png": "[encoded data removed]",
      "text/plain": [
       "<Figure size 1944x1944 with 27 Axes>"
      ]
     },
     "metadata": {
      "needs_background": "light"
     },
     "output_type": "display_data"
    }
   ],
   "source": [
    "# after clipping outliers\n",
    "pp.boxplot(house_test_num)"
   ]
  },
  {
   "cell_type": "markdown",
   "metadata": {},
   "source": [
    "### Handling Skewed Features 🟩"
   ]
  },
  {
   "cell_type": "markdown",
   "metadata": {},
   "source": [
    "#### Handling Skewness Features Train Dataset"
   ]
  },
  {
   "cell_type": "code",
   "execution_count": 27,
   "metadata": {},
   "outputs": [
    {
     "data": {
      "text/plain": [
       "MasVnrArea      1.252585\n",
       "OpenPorchSF     1.125919\n",
       "WoodDeckSF      1.048207\n",
       "MSSubClass      1.035740\n",
       "SalePrice       0.858660\n",
       "BsmtUnfSF       0.798269\n",
       "2ndFlrSF        0.757934\n",
       "BsmtFinSF1      0.696262\n",
       "OverallCond     0.673080\n",
       "1stFlrSF        0.661319\n",
       "TotalBsmtSF     0.629649\n",
       "GrLivArea       0.602971\n",
       "HalfBath        0.554013\n",
       "Fireplaces      0.500775\n",
       "BsmtFullBath    0.459865\n",
       "GarageArea      0.440465\n",
       "TotRmsAbvGrd    0.410233\n",
       "OverallQual     0.315218\n",
       "MoSold          0.205257\n",
       "LotArea         0.192560\n",
       "GarageCars      0.134485\n",
       "YrSold          0.109344\n",
       "LotFrontage     0.065224\n",
       "FullBath       -0.014175\n",
       "BedroomAbvGr   -0.293314\n",
       "YearRemodAdd   -0.563345\n",
       "YearBuilt      -0.656388\n",
       "GarageYrBlt    -0.668237\n",
       "dtype: float64"
      ]
     },
     "execution_count": 27,
     "metadata": {},
     "output_type": "execute_result"
    }
   ],
   "source": [
    "house_train_num.skew().sort_values(ascending=False)"
   ]
  },
  {
   "cell_type": "code",
   "execution_count": 28,
   "metadata": {},
   "outputs": [
    {
     "data": {
      "text/html": [
       "<div>\n",
       "<style scoped>\n",
       "    .dataframe tbody tr th:only-of-type {\n",
       "        vertical-align: middle;\n",
       "    }\n",
       "\n",
       "    .dataframe tbody tr th {\n",
       "        vertical-align: top;\n",
       "    }\n",
       "\n",
       "    .dataframe thead th {\n",
       "        text-align: right;\n",
       "    }\n",
       "</style>\n",
       "<table border=\"1\" class=\"dataframe\">\n",
       "  <thead>\n",
       "    <tr style=\"text-align: right;\">\n",
       "      <th></th>\n",
       "      <th>MSSubClass</th>\n",
       "      <th>LotFrontage</th>\n",
       "      <th>LotArea</th>\n",
       "      <th>OverallQual</th>\n",
       "      <th>OverallCond</th>\n",
       "      <th>YearBuilt</th>\n",
       "      <th>YearRemodAdd</th>\n",
       "      <th>MasVnrArea</th>\n",
       "      <th>BsmtFinSF1</th>\n",
       "      <th>BsmtUnfSF</th>\n",
       "      <th>...</th>\n",
       "      <th>TotRmsAbvGrd</th>\n",
       "      <th>Fireplaces</th>\n",
       "      <th>GarageYrBlt</th>\n",
       "      <th>GarageCars</th>\n",
       "      <th>GarageArea</th>\n",
       "      <th>WoodDeckSF</th>\n",
       "      <th>OpenPorchSF</th>\n",
       "      <th>MoSold</th>\n",
       "      <th>YrSold</th>\n",
       "      <th>SalePrice</th>\n",
       "    </tr>\n",
       "  </thead>\n",
       "  <tbody>\n",
       "    <tr>\n",
       "      <th>0</th>\n",
       "      <td>4.110874</td>\n",
       "      <td>65.0</td>\n",
       "      <td>8450.0</td>\n",
       "      <td>7</td>\n",
       "      <td>5.0</td>\n",
       "      <td>2003.0</td>\n",
       "      <td>2003</td>\n",
       "      <td>5.283204</td>\n",
       "      <td>706.0</td>\n",
       "      <td>5.017280</td>\n",
       "      <td>...</td>\n",
       "      <td>8.0</td>\n",
       "      <td>0.0</td>\n",
       "      <td>2003.0</td>\n",
       "      <td>2.0</td>\n",
       "      <td>548.0</td>\n",
       "      <td>0.000000</td>\n",
       "      <td>4.127134</td>\n",
       "      <td>2</td>\n",
       "      <td>2008</td>\n",
       "      <td>12.247699</td>\n",
       "    </tr>\n",
       "    <tr>\n",
       "      <th>1</th>\n",
       "      <td>3.044522</td>\n",
       "      <td>80.0</td>\n",
       "      <td>9600.0</td>\n",
       "      <td>6</td>\n",
       "      <td>7.5</td>\n",
       "      <td>1976.0</td>\n",
       "      <td>1976</td>\n",
       "      <td>0.000000</td>\n",
       "      <td>978.0</td>\n",
       "      <td>5.652489</td>\n",
       "      <td>...</td>\n",
       "      <td>6.0</td>\n",
       "      <td>1.0</td>\n",
       "      <td>1976.0</td>\n",
       "      <td>2.0</td>\n",
       "      <td>460.0</td>\n",
       "      <td>5.700444</td>\n",
       "      <td>0.000000</td>\n",
       "      <td>5</td>\n",
       "      <td>2007</td>\n",
       "      <td>12.109016</td>\n",
       "    </tr>\n",
       "    <tr>\n",
       "      <th>2</th>\n",
       "      <td>4.110874</td>\n",
       "      <td>68.0</td>\n",
       "      <td>11250.0</td>\n",
       "      <td>7</td>\n",
       "      <td>5.0</td>\n",
       "      <td>2001.0</td>\n",
       "      <td>2002</td>\n",
       "      <td>5.093750</td>\n",
       "      <td>486.0</td>\n",
       "      <td>6.075346</td>\n",
       "      <td>...</td>\n",
       "      <td>6.0</td>\n",
       "      <td>1.0</td>\n",
       "      <td>2001.0</td>\n",
       "      <td>2.0</td>\n",
       "      <td>608.0</td>\n",
       "      <td>0.000000</td>\n",
       "      <td>3.761200</td>\n",
       "      <td>9</td>\n",
       "      <td>2008</td>\n",
       "      <td>12.317171</td>\n",
       "    </tr>\n",
       "    <tr>\n",
       "      <th>3</th>\n",
       "      <td>4.262680</td>\n",
       "      <td>60.0</td>\n",
       "      <td>9550.0</td>\n",
       "      <td>7</td>\n",
       "      <td>5.0</td>\n",
       "      <td>1915.0</td>\n",
       "      <td>1970</td>\n",
       "      <td>0.000000</td>\n",
       "      <td>216.0</td>\n",
       "      <td>6.293419</td>\n",
       "      <td>...</td>\n",
       "      <td>7.0</td>\n",
       "      <td>1.0</td>\n",
       "      <td>1998.0</td>\n",
       "      <td>3.0</td>\n",
       "      <td>642.0</td>\n",
       "      <td>0.000000</td>\n",
       "      <td>3.583519</td>\n",
       "      <td>2</td>\n",
       "      <td>2006</td>\n",
       "      <td>11.849405</td>\n",
       "    </tr>\n",
       "    <tr>\n",
       "      <th>4</th>\n",
       "      <td>4.110874</td>\n",
       "      <td>84.0</td>\n",
       "      <td>14260.0</td>\n",
       "      <td>8</td>\n",
       "      <td>5.0</td>\n",
       "      <td>2000.0</td>\n",
       "      <td>2000</td>\n",
       "      <td>5.860786</td>\n",
       "      <td>655.0</td>\n",
       "      <td>6.196444</td>\n",
       "      <td>...</td>\n",
       "      <td>9.0</td>\n",
       "      <td>1.0</td>\n",
       "      <td>2000.0</td>\n",
       "      <td>3.0</td>\n",
       "      <td>836.0</td>\n",
       "      <td>5.262690</td>\n",
       "      <td>4.442651</td>\n",
       "      <td>12</td>\n",
       "      <td>2008</td>\n",
       "      <td>12.429220</td>\n",
       "    </tr>\n",
       "  </tbody>\n",
       "</table>\n",
       "<p>5 rows × 28 columns</p>\n",
       "</div>"
      ],
      "text/plain": [
       "   MSSubClass  LotFrontage  LotArea  OverallQual  OverallCond  YearBuilt  \\\n",
       "0    4.110874         65.0   8450.0            7          5.0     2003.0   \n",
       "1    3.044522         80.0   9600.0            6          7.5     1976.0   \n",
       "2    4.110874         68.0  11250.0            7          5.0     2001.0   \n",
       "3    4.262680         60.0   9550.0            7          5.0     1915.0   \n",
       "4    4.110874         84.0  14260.0            8          5.0     2000.0   \n",
       "\n",
       "   YearRemodAdd  MasVnrArea  BsmtFinSF1  BsmtUnfSF  ...  TotRmsAbvGrd  \\\n",
       "0          2003    5.283204       706.0   5.017280  ...           8.0   \n",
       "1          1976    0.000000       978.0   5.652489  ...           6.0   \n",
       "2          2002    5.093750       486.0   6.075346  ...           6.0   \n",
       "3          1970    0.000000       216.0   6.293419  ...           7.0   \n",
       "4          2000    5.860786       655.0   6.196444  ...           9.0   \n",
       "\n",
       "   Fireplaces  GarageYrBlt  GarageCars  GarageArea  WoodDeckSF  OpenPorchSF  \\\n",
       "0         0.0       2003.0         2.0       548.0    0.000000     4.127134   \n",
       "1         1.0       1976.0         2.0       460.0    5.700444     0.000000   \n",
       "2         1.0       2001.0         2.0       608.0    0.000000     3.761200   \n",
       "3         1.0       1998.0         3.0       642.0    0.000000     3.583519   \n",
       "4         1.0       2000.0         3.0       836.0    5.262690     4.442651   \n",
       "\n",
       "   MoSold  YrSold  SalePrice  \n",
       "0       2    2008  12.247699  \n",
       "1       5    2007  12.109016  \n",
       "2       9    2008  12.317171  \n",
       "3       2    2006  11.849405  \n",
       "4      12    2008  12.429220  \n",
       "\n",
       "[5 rows x 28 columns]"
      ]
     },
     "execution_count": 28,
     "metadata": {},
     "output_type": "execute_result"
    }
   ],
   "source": [
    "pp.skewness_calc(house_train_num, threshold=75, transform=True).head(5)"
   ]
  },
  {
   "cell_type": "markdown",
   "metadata": {},
   "source": [
    "#### Handling Skewness Features Test Dataset"
   ]
  },
  {
   "cell_type": "code",
   "execution_count": 29,
   "metadata": {},
   "outputs": [
    {
     "data": {
      "text/plain": [
       "MasVnrArea      1.300121\n",
       "OpenPorchSF     1.169195\n",
       "WoodDeckSF      1.044339\n",
       "MSSubClass      0.995683\n",
       "BsmtUnfSF       0.872284\n",
       "2ndFlrSF        0.872021\n",
       "BsmtFinSF1      0.793819\n",
       "OverallCond     0.732206\n",
       "GrLivArea       0.662699\n",
       "HalfBath        0.657633\n",
       "1stFlrSF        0.620548\n",
       "Fireplaces      0.596997\n",
       "GarageArea      0.535472\n",
       "TotalBsmtSF     0.534760\n",
       "TotRmsAbvGrd    0.506189\n",
       "BsmtFullBath    0.471771\n",
       "OverallQual     0.303958\n",
       "GarageCars      0.206080\n",
       "MoSold          0.189798\n",
       "LotArea         0.166391\n",
       "YrSold          0.165472\n",
       "FullBath        0.126618\n",
       "LotFrontage    -0.011525\n",
       "BedroomAbvGr   -0.158214\n",
       "YearRemodAdd   -0.458837\n",
       "YearBuilt      -0.632117\n",
       "GarageYrBlt    -0.664778\n",
       "dtype: float64"
      ]
     },
     "execution_count": 29,
     "metadata": {},
     "output_type": "execute_result"
    }
   ],
   "source": [
    "house_test_num.skew().sort_values(ascending=False)"
   ]
  },
  {
   "cell_type": "code",
   "execution_count": 30,
   "metadata": {},
   "outputs": [
    {
     "data": {
      "text/html": [
       "<div>\n",
       "<style scoped>\n",
       "    .dataframe tbody tr th:only-of-type {\n",
       "        vertical-align: middle;\n",
       "    }\n",
       "\n",
       "    .dataframe tbody tr th {\n",
       "        vertical-align: top;\n",
       "    }\n",
       "\n",
       "    .dataframe thead th {\n",
       "        text-align: right;\n",
       "    }\n",
       "</style>\n",
       "<table border=\"1\" class=\"dataframe\">\n",
       "  <thead>\n",
       "    <tr style=\"text-align: right;\">\n",
       "      <th></th>\n",
       "      <th>MSSubClass</th>\n",
       "      <th>LotFrontage</th>\n",
       "      <th>LotArea</th>\n",
       "      <th>OverallQual</th>\n",
       "      <th>OverallCond</th>\n",
       "      <th>YearBuilt</th>\n",
       "      <th>YearRemodAdd</th>\n",
       "      <th>MasVnrArea</th>\n",
       "      <th>BsmtFinSF1</th>\n",
       "      <th>BsmtUnfSF</th>\n",
       "      <th>...</th>\n",
       "      <th>BedroomAbvGr</th>\n",
       "      <th>TotRmsAbvGrd</th>\n",
       "      <th>Fireplaces</th>\n",
       "      <th>GarageYrBlt</th>\n",
       "      <th>GarageCars</th>\n",
       "      <th>GarageArea</th>\n",
       "      <th>WoodDeckSF</th>\n",
       "      <th>OpenPorchSF</th>\n",
       "      <th>MoSold</th>\n",
       "      <th>YrSold</th>\n",
       "    </tr>\n",
       "  </thead>\n",
       "  <tbody>\n",
       "    <tr>\n",
       "      <th>0</th>\n",
       "      <td>3.044522</td>\n",
       "      <td>80.0</td>\n",
       "      <td>11622.0</td>\n",
       "      <td>5</td>\n",
       "      <td>6.0</td>\n",
       "      <td>1961.0</td>\n",
       "      <td>1961</td>\n",
       "      <td>0.000000</td>\n",
       "      <td>6.150603</td>\n",
       "      <td>5.602119</td>\n",
       "      <td>...</td>\n",
       "      <td>2.0</td>\n",
       "      <td>5.0</td>\n",
       "      <td>0.0</td>\n",
       "      <td>1961.0</td>\n",
       "      <td>1.0</td>\n",
       "      <td>730.0</td>\n",
       "      <td>4.948760</td>\n",
       "      <td>0.000000</td>\n",
       "      <td>6</td>\n",
       "      <td>2010</td>\n",
       "    </tr>\n",
       "    <tr>\n",
       "      <th>1</th>\n",
       "      <td>3.044522</td>\n",
       "      <td>81.0</td>\n",
       "      <td>14267.0</td>\n",
       "      <td>6</td>\n",
       "      <td>6.0</td>\n",
       "      <td>1958.0</td>\n",
       "      <td>1958</td>\n",
       "      <td>4.691348</td>\n",
       "      <td>6.828712</td>\n",
       "      <td>6.008813</td>\n",
       "      <td>...</td>\n",
       "      <td>3.0</td>\n",
       "      <td>6.0</td>\n",
       "      <td>0.0</td>\n",
       "      <td>1958.0</td>\n",
       "      <td>1.0</td>\n",
       "      <td>312.0</td>\n",
       "      <td>5.976351</td>\n",
       "      <td>3.610918</td>\n",
       "      <td>6</td>\n",
       "      <td>2010</td>\n",
       "    </tr>\n",
       "    <tr>\n",
       "      <th>2</th>\n",
       "      <td>4.110874</td>\n",
       "      <td>74.0</td>\n",
       "      <td>13830.0</td>\n",
       "      <td>5</td>\n",
       "      <td>5.0</td>\n",
       "      <td>1997.0</td>\n",
       "      <td>1998</td>\n",
       "      <td>0.000000</td>\n",
       "      <td>6.674561</td>\n",
       "      <td>4.927254</td>\n",
       "      <td>...</td>\n",
       "      <td>3.0</td>\n",
       "      <td>6.0</td>\n",
       "      <td>1.0</td>\n",
       "      <td>1997.0</td>\n",
       "      <td>2.0</td>\n",
       "      <td>482.0</td>\n",
       "      <td>5.361292</td>\n",
       "      <td>3.555348</td>\n",
       "      <td>3</td>\n",
       "      <td>2010</td>\n",
       "    </tr>\n",
       "    <tr>\n",
       "      <th>3</th>\n",
       "      <td>4.110874</td>\n",
       "      <td>78.0</td>\n",
       "      <td>9978.0</td>\n",
       "      <td>6</td>\n",
       "      <td>6.0</td>\n",
       "      <td>1998.0</td>\n",
       "      <td>1998</td>\n",
       "      <td>3.044522</td>\n",
       "      <td>6.401917</td>\n",
       "      <td>5.783825</td>\n",
       "      <td>...</td>\n",
       "      <td>3.0</td>\n",
       "      <td>7.0</td>\n",
       "      <td>1.0</td>\n",
       "      <td>1998.0</td>\n",
       "      <td>2.0</td>\n",
       "      <td>470.0</td>\n",
       "      <td>5.888878</td>\n",
       "      <td>3.610918</td>\n",
       "      <td>6</td>\n",
       "      <td>2010</td>\n",
       "    </tr>\n",
       "    <tr>\n",
       "      <th>4</th>\n",
       "      <td>4.795791</td>\n",
       "      <td>43.0</td>\n",
       "      <td>5005.0</td>\n",
       "      <td>8</td>\n",
       "      <td>5.0</td>\n",
       "      <td>1992.0</td>\n",
       "      <td>1992</td>\n",
       "      <td>0.000000</td>\n",
       "      <td>5.575949</td>\n",
       "      <td>6.925595</td>\n",
       "      <td>...</td>\n",
       "      <td>2.0</td>\n",
       "      <td>5.0</td>\n",
       "      <td>0.0</td>\n",
       "      <td>1992.0</td>\n",
       "      <td>2.0</td>\n",
       "      <td>506.0</td>\n",
       "      <td>0.000000</td>\n",
       "      <td>4.418841</td>\n",
       "      <td>1</td>\n",
       "      <td>2010</td>\n",
       "    </tr>\n",
       "  </tbody>\n",
       "</table>\n",
       "<p>5 rows × 27 columns</p>\n",
       "</div>"
      ],
      "text/plain": [
       "   MSSubClass  LotFrontage  LotArea  OverallQual  OverallCond  YearBuilt  \\\n",
       "0    3.044522         80.0  11622.0            5          6.0     1961.0   \n",
       "1    3.044522         81.0  14267.0            6          6.0     1958.0   \n",
       "2    4.110874         74.0  13830.0            5          5.0     1997.0   \n",
       "3    4.110874         78.0   9978.0            6          6.0     1998.0   \n",
       "4    4.795791         43.0   5005.0            8          5.0     1992.0   \n",
       "\n",
       "   YearRemodAdd  MasVnrArea  BsmtFinSF1  BsmtUnfSF  ...  BedroomAbvGr  \\\n",
       "0          1961    0.000000    6.150603   5.602119  ...           2.0   \n",
       "1          1958    4.691348    6.828712   6.008813  ...           3.0   \n",
       "2          1998    0.000000    6.674561   4.927254  ...           3.0   \n",
       "3          1998    3.044522    6.401917   5.783825  ...           3.0   \n",
       "4          1992    0.000000    5.575949   6.925595  ...           2.0   \n",
       "\n",
       "   TotRmsAbvGrd  Fireplaces  GarageYrBlt  GarageCars  GarageArea  WoodDeckSF  \\\n",
       "0           5.0         0.0       1961.0         1.0       730.0    4.948760   \n",
       "1           6.0         0.0       1958.0         1.0       312.0    5.976351   \n",
       "2           6.0         1.0       1997.0         2.0       482.0    5.361292   \n",
       "3           7.0         1.0       1998.0         2.0       470.0    5.888878   \n",
       "4           5.0         0.0       1992.0         2.0       506.0    0.000000   \n",
       "\n",
       "   OpenPorchSF  MoSold  YrSold  \n",
       "0     0.000000       6    2010  \n",
       "1     3.610918       6    2010  \n",
       "2     3.555348       3    2010  \n",
       "3     3.610918       6    2010  \n",
       "4     4.418841       1    2010  \n",
       "\n",
       "[5 rows x 27 columns]"
      ]
     },
     "execution_count": 30,
     "metadata": {},
     "output_type": "execute_result"
    }
   ],
   "source": [
    "pp.skewness_calc(house_test_num, threshold=75, transform=True).head(5)"
   ]
  },
  {
   "cell_type": "markdown",
   "metadata": {},
   "source": [
    "### Gaussian Distribution OR NOT By Shapiro_TEST 🟩"
   ]
  },
  {
   "cell_type": "markdown",
   "metadata": {},
   "source": [
    "#### Performs the Shapiro-Wilk test with alpha = 0.01 Test Dataset"
   ]
  },
  {
   "cell_type": "code",
   "execution_count": 31,
   "metadata": {},
   "outputs": [
    {
     "name": "stdout",
     "output_type": "stream",
     "text": [
      "+ Column '[]' is normally distributed\n",
      "- Column '['MSSubClass', 'LotFrontage', 'LotArea', 'OverallQual', 'OverallCond', 'YearBuilt', 'YearRemodAdd', 'MasVnrArea', 'BsmtFinSF1', 'BsmtUnfSF', 'TotalBsmtSF', '1stFlrSF', '2ndFlrSF', 'GrLivArea', 'BsmtFullBath', 'FullBath', 'HalfBath', 'BedroomAbvGr', 'TotRmsAbvGrd', 'Fireplaces', 'GarageYrBlt', 'GarageCars', 'GarageArea', 'WoodDeckSF', 'OpenPorchSF', 'MoSold', 'YrSold']' is 'not' normally distributed\n"
     ]
    }
   ],
   "source": [
    "pp.shapiro_test(df=house_test_num, alpha=0.01)"
   ]
  },
  {
   "cell_type": "markdown",
   "metadata": {},
   "source": [
    "#### Performs the Shapiro-Wilk test with alpha = 0.01 Train Dataset"
   ]
  },
  {
   "cell_type": "code",
   "execution_count": 32,
   "metadata": {},
   "outputs": [
    {
     "name": "stdout",
     "output_type": "stream",
     "text": [
      "+ Column '[]' is normally distributed\n",
      "- Column '['MSSubClass', 'LotFrontage', 'LotArea', 'OverallQual', 'OverallCond', 'YearBuilt', 'YearRemodAdd', 'MasVnrArea', 'BsmtFinSF1', 'BsmtUnfSF', 'TotalBsmtSF', '1stFlrSF', '2ndFlrSF', 'GrLivArea', 'BsmtFullBath', 'FullBath', 'HalfBath', 'BedroomAbvGr', 'TotRmsAbvGrd', 'Fireplaces', 'GarageYrBlt', 'GarageCars', 'GarageArea', 'WoodDeckSF', 'OpenPorchSF', 'MoSold', 'YrSold', 'SalePrice']' is 'not' normally distributed\n"
     ]
    }
   ],
   "source": [
    "pp.shapiro_test(df=house_train_num, alpha=0.01)"
   ]
  },
  {
   "cell_type": "markdown",
   "metadata": {},
   "source": [
    "### Re-Collecting Data 🟩"
   ]
  },
  {
   "cell_type": "code",
   "execution_count": 33,
   "metadata": {},
   "outputs": [
    {
     "data": {
      "text/html": [
       "<div>\n",
       "<style scoped>\n",
       "    .dataframe tbody tr th:only-of-type {\n",
       "        vertical-align: middle;\n",
       "    }\n",
       "\n",
       "    .dataframe tbody tr th {\n",
       "        vertical-align: top;\n",
       "    }\n",
       "\n",
       "    .dataframe thead th {\n",
       "        text-align: right;\n",
       "    }\n",
       "</style>\n",
       "<table border=\"1\" class=\"dataframe\">\n",
       "  <thead>\n",
       "    <tr style=\"text-align: right;\">\n",
       "      <th></th>\n",
       "      <th>MSZoning</th>\n",
       "      <th>Street</th>\n",
       "      <th>LotShape</th>\n",
       "      <th>LandContour</th>\n",
       "      <th>Utilities</th>\n",
       "      <th>LotConfig</th>\n",
       "      <th>LandSlope</th>\n",
       "      <th>Neighborhood</th>\n",
       "      <th>Condition1</th>\n",
       "      <th>Condition2</th>\n",
       "      <th>...</th>\n",
       "      <th>BedroomAbvGr</th>\n",
       "      <th>TotRmsAbvGrd</th>\n",
       "      <th>Fireplaces</th>\n",
       "      <th>GarageYrBlt</th>\n",
       "      <th>GarageCars</th>\n",
       "      <th>GarageArea</th>\n",
       "      <th>WoodDeckSF</th>\n",
       "      <th>OpenPorchSF</th>\n",
       "      <th>MoSold</th>\n",
       "      <th>YrSold</th>\n",
       "    </tr>\n",
       "  </thead>\n",
       "  <tbody>\n",
       "    <tr>\n",
       "      <th>0</th>\n",
       "      <td>RH</td>\n",
       "      <td>Pave</td>\n",
       "      <td>Reg</td>\n",
       "      <td>Lvl</td>\n",
       "      <td>AllPub</td>\n",
       "      <td>Inside</td>\n",
       "      <td>Gtl</td>\n",
       "      <td>NAmes</td>\n",
       "      <td>Feedr</td>\n",
       "      <td>Norm</td>\n",
       "      <td>...</td>\n",
       "      <td>2.0</td>\n",
       "      <td>5.0</td>\n",
       "      <td>0.0</td>\n",
       "      <td>1961.0</td>\n",
       "      <td>1.0</td>\n",
       "      <td>730.0</td>\n",
       "      <td>4.948760</td>\n",
       "      <td>0.000000</td>\n",
       "      <td>6</td>\n",
       "      <td>2010</td>\n",
       "    </tr>\n",
       "    <tr>\n",
       "      <th>1</th>\n",
       "      <td>RL</td>\n",
       "      <td>Pave</td>\n",
       "      <td>IR1</td>\n",
       "      <td>Lvl</td>\n",
       "      <td>AllPub</td>\n",
       "      <td>Corner</td>\n",
       "      <td>Gtl</td>\n",
       "      <td>NAmes</td>\n",
       "      <td>Norm</td>\n",
       "      <td>Norm</td>\n",
       "      <td>...</td>\n",
       "      <td>3.0</td>\n",
       "      <td>6.0</td>\n",
       "      <td>0.0</td>\n",
       "      <td>1958.0</td>\n",
       "      <td>1.0</td>\n",
       "      <td>312.0</td>\n",
       "      <td>5.976351</td>\n",
       "      <td>3.610918</td>\n",
       "      <td>6</td>\n",
       "      <td>2010</td>\n",
       "    </tr>\n",
       "    <tr>\n",
       "      <th>2</th>\n",
       "      <td>RL</td>\n",
       "      <td>Pave</td>\n",
       "      <td>IR1</td>\n",
       "      <td>Lvl</td>\n",
       "      <td>AllPub</td>\n",
       "      <td>Inside</td>\n",
       "      <td>Gtl</td>\n",
       "      <td>Gilbert</td>\n",
       "      <td>Norm</td>\n",
       "      <td>Norm</td>\n",
       "      <td>...</td>\n",
       "      <td>3.0</td>\n",
       "      <td>6.0</td>\n",
       "      <td>1.0</td>\n",
       "      <td>1997.0</td>\n",
       "      <td>2.0</td>\n",
       "      <td>482.0</td>\n",
       "      <td>5.361292</td>\n",
       "      <td>3.555348</td>\n",
       "      <td>3</td>\n",
       "      <td>2010</td>\n",
       "    </tr>\n",
       "    <tr>\n",
       "      <th>3</th>\n",
       "      <td>RL</td>\n",
       "      <td>Pave</td>\n",
       "      <td>IR1</td>\n",
       "      <td>Lvl</td>\n",
       "      <td>AllPub</td>\n",
       "      <td>Inside</td>\n",
       "      <td>Gtl</td>\n",
       "      <td>Gilbert</td>\n",
       "      <td>Norm</td>\n",
       "      <td>Norm</td>\n",
       "      <td>...</td>\n",
       "      <td>3.0</td>\n",
       "      <td>7.0</td>\n",
       "      <td>1.0</td>\n",
       "      <td>1998.0</td>\n",
       "      <td>2.0</td>\n",
       "      <td>470.0</td>\n",
       "      <td>5.888878</td>\n",
       "      <td>3.610918</td>\n",
       "      <td>6</td>\n",
       "      <td>2010</td>\n",
       "    </tr>\n",
       "    <tr>\n",
       "      <th>4</th>\n",
       "      <td>RL</td>\n",
       "      <td>Pave</td>\n",
       "      <td>IR1</td>\n",
       "      <td>HLS</td>\n",
       "      <td>AllPub</td>\n",
       "      <td>Inside</td>\n",
       "      <td>Gtl</td>\n",
       "      <td>StoneBr</td>\n",
       "      <td>Norm</td>\n",
       "      <td>Norm</td>\n",
       "      <td>...</td>\n",
       "      <td>2.0</td>\n",
       "      <td>5.0</td>\n",
       "      <td>0.0</td>\n",
       "      <td>1992.0</td>\n",
       "      <td>2.0</td>\n",
       "      <td>506.0</td>\n",
       "      <td>0.000000</td>\n",
       "      <td>4.418841</td>\n",
       "      <td>1</td>\n",
       "      <td>2010</td>\n",
       "    </tr>\n",
       "  </tbody>\n",
       "</table>\n",
       "<p>5 rows × 65 columns</p>\n",
       "</div>"
      ],
      "text/plain": [
       "  MSZoning Street LotShape LandContour Utilities LotConfig LandSlope  \\\n",
       "0       RH   Pave      Reg         Lvl    AllPub    Inside       Gtl   \n",
       "1       RL   Pave      IR1         Lvl    AllPub    Corner       Gtl   \n",
       "2       RL   Pave      IR1         Lvl    AllPub    Inside       Gtl   \n",
       "3       RL   Pave      IR1         Lvl    AllPub    Inside       Gtl   \n",
       "4       RL   Pave      IR1         HLS    AllPub    Inside       Gtl   \n",
       "\n",
       "  Neighborhood Condition1 Condition2  ... BedroomAbvGr TotRmsAbvGrd  \\\n",
       "0        NAmes      Feedr       Norm  ...          2.0          5.0   \n",
       "1        NAmes       Norm       Norm  ...          3.0          6.0   \n",
       "2      Gilbert       Norm       Norm  ...          3.0          6.0   \n",
       "3      Gilbert       Norm       Norm  ...          3.0          7.0   \n",
       "4      StoneBr       Norm       Norm  ...          2.0          5.0   \n",
       "\n",
       "  Fireplaces GarageYrBlt GarageCars GarageArea WoodDeckSF OpenPorchSF MoSold  \\\n",
       "0        0.0      1961.0        1.0      730.0   4.948760    0.000000      6   \n",
       "1        0.0      1958.0        1.0      312.0   5.976351    3.610918      6   \n",
       "2        1.0      1997.0        2.0      482.0   5.361292    3.555348      3   \n",
       "3        1.0      1998.0        2.0      470.0   5.888878    3.610918      6   \n",
       "4        0.0      1992.0        2.0      506.0   0.000000    4.418841      1   \n",
       "\n",
       "  YrSold  \n",
       "0   2010  \n",
       "1   2010  \n",
       "2   2010  \n",
       "3   2010  \n",
       "4   2010  \n",
       "\n",
       "[5 rows x 65 columns]"
      ]
     },
     "execution_count": 33,
     "metadata": {},
     "output_type": "execute_result"
    }
   ],
   "source": [
    "# merge house_num and house_cat\n",
    "house_test = pd.merge(house_test_cat, house_test_num, left_index=True, right_index=True)\n",
    "house_test.head(5)"
   ]
  },
  {
   "cell_type": "code",
   "execution_count": 34,
   "metadata": {},
   "outputs": [
    {
     "data": {
      "text/html": [
       "<div>\n",
       "<style scoped>\n",
       "    .dataframe tbody tr th:only-of-type {\n",
       "        vertical-align: middle;\n",
       "    }\n",
       "\n",
       "    .dataframe tbody tr th {\n",
       "        vertical-align: top;\n",
       "    }\n",
       "\n",
       "    .dataframe thead th {\n",
       "        text-align: right;\n",
       "    }\n",
       "</style>\n",
       "<table border=\"1\" class=\"dataframe\">\n",
       "  <thead>\n",
       "    <tr style=\"text-align: right;\">\n",
       "      <th></th>\n",
       "      <th>MSZoning</th>\n",
       "      <th>Street</th>\n",
       "      <th>LotShape</th>\n",
       "      <th>LandContour</th>\n",
       "      <th>Utilities</th>\n",
       "      <th>LotConfig</th>\n",
       "      <th>LandSlope</th>\n",
       "      <th>Neighborhood</th>\n",
       "      <th>Condition1</th>\n",
       "      <th>Condition2</th>\n",
       "      <th>...</th>\n",
       "      <th>TotRmsAbvGrd</th>\n",
       "      <th>Fireplaces</th>\n",
       "      <th>GarageYrBlt</th>\n",
       "      <th>GarageCars</th>\n",
       "      <th>GarageArea</th>\n",
       "      <th>WoodDeckSF</th>\n",
       "      <th>OpenPorchSF</th>\n",
       "      <th>MoSold</th>\n",
       "      <th>YrSold</th>\n",
       "      <th>SalePrice</th>\n",
       "    </tr>\n",
       "  </thead>\n",
       "  <tbody>\n",
       "    <tr>\n",
       "      <th>0</th>\n",
       "      <td>RL</td>\n",
       "      <td>Pave</td>\n",
       "      <td>Reg</td>\n",
       "      <td>Lvl</td>\n",
       "      <td>AllPub</td>\n",
       "      <td>Inside</td>\n",
       "      <td>Gtl</td>\n",
       "      <td>CollgCr</td>\n",
       "      <td>Norm</td>\n",
       "      <td>Norm</td>\n",
       "      <td>...</td>\n",
       "      <td>8.0</td>\n",
       "      <td>0.0</td>\n",
       "      <td>2003.0</td>\n",
       "      <td>2.0</td>\n",
       "      <td>548.0</td>\n",
       "      <td>0.000000</td>\n",
       "      <td>4.127134</td>\n",
       "      <td>2</td>\n",
       "      <td>2008</td>\n",
       "      <td>12.247699</td>\n",
       "    </tr>\n",
       "    <tr>\n",
       "      <th>1</th>\n",
       "      <td>RL</td>\n",
       "      <td>Pave</td>\n",
       "      <td>Reg</td>\n",
       "      <td>Lvl</td>\n",
       "      <td>AllPub</td>\n",
       "      <td>FR2</td>\n",
       "      <td>Gtl</td>\n",
       "      <td>Veenker</td>\n",
       "      <td>Feedr</td>\n",
       "      <td>Norm</td>\n",
       "      <td>...</td>\n",
       "      <td>6.0</td>\n",
       "      <td>1.0</td>\n",
       "      <td>1976.0</td>\n",
       "      <td>2.0</td>\n",
       "      <td>460.0</td>\n",
       "      <td>5.700444</td>\n",
       "      <td>0.000000</td>\n",
       "      <td>5</td>\n",
       "      <td>2007</td>\n",
       "      <td>12.109016</td>\n",
       "    </tr>\n",
       "    <tr>\n",
       "      <th>2</th>\n",
       "      <td>RL</td>\n",
       "      <td>Pave</td>\n",
       "      <td>IR1</td>\n",
       "      <td>Lvl</td>\n",
       "      <td>AllPub</td>\n",
       "      <td>Inside</td>\n",
       "      <td>Gtl</td>\n",
       "      <td>CollgCr</td>\n",
       "      <td>Norm</td>\n",
       "      <td>Norm</td>\n",
       "      <td>...</td>\n",
       "      <td>6.0</td>\n",
       "      <td>1.0</td>\n",
       "      <td>2001.0</td>\n",
       "      <td>2.0</td>\n",
       "      <td>608.0</td>\n",
       "      <td>0.000000</td>\n",
       "      <td>3.761200</td>\n",
       "      <td>9</td>\n",
       "      <td>2008</td>\n",
       "      <td>12.317171</td>\n",
       "    </tr>\n",
       "    <tr>\n",
       "      <th>3</th>\n",
       "      <td>RL</td>\n",
       "      <td>Pave</td>\n",
       "      <td>IR1</td>\n",
       "      <td>Lvl</td>\n",
       "      <td>AllPub</td>\n",
       "      <td>Corner</td>\n",
       "      <td>Gtl</td>\n",
       "      <td>Crawfor</td>\n",
       "      <td>Norm</td>\n",
       "      <td>Norm</td>\n",
       "      <td>...</td>\n",
       "      <td>7.0</td>\n",
       "      <td>1.0</td>\n",
       "      <td>1998.0</td>\n",
       "      <td>3.0</td>\n",
       "      <td>642.0</td>\n",
       "      <td>0.000000</td>\n",
       "      <td>3.583519</td>\n",
       "      <td>2</td>\n",
       "      <td>2006</td>\n",
       "      <td>11.849405</td>\n",
       "    </tr>\n",
       "    <tr>\n",
       "      <th>4</th>\n",
       "      <td>RL</td>\n",
       "      <td>Pave</td>\n",
       "      <td>IR1</td>\n",
       "      <td>Lvl</td>\n",
       "      <td>AllPub</td>\n",
       "      <td>FR2</td>\n",
       "      <td>Gtl</td>\n",
       "      <td>NoRidge</td>\n",
       "      <td>Norm</td>\n",
       "      <td>Norm</td>\n",
       "      <td>...</td>\n",
       "      <td>9.0</td>\n",
       "      <td>1.0</td>\n",
       "      <td>2000.0</td>\n",
       "      <td>3.0</td>\n",
       "      <td>836.0</td>\n",
       "      <td>5.262690</td>\n",
       "      <td>4.442651</td>\n",
       "      <td>12</td>\n",
       "      <td>2008</td>\n",
       "      <td>12.429220</td>\n",
       "    </tr>\n",
       "  </tbody>\n",
       "</table>\n",
       "<p>5 rows × 66 columns</p>\n",
       "</div>"
      ],
      "text/plain": [
       "  MSZoning Street LotShape LandContour Utilities LotConfig LandSlope  \\\n",
       "0       RL   Pave      Reg         Lvl    AllPub    Inside       Gtl   \n",
       "1       RL   Pave      Reg         Lvl    AllPub       FR2       Gtl   \n",
       "2       RL   Pave      IR1         Lvl    AllPub    Inside       Gtl   \n",
       "3       RL   Pave      IR1         Lvl    AllPub    Corner       Gtl   \n",
       "4       RL   Pave      IR1         Lvl    AllPub       FR2       Gtl   \n",
       "\n",
       "  Neighborhood Condition1 Condition2  ... TotRmsAbvGrd Fireplaces GarageYrBlt  \\\n",
       "0      CollgCr       Norm       Norm  ...          8.0        0.0      2003.0   \n",
       "1      Veenker      Feedr       Norm  ...          6.0        1.0      1976.0   \n",
       "2      CollgCr       Norm       Norm  ...          6.0        1.0      2001.0   \n",
       "3      Crawfor       Norm       Norm  ...          7.0        1.0      1998.0   \n",
       "4      NoRidge       Norm       Norm  ...          9.0        1.0      2000.0   \n",
       "\n",
       "  GarageCars GarageArea WoodDeckSF OpenPorchSF MoSold YrSold  SalePrice  \n",
       "0        2.0      548.0   0.000000    4.127134      2   2008  12.247699  \n",
       "1        2.0      460.0   5.700444    0.000000      5   2007  12.109016  \n",
       "2        2.0      608.0   0.000000    3.761200      9   2008  12.317171  \n",
       "3        3.0      642.0   0.000000    3.583519      2   2006  11.849405  \n",
       "4        3.0      836.0   5.262690    4.442651     12   2008  12.429220  \n",
       "\n",
       "[5 rows x 66 columns]"
      ]
     },
     "execution_count": 34,
     "metadata": {},
     "output_type": "execute_result"
    }
   ],
   "source": [
    "# merge house_num and house_cat\n",
    "house_train = pd.merge(house_train_cat, house_train_num, left_index=True, right_index=True)\n",
    "house_train.head(5)"
   ]
  },
  {
   "cell_type": "markdown",
   "metadata": {},
   "source": [
    "### Encoding Categorical Data 🟩"
   ]
  },
  {
   "cell_type": "code",
   "execution_count": 35,
   "metadata": {},
   "outputs": [],
   "source": [
    "ordinal_cats = ['BsmtQual', 'LotShape', 'HeatingQC', 'BsmtFinType1',  'ExterQual', 'KitchenQual', 'BsmtExposure', 'GarageFinish']\n",
    "\n",
    "nominal_cats = ['HouseStyle', 'LotConfig', 'RoofStyle', 'GarageType', 'Exterior1st', 'Foundation', 'MSZoning', 'Exterior2nd', 'MasVnrType', 'Neighborhood']"
   ]
  },
  {
   "cell_type": "code",
   "execution_count": 36,
   "metadata": {},
   "outputs": [
    {
     "data": {
      "text/plain": [
       "((1319, 38), (1338, 38), (1319, 27), (1338, 28))"
      ]
     },
     "execution_count": 36,
     "metadata": {},
     "output_type": "execute_result"
    }
   ],
   "source": [
    "house_test_cat.shape, house_train_cat.shape, house_test_num.shape, house_train_num.shape"
   ]
  },
  {
   "cell_type": "markdown",
   "metadata": {},
   "source": [
    "#### Encoding Categorical Variables Train, Test Dataset"
   ]
  },
  {
   "cell_type": "code",
   "execution_count": 37,
   "metadata": {},
   "outputs": [],
   "source": [
    "house_train_cat_nominal, house_test_cat_nominal  = pp.encoding_nominal_cat(house_train_cat, nominal_cats, house_test_cat)\n",
    "house_train_cat_ordinal, house_test_cat_ordinal  = pp.encoding_ordinal_cat(house_train_cat, ordinal_cats, house_test_cat)"
   ]
  },
  {
   "cell_type": "code",
   "execution_count": 38,
   "metadata": {},
   "outputs": [
    {
     "data": {
      "text/html": [
       "<div>\n",
       "<style scoped>\n",
       "    .dataframe tbody tr th:only-of-type {\n",
       "        vertical-align: middle;\n",
       "    }\n",
       "\n",
       "    .dataframe tbody tr th {\n",
       "        vertical-align: top;\n",
       "    }\n",
       "\n",
       "    .dataframe thead th {\n",
       "        text-align: right;\n",
       "    }\n",
       "</style>\n",
       "<table border=\"1\" class=\"dataframe\">\n",
       "  <thead>\n",
       "    <tr style=\"text-align: right;\">\n",
       "      <th></th>\n",
       "      <th>1.5Fin</th>\n",
       "      <th>1.5Unf</th>\n",
       "      <th>1Story</th>\n",
       "      <th>2.5Fin</th>\n",
       "      <th>2.5Unf</th>\n",
       "      <th>2Story</th>\n",
       "      <th>SFoyer</th>\n",
       "      <th>SLvl</th>\n",
       "      <th>Corner</th>\n",
       "      <th>CulDSac</th>\n",
       "      <th>...</th>\n",
       "      <th>Timber</th>\n",
       "      <th>Veenker</th>\n",
       "      <th>BsmtQual</th>\n",
       "      <th>LotShape</th>\n",
       "      <th>HeatingQC</th>\n",
       "      <th>BsmtFinType1</th>\n",
       "      <th>ExterQual</th>\n",
       "      <th>KitchenQual</th>\n",
       "      <th>BsmtExposure</th>\n",
       "      <th>GarageFinish</th>\n",
       "    </tr>\n",
       "  </thead>\n",
       "  <tbody>\n",
       "    <tr>\n",
       "      <th>0</th>\n",
       "      <td>0.0</td>\n",
       "      <td>0.0</td>\n",
       "      <td>1.0</td>\n",
       "      <td>0.0</td>\n",
       "      <td>0.0</td>\n",
       "      <td>0.0</td>\n",
       "      <td>0.0</td>\n",
       "      <td>0.0</td>\n",
       "      <td>0.0</td>\n",
       "      <td>0.0</td>\n",
       "      <td>...</td>\n",
       "      <td>0.0</td>\n",
       "      <td>0.0</td>\n",
       "      <td>3</td>\n",
       "      <td>3</td>\n",
       "      <td>4</td>\n",
       "      <td>4</td>\n",
       "      <td>3</td>\n",
       "      <td>3</td>\n",
       "      <td>3</td>\n",
       "      <td>2</td>\n",
       "    </tr>\n",
       "    <tr>\n",
       "      <th>1</th>\n",
       "      <td>0.0</td>\n",
       "      <td>0.0</td>\n",
       "      <td>1.0</td>\n",
       "      <td>0.0</td>\n",
       "      <td>0.0</td>\n",
       "      <td>0.0</td>\n",
       "      <td>0.0</td>\n",
       "      <td>0.0</td>\n",
       "      <td>1.0</td>\n",
       "      <td>0.0</td>\n",
       "      <td>...</td>\n",
       "      <td>0.0</td>\n",
       "      <td>0.0</td>\n",
       "      <td>3</td>\n",
       "      <td>0</td>\n",
       "      <td>4</td>\n",
       "      <td>0</td>\n",
       "      <td>3</td>\n",
       "      <td>2</td>\n",
       "      <td>3</td>\n",
       "      <td>2</td>\n",
       "    </tr>\n",
       "    <tr>\n",
       "      <th>2</th>\n",
       "      <td>0.0</td>\n",
       "      <td>0.0</td>\n",
       "      <td>0.0</td>\n",
       "      <td>0.0</td>\n",
       "      <td>0.0</td>\n",
       "      <td>1.0</td>\n",
       "      <td>0.0</td>\n",
       "      <td>0.0</td>\n",
       "      <td>0.0</td>\n",
       "      <td>0.0</td>\n",
       "      <td>...</td>\n",
       "      <td>0.0</td>\n",
       "      <td>0.0</td>\n",
       "      <td>2</td>\n",
       "      <td>0</td>\n",
       "      <td>2</td>\n",
       "      <td>2</td>\n",
       "      <td>3</td>\n",
       "      <td>3</td>\n",
       "      <td>3</td>\n",
       "      <td>0</td>\n",
       "    </tr>\n",
       "    <tr>\n",
       "      <th>3</th>\n",
       "      <td>0.0</td>\n",
       "      <td>0.0</td>\n",
       "      <td>0.0</td>\n",
       "      <td>0.0</td>\n",
       "      <td>0.0</td>\n",
       "      <td>1.0</td>\n",
       "      <td>0.0</td>\n",
       "      <td>0.0</td>\n",
       "      <td>0.0</td>\n",
       "      <td>0.0</td>\n",
       "      <td>...</td>\n",
       "      <td>0.0</td>\n",
       "      <td>0.0</td>\n",
       "      <td>3</td>\n",
       "      <td>0</td>\n",
       "      <td>0</td>\n",
       "      <td>2</td>\n",
       "      <td>3</td>\n",
       "      <td>2</td>\n",
       "      <td>3</td>\n",
       "      <td>0</td>\n",
       "    </tr>\n",
       "    <tr>\n",
       "      <th>4</th>\n",
       "      <td>0.0</td>\n",
       "      <td>0.0</td>\n",
       "      <td>1.0</td>\n",
       "      <td>0.0</td>\n",
       "      <td>0.0</td>\n",
       "      <td>0.0</td>\n",
       "      <td>0.0</td>\n",
       "      <td>0.0</td>\n",
       "      <td>0.0</td>\n",
       "      <td>0.0</td>\n",
       "      <td>...</td>\n",
       "      <td>0.0</td>\n",
       "      <td>0.0</td>\n",
       "      <td>2</td>\n",
       "      <td>0</td>\n",
       "      <td>0</td>\n",
       "      <td>0</td>\n",
       "      <td>2</td>\n",
       "      <td>2</td>\n",
       "      <td>3</td>\n",
       "      <td>1</td>\n",
       "    </tr>\n",
       "  </tbody>\n",
       "</table>\n",
       "<p>5 rows × 102 columns</p>\n",
       "</div>"
      ],
      "text/plain": [
       "   1.5Fin  1.5Unf  1Story  2.5Fin  2.5Unf  2Story  SFoyer  SLvl  Corner  \\\n",
       "0     0.0     0.0     1.0     0.0     0.0     0.0     0.0   0.0     0.0   \n",
       "1     0.0     0.0     1.0     0.0     0.0     0.0     0.0   0.0     1.0   \n",
       "2     0.0     0.0     0.0     0.0     0.0     1.0     0.0   0.0     0.0   \n",
       "3     0.0     0.0     0.0     0.0     0.0     1.0     0.0   0.0     0.0   \n",
       "4     0.0     0.0     1.0     0.0     0.0     0.0     0.0   0.0     0.0   \n",
       "\n",
       "   CulDSac  ...  Timber  Veenker  BsmtQual  LotShape  HeatingQC  BsmtFinType1  \\\n",
       "0      0.0  ...     0.0      0.0         3         3          4             4   \n",
       "1      0.0  ...     0.0      0.0         3         0          4             0   \n",
       "2      0.0  ...     0.0      0.0         2         0          2             2   \n",
       "3      0.0  ...     0.0      0.0         3         0          0             2   \n",
       "4      0.0  ...     0.0      0.0         2         0          0             0   \n",
       "\n",
       "   ExterQual  KitchenQual  BsmtExposure  GarageFinish  \n",
       "0          3            3             3             2  \n",
       "1          3            2             3             2  \n",
       "2          3            3             3             0  \n",
       "3          3            2             3             0  \n",
       "4          2            2             3             1  \n",
       "\n",
       "[5 rows x 102 columns]"
      ]
     },
     "execution_count": 38,
     "metadata": {},
     "output_type": "execute_result"
    }
   ],
   "source": [
    "house_test_final_cat = pd.merge(house_test_cat_nominal, house_test_cat_ordinal, left_index=True, right_index=True)\n",
    "house_test_final_cat.head(5)"
   ]
  },
  {
   "cell_type": "code",
   "execution_count": 39,
   "metadata": {},
   "outputs": [
    {
     "data": {
      "text/html": [
       "<div>\n",
       "<style scoped>\n",
       "    .dataframe tbody tr th:only-of-type {\n",
       "        vertical-align: middle;\n",
       "    }\n",
       "\n",
       "    .dataframe tbody tr th {\n",
       "        vertical-align: top;\n",
       "    }\n",
       "\n",
       "    .dataframe thead th {\n",
       "        text-align: right;\n",
       "    }\n",
       "</style>\n",
       "<table border=\"1\" class=\"dataframe\">\n",
       "  <thead>\n",
       "    <tr style=\"text-align: right;\">\n",
       "      <th></th>\n",
       "      <th>1.5Fin</th>\n",
       "      <th>1.5Unf</th>\n",
       "      <th>1Story</th>\n",
       "      <th>2.5Fin</th>\n",
       "      <th>2.5Unf</th>\n",
       "      <th>2Story</th>\n",
       "      <th>SFoyer</th>\n",
       "      <th>SLvl</th>\n",
       "      <th>Corner</th>\n",
       "      <th>CulDSac</th>\n",
       "      <th>...</th>\n",
       "      <th>Timber</th>\n",
       "      <th>Veenker</th>\n",
       "      <th>BsmtQual</th>\n",
       "      <th>LotShape</th>\n",
       "      <th>HeatingQC</th>\n",
       "      <th>BsmtFinType1</th>\n",
       "      <th>ExterQual</th>\n",
       "      <th>KitchenQual</th>\n",
       "      <th>BsmtExposure</th>\n",
       "      <th>GarageFinish</th>\n",
       "    </tr>\n",
       "  </thead>\n",
       "  <tbody>\n",
       "    <tr>\n",
       "      <th>0</th>\n",
       "      <td>0.0</td>\n",
       "      <td>0.0</td>\n",
       "      <td>0.0</td>\n",
       "      <td>0.0</td>\n",
       "      <td>0.0</td>\n",
       "      <td>1.0</td>\n",
       "      <td>0.0</td>\n",
       "      <td>0.0</td>\n",
       "      <td>0.0</td>\n",
       "      <td>0.0</td>\n",
       "      <td>...</td>\n",
       "      <td>0.0</td>\n",
       "      <td>0.0</td>\n",
       "      <td>2</td>\n",
       "      <td>3</td>\n",
       "      <td>0</td>\n",
       "      <td>2</td>\n",
       "      <td>2</td>\n",
       "      <td>2</td>\n",
       "      <td>3</td>\n",
       "      <td>1</td>\n",
       "    </tr>\n",
       "    <tr>\n",
       "      <th>1</th>\n",
       "      <td>0.0</td>\n",
       "      <td>0.0</td>\n",
       "      <td>1.0</td>\n",
       "      <td>0.0</td>\n",
       "      <td>0.0</td>\n",
       "      <td>0.0</td>\n",
       "      <td>0.0</td>\n",
       "      <td>0.0</td>\n",
       "      <td>0.0</td>\n",
       "      <td>0.0</td>\n",
       "      <td>...</td>\n",
       "      <td>0.0</td>\n",
       "      <td>1.0</td>\n",
       "      <td>2</td>\n",
       "      <td>3</td>\n",
       "      <td>0</td>\n",
       "      <td>0</td>\n",
       "      <td>3</td>\n",
       "      <td>3</td>\n",
       "      <td>1</td>\n",
       "      <td>1</td>\n",
       "    </tr>\n",
       "    <tr>\n",
       "      <th>2</th>\n",
       "      <td>0.0</td>\n",
       "      <td>0.0</td>\n",
       "      <td>0.0</td>\n",
       "      <td>0.0</td>\n",
       "      <td>0.0</td>\n",
       "      <td>1.0</td>\n",
       "      <td>0.0</td>\n",
       "      <td>0.0</td>\n",
       "      <td>0.0</td>\n",
       "      <td>0.0</td>\n",
       "      <td>...</td>\n",
       "      <td>0.0</td>\n",
       "      <td>0.0</td>\n",
       "      <td>2</td>\n",
       "      <td>0</td>\n",
       "      <td>0</td>\n",
       "      <td>2</td>\n",
       "      <td>2</td>\n",
       "      <td>2</td>\n",
       "      <td>2</td>\n",
       "      <td>1</td>\n",
       "    </tr>\n",
       "    <tr>\n",
       "      <th>3</th>\n",
       "      <td>0.0</td>\n",
       "      <td>0.0</td>\n",
       "      <td>0.0</td>\n",
       "      <td>0.0</td>\n",
       "      <td>0.0</td>\n",
       "      <td>1.0</td>\n",
       "      <td>0.0</td>\n",
       "      <td>0.0</td>\n",
       "      <td>1.0</td>\n",
       "      <td>0.0</td>\n",
       "      <td>...</td>\n",
       "      <td>0.0</td>\n",
       "      <td>0.0</td>\n",
       "      <td>3</td>\n",
       "      <td>0</td>\n",
       "      <td>2</td>\n",
       "      <td>0</td>\n",
       "      <td>3</td>\n",
       "      <td>2</td>\n",
       "      <td>3</td>\n",
       "      <td>2</td>\n",
       "    </tr>\n",
       "    <tr>\n",
       "      <th>4</th>\n",
       "      <td>0.0</td>\n",
       "      <td>0.0</td>\n",
       "      <td>0.0</td>\n",
       "      <td>0.0</td>\n",
       "      <td>0.0</td>\n",
       "      <td>1.0</td>\n",
       "      <td>0.0</td>\n",
       "      <td>0.0</td>\n",
       "      <td>0.0</td>\n",
       "      <td>0.0</td>\n",
       "      <td>...</td>\n",
       "      <td>0.0</td>\n",
       "      <td>0.0</td>\n",
       "      <td>2</td>\n",
       "      <td>0</td>\n",
       "      <td>0</td>\n",
       "      <td>2</td>\n",
       "      <td>2</td>\n",
       "      <td>2</td>\n",
       "      <td>0</td>\n",
       "      <td>1</td>\n",
       "    </tr>\n",
       "  </tbody>\n",
       "</table>\n",
       "<p>5 rows × 102 columns</p>\n",
       "</div>"
      ],
      "text/plain": [
       "   1.5Fin  1.5Unf  1Story  2.5Fin  2.5Unf  2Story  SFoyer  SLvl  Corner  \\\n",
       "0     0.0     0.0     0.0     0.0     0.0     1.0     0.0   0.0     0.0   \n",
       "1     0.0     0.0     1.0     0.0     0.0     0.0     0.0   0.0     0.0   \n",
       "2     0.0     0.0     0.0     0.0     0.0     1.0     0.0   0.0     0.0   \n",
       "3     0.0     0.0     0.0     0.0     0.0     1.0     0.0   0.0     1.0   \n",
       "4     0.0     0.0     0.0     0.0     0.0     1.0     0.0   0.0     0.0   \n",
       "\n",
       "   CulDSac  ...  Timber  Veenker  BsmtQual  LotShape  HeatingQC  BsmtFinType1  \\\n",
       "0      0.0  ...     0.0      0.0         2         3          0             2   \n",
       "1      0.0  ...     0.0      1.0         2         3          0             0   \n",
       "2      0.0  ...     0.0      0.0         2         0          0             2   \n",
       "3      0.0  ...     0.0      0.0         3         0          2             0   \n",
       "4      0.0  ...     0.0      0.0         2         0          0             2   \n",
       "\n",
       "   ExterQual  KitchenQual  BsmtExposure  GarageFinish  \n",
       "0          2            2             3             1  \n",
       "1          3            3             1             1  \n",
       "2          2            2             2             1  \n",
       "3          3            2             3             2  \n",
       "4          2            2             0             1  \n",
       "\n",
       "[5 rows x 102 columns]"
      ]
     },
     "execution_count": 39,
     "metadata": {},
     "output_type": "execute_result"
    }
   ],
   "source": [
    "house_train_final_cat = pd.merge(house_train_cat_nominal, house_train_cat_ordinal, left_index=True, right_index=True)\n",
    "house_train_final_cat.head(5)"
   ]
  },
  {
   "cell_type": "markdown",
   "metadata": {},
   "source": [
    "### Normalization(MinMax) scale the non-gaussian features, and Standardize the gaussian features 🟩"
   ]
  },
  {
   "cell_type": "code",
   "execution_count": 40,
   "metadata": {},
   "outputs": [],
   "source": [
    "from sklearn.preprocessing import MinMaxScaler"
   ]
  },
  {
   "cell_type": "code",
   "execution_count": 41,
   "metadata": {},
   "outputs": [],
   "source": [
    "Scaler = MinMaxScaler()\n",
    "house_train_num_Scaler = Scaler.fit_transform(house_train_num.iloc[:, :-1])\n",
    "house_test_num_Scaler = Scaler.transform(house_test_num)"
   ]
  },
  {
   "cell_type": "code",
   "execution_count": 42,
   "metadata": {},
   "outputs": [
    {
     "data": {
      "text/plain": [
       "((1319, 27), (1338, 27))"
      ]
     },
     "execution_count": 42,
     "metadata": {},
     "output_type": "execute_result"
    }
   ],
   "source": [
    "house_test_num_Scaler.shape, house_train_num_Scaler.shape"
   ]
  },
  {
   "cell_type": "markdown",
   "metadata": {},
   "source": [
    "### Final Merge Category and Numeric data 🟩"
   ]
  },
  {
   "cell_type": "code",
   "execution_count": 43,
   "metadata": {},
   "outputs": [],
   "source": [
    "# train data final\n",
    "house_train_final = np.concatenate((house_train_num_Scaler, house_train_final_cat.to_numpy()), axis=1)\n",
    "house_test_final  = np.concatenate((house_test_num_Scaler,  house_test_final_cat.to_numpy()),  axis=1)"
   ]
  },
  {
   "cell_type": "code",
   "execution_count": 44,
   "metadata": {},
   "outputs": [],
   "source": [
    "y_tr = house_train_num['SalePrice'].to_numpy().reshape(-1, 1)"
   ]
  },
  {
   "cell_type": "markdown",
   "metadata": {},
   "source": [
    "### $$ =========== End ~of ~the ~Preprocessing ========== $$"
   ]
  },
  {
   "cell_type": "markdown",
   "metadata": {},
   "source": [
    "### $$ ===Matrices=== $$"
   ]
  },
  {
   "cell_type": "code",
   "execution_count": 45,
   "metadata": {},
   "outputs": [],
   "source": [
    "# mean(average) squared error (MSE) \n",
    "def MSE(y_actual, y_predicted):\n",
    "  return np.mean(np.square(y_actual - y_predicted))\n",
    "\n",
    "# root mean(average) squared error (RMSE)\n",
    "def RMSE(y_actual, y_predicted):\n",
    "  # return np.sqrt(MSE(y_actual, y_predicted))    \n",
    "  return np.sqrt(np.mean(np.square(y_actual - y_predicted)))\n",
    "\n",
    "# mean absolute error (MAE)\n",
    "def MAE(y_actual, y_predicted):\n",
    "  return np.mean(np.abs(y_actual - y_predicted))\n",
    "\n",
    "# mean absolute percentage error (MAPE)\n",
    "def MAPE(y_actual, y_predicted, tol = 0.0001):\n",
    "  return np.mean(np.abs((y_actual - y_predicted) / (y_actual + tol))) * 100\n",
    "\n",
    "# relative absolute error (RAE)\n",
    "def RAE(y_actual, y_predicted):\n",
    "  numerator = np.sum(np.abs(y_predicted - y_actual))\n",
    "  denominator = np.sum(np.abs(np.mean(y_actual) - y_actual))\n",
    "  return numerator / denominator\n",
    "\n",
    "# R^2 score (coefficient of determination)\n",
    "def r2_Score(y_actual, y_predicted):\n",
    "  ssr = np.sum(np.square(y_actual-y_predicted))\n",
    "  sst = np.sum(np.square(y_actual-np.mean(y_actual)))\n",
    "  return 1 - (ssr/sst)\n",
    "  \n",
    "# adjusted R^2 score (adjusted coefficient of determination)\n",
    "def adj_r2_Score(X, y_actual, y_predicted): \n",
    "  n = X.shape[1]\n",
    "  k = len(y_actual)\n",
    "  t1 = 1 - r2_Score(y_actual, y_predicted)\n",
    "  t2 = (k-1)/(k - n - 1)\n",
    "  return 1 - (t1 * t2)\n",
    "\n",
    "\n",
    "def calculate_metrics(y_actual, y_predicted, X=None):\n",
    "  print('MSE: ',     round(MSE(y_actual, y_predicted), 3))\n",
    "  print('RMSE: ',    round(RMSE(y_actual, y_predicted), 3))\n",
    "  print('MAE: ',     round(MAE(y_actual, y_predicted), 3))\n",
    "  print('MAPE: ',    round(MAPE(y_actual, y_predicted), 3)*100, '%')\n",
    "  print('RAE: ',     round(RAE(y_actual, y_predicted), 3))\n",
    "  print('R^2: ',     round(r2_Score(y_actual, y_predicted), 3))\n",
    "  print('adj R^2: ', round(adj_r2_Score(X, y_actual, y_predicted), 3))"
   ]
  },
  {
   "cell_type": "markdown",
   "metadata": {},
   "source": [
    "### Modeling 🟩"
   ]
  },
  {
   "cell_type": "code",
   "execution_count": 46,
   "metadata": {},
   "outputs": [],
   "source": [
    "from sklearn.linear_model import LinearRegression\n",
    "from sklearn.model_selection import train_test_split"
   ]
  },
  {
   "cell_type": "markdown",
   "metadata": {},
   "source": [
    "#### Split the data into training and test sets"
   ]
  },
  {
   "cell_type": "code",
   "execution_count": 47,
   "metadata": {},
   "outputs": [],
   "source": [
    "X_train, X_test, y_train, y_test = train_test_split(house_train_final, y_tr, test_size=0.3, random_state=27, shuffle=True)"
   ]
  },
  {
   "cell_type": "markdown",
   "metadata": {},
   "source": [
    "#### 📌Linear Regression"
   ]
  },
  {
   "cell_type": "code",
   "execution_count": 48,
   "metadata": {},
   "outputs": [
    {
     "data": {
      "text/plain": [
       "(0.9086993316207914, 0.910970685386103)"
      ]
     },
     "execution_count": 48,
     "metadata": {},
     "output_type": "execute_result"
    }
   ],
   "source": [
    "regressor = LinearRegression()\n",
    "regressor.fit(X_train, y_train)\n",
    "regressor.score(X_train, y_train), regressor.score(X_test, y_test)"
   ]
  },
  {
   "cell_type": "code",
   "execution_count": 49,
   "metadata": {},
   "outputs": [],
   "source": [
    "y_pred = regressor.predict(X_test)"
   ]
  },
  {
   "cell_type": "code",
   "execution_count": 50,
   "metadata": {},
   "outputs": [
    {
     "data": {
      "text/plain": [
       "array([3.6088957e+11])"
      ]
     },
     "execution_count": 50,
     "metadata": {},
     "output_type": "execute_result"
    }
   ],
   "source": [
    "# intercept is constant value(theta0) /regressor.intercept_\n",
    "# coefficients are another theta's (theta1, theta2, theta3, ...) /regressor.coef_\n",
    "regressor.intercept_"
   ]
  },
  {
   "cell_type": "code",
   "execution_count": 51,
   "metadata": {},
   "outputs": [
    {
     "name": "stdout",
     "output_type": "stream",
     "text": [
      "MSE:  0.012\n",
      "RMSE:  0.108\n",
      "MAE:  0.08\n",
      "MAPE:  66.8 %\n",
      "RAE:  0.274\n",
      "R^2:  0.911\n",
      "adj R^2:  0.869\n"
     ]
    }
   ],
   "source": [
    "calculate_metrics(y_test, y_pred, X_test)"
   ]
  },
  {
   "cell_type": "markdown",
   "metadata": {},
   "source": [
    "#### 📌Handling Testing for Multicollinearity with Variance Inflation Factors (VIF)\n",
    "    VIF=1: No multicollinearity\n",
    "    VIF between 1 to 5: Moderate multicollinearity\n",
    "    VIF > 5: Highly multicollinear"
   ]
  },
  {
   "cell_type": "code",
   "execution_count": 119,
   "metadata": {},
   "outputs": [
    {
     "name": "stderr",
     "output_type": "stream",
     "text": [
      "C:\\Users\\SM\\AppData\\Local\\Programs\\Python\\Python310\\lib\\site-packages\\statsmodels\\stats\\outliers_influence.py:195: RuntimeWarning: divide by zero encountered in double_scalars\n",
      "  vif = 1. / (1. - r_squared_i)\n"
     ]
    },
    {
     "name": "stdout",
     "output_type": "stream",
     "text": [
      "We will drop the columns '[7, 11, 12, 13, 27, 28, 29, 30, 31, 32, 33, 34, 35, 36, 37, 38, 39, 40, 41, 42, 43, 44, 45, 46, 47, 48, 49, 50, 51, 52, 53, 54, 55, 56, 57, 58, 59, 60, 61, 62, 63, 64, 65, 66, 67, 68, 69, 70, 71, 72, 73, 74, 75, 76, 77, 78, 79, 80, 81, 82, 83, 84, 85, 86, 87, 88, 89, 90, 91, 92, 93, 94, 95, 96, 97, 98, 99, 100, 101, 102, 103, 104, 105, 106, 107, 108, 109, 110, 111, 112, 113, 114, 115, 116, 117, 118, 119, 120]'\n"
     ]
    }
   ],
   "source": [
    "house_train_after_multi = pp.multi_colinearity(pd.DataFrame(house_train_final), drop_cols=True)"
   ]
  },
  {
   "cell_type": "code",
   "execution_count": 120,
   "metadata": {},
   "outputs": [
    {
     "name": "stderr",
     "output_type": "stream",
     "text": [
      "C:\\Users\\SM\\AppData\\Local\\Programs\\Python\\Python310\\lib\\site-packages\\statsmodels\\stats\\outliers_influence.py:195: RuntimeWarning: divide by zero encountered in double_scalars\n",
      "  vif = 1. / (1. - r_squared_i)\n",
      "C:\\Users\\SM\\AppData\\Local\\Programs\\Python\\Python310\\lib\\site-packages\\statsmodels\\regression\\linear_model.py:1736: RuntimeWarning: invalid value encountered in double_scalars\n",
      "  return 1 - self.ssr/self.centered_tss\n"
     ]
    },
    {
     "name": "stdout",
     "output_type": "stream",
     "text": [
      "We will drop the columns '[7, 12, 27, 28, 29, 31, 32, 33, 34, 35, 36, 37, 38, 39, 40, 41, 42, 43, 44, 45, 46, 47, 48, 49, 50, 51, 52, 53, 54, 56, 57, 59, 60, 62, 63, 64, 65, 66, 67, 68, 69, 70, 71, 72, 73, 74, 75, 76, 78, 79, 81, 82, 83, 84, 86, 88, 89, 90, 91, 92, 93, 94, 95, 96, 97, 98, 99, 100, 101, 102, 103, 104, 105, 106, 107, 108, 109, 110, 111, 112, 113, 114, 115, 116, 117, 118, 119, 120]'\n"
     ]
    }
   ],
   "source": [
    "house_test_after_multi = pp.multi_colinearity(pd.DataFrame(house_test_final),drop_cols=True)"
   ]
  },
  {
   "cell_type": "code",
   "execution_count": 121,
   "metadata": {},
   "outputs": [
    {
     "data": {
      "text/plain": [
       "((1319, 41), (1338, 31))"
      ]
     },
     "execution_count": 121,
     "metadata": {},
     "output_type": "execute_result"
    }
   ],
   "source": [
    "house_test_after_multi.shape, house_train_after_multi.shape"
   ]
  },
  {
   "cell_type": "markdown",
   "metadata": {},
   "source": [
    "#### split the data into training and test sets"
   ]
  },
  {
   "cell_type": "code",
   "execution_count": 54,
   "metadata": {},
   "outputs": [],
   "source": [
    "X_train_m, X_test_m, y_train_m, y_test_m = train_test_split(house_train_after_multi, y_tr, test_size=0.3, random_state=27, shuffle=True)"
   ]
  },
  {
   "cell_type": "markdown",
   "metadata": {},
   "source": [
    "#### 📌Linear Regression with Lasso after removing Multicollinearity 🟩"
   ]
  },
  {
   "cell_type": "code",
   "execution_count": 55,
   "metadata": {},
   "outputs": [
    {
     "name": "stdout",
     "output_type": "stream",
     "text": [
      "MSE:  0.014\n",
      "RMSE:  0.119\n",
      "MAE:  0.092\n",
      "MAPE:  76.1 %\n",
      "RAE:  0.313\n",
      "R^2:  0.891\n",
      "adj R^2:  0.882\n"
     ]
    }
   ],
   "source": [
    "regressor = LinearRegression()\n",
    "regressor.fit(X_train_m, y_train_m)\n",
    "# regressor.score(X_train_m, y_train_m), regressor.score(X_test_m, y_test_m)\n",
    "calculate_metrics(y_test_m, regressor.predict(X_test_m), X_test_m)"
   ]
  },
  {
   "cell_type": "markdown",
   "metadata": {},
   "source": [
    "### from Scratch 🟩"
   ]
  },
  {
   "cell_type": "markdown",
   "metadata": {},
   "source": [
    "#### 📌 Implementing Gradient Descent"
   ]
  },
  {
   "cell_type": "code",
   "execution_count": 57,
   "metadata": {},
   "outputs": [],
   "source": [
    "# X_train_ones = np.concatenate((np.ones((X_train.shape[0], 1)), X_train), axis=1)\n",
    "# X_test_ones  = np.concatenate((np.ones((X_test.shape[0], 1)),  X_test ), axis=1)"
   ]
  },
  {
   "cell_type": "code",
   "execution_count": 62,
   "metadata": {},
   "outputs": [],
   "source": [
    "def gradient_descent(X, y, alpha=0.01, iterations=100, tol=1e-6, bias=True):\n",
    "    m, n = X.shape\n",
    "    theta = np.zeros((n, 1))\n",
    "    cost_list = []\n",
    "    if bias:\n",
    "        X = np.concatenate((np.ones((m, 1)), X), axis=1)\n",
    "        theta = np.zeros((n+1, 1))    \n",
    "    \n",
    "    for _ in range(iterations):\n",
    "        hx = np.dot(X, theta)\n",
    "        loss = hx - y\n",
    "        gradient = np.dot(X.T, loss) / m\n",
    "        theta = theta - alpha * gradient\n",
    "\n",
    "        new_cost = np.sum(np.square(loss)) / (2 * m)\n",
    "        cost_list.append(new_cost)\n",
    "        \n",
    "        if len(cost_list) >= 2 and abs(cost_list[-1] - cost_list[-2]) < tol:\n",
    "            break\n",
    "\n",
    "    return theta, hx, loss, cost_list"
   ]
  },
  {
   "cell_type": "code",
   "execution_count": 63,
   "metadata": {},
   "outputs": [],
   "source": [
    "# theta_best = np.linalg.inv(X_train.T.dot(X_train)).dot(X_train.T).dot(y_train)"
   ]
  },
  {
   "cell_type": "code",
   "execution_count": 64,
   "metadata": {},
   "outputs": [
    {
     "name": "stdout",
     "output_type": "stream",
     "text": [
      "number of iteration: 8458\n",
      "theta_0: [3.45458986] \n",
      "\n",
      "MSE:  0.022\n",
      "RMSE:  0.147\n",
      "MAE:  0.107\n",
      "MAPE:  89.0 %\n",
      "RAE:  0.38\n",
      "R^2:  0.829\n",
      "adj R^2:  0.801\n"
     ]
    }
   ],
   "source": [
    "theta, hypothesis, loss, cost_list = gradient_descent(X_train, y_train, alpha=0.04, iterations=10000)\n",
    "print(f'number of iteration: {len(cost_list)}')\n",
    "print(f'theta_0: {theta[0]}','\\n')\n",
    "\n",
    "calculate_metrics(y_train, hypothesis, X_train)"
   ]
  },
  {
   "cell_type": "code",
   "execution_count": 65,
   "metadata": {},
   "outputs": [
    {
     "data": {
      "image/png": "[encoded data removed]",
      "text/plain": [
       "<Figure size 432x288 with 1 Axes>"
      ]
     },
     "metadata": {
      "needs_background": "light"
     },
     "output_type": "display_data"
    }
   ],
   "source": [
    "plt.plot(cost_list, marker='o', c='r', markevery=10, markeredgecolor='black')\n",
    "plt.xlabel('Iteration')\n",
    "plt.ylabel('Cost');"
   ]
  },
  {
   "cell_type": "code",
   "execution_count": 66,
   "metadata": {},
   "outputs": [
    {
     "name": "stdout",
     "output_type": "stream",
     "text": [
      "number of iteration: 7629\n",
      "theta_0: [3.14384486] \n",
      "\n",
      "MSE:  0.015\n",
      "RMSE:  0.124\n",
      "MAE:  0.095\n",
      "MAPE:  79.10000000000001 %\n",
      "RAE:  0.325\n",
      "R^2:  0.881\n",
      "adj R^2:  0.825\n"
     ]
    }
   ],
   "source": [
    "theta, hypothesis, loss, cost_list = gradient_descent(X_test, y_test, alpha=0.04, iterations=10000)\n",
    "print(f'number of iteration: {len(cost_list)}')\n",
    "print(f'theta_0: {theta[0]}','\\n')\n",
    "\n",
    "calculate_metrics(y_test, hypothesis, X_test)"
   ]
  },
  {
   "cell_type": "code",
   "execution_count": 67,
   "metadata": {},
   "outputs": [
    {
     "data": {
      "image/png": "[encoded data removed]",
      "text/plain": [
       "<Figure size 432x288 with 1 Axes>"
      ]
     },
     "metadata": {
      "needs_background": "light"
     },
     "output_type": "display_data"
    }
   ],
   "source": [
    "plt.plot(cost_list, marker='o', c='r', markevery=10, markeredgecolor='black')\n",
    "plt.xlabel('Iteration')\n",
    "plt.ylabel('Cost');"
   ]
  },
  {
   "cell_type": "markdown",
   "metadata": {},
   "source": [
    "#### 📌 Mini-Batch Gradient Descent"
   ]
  },
  {
   "cell_type": "code",
   "execution_count": 68,
   "metadata": {},
   "outputs": [],
   "source": [
    "def mini_batch_GD(X, y, alpha=0.01, batch_size=30, iterations=100, tol=1e-6, bias=True):\n",
    "    m, n = X.shape\n",
    "    cost_list = []\n",
    "    theta = np.zeros((n, 1))\n",
    "    # to add ones(intercept) vector to X matrix\n",
    "    if bias:\n",
    "        X = np.concatenate((np.ones((m, 1)), X), axis=1)\n",
    "        theta = np.zeros((n+1, 1))        \n",
    "    \n",
    "    for _ in range(iterations):\n",
    "        # batch of observations by batch of observations\n",
    "        for i in range(0, m, batch_size):\n",
    "            X_part = X[i: batch_size+i, :]\n",
    "            y_part = y[i: batch_size+i, :]\n",
    "\n",
    "            hx = np.dot(X_part, theta)\n",
    "            error = hx - y_part\n",
    "            grad = np.dot(X_part.T, error) / batch_size\n",
    "            theta = theta - alpha * grad\n",
    "        \n",
    "        new_cost = np.sum(np.square(error)) / (2 * m)\n",
    "        cost_list.append(new_cost)\n",
    "        \n",
    "        if len(cost_list) >= 2 and abs(cost_list[-1] - cost_list[-2]) < tol:\n",
    "            break\n",
    "    return theta, hx, X, cost_list"
   ]
  },
  {
   "cell_type": "code",
   "execution_count": 93,
   "metadata": {},
   "outputs": [
    {
     "name": "stdout",
     "output_type": "stream",
     "text": [
      "number of iteration: 2002\n",
      "theta_0: [3.40972988] \n",
      "\n",
      "MSE:  0.023\n",
      "RMSE:  0.152\n",
      "MAE:  0.111\n",
      "MAPE:  92.30000000000001 %\n",
      "RAE:  0.394\n",
      "R^2:  0.816\n",
      "adj R^2:  0.787\n"
     ]
    }
   ],
   "source": [
    "theta, hypothesis, x, cost_list = mini_batch_GD(X_train, y_train, batch_size=235,  alpha=0.04, iterations=10000)\n",
    "print(f'number of iteration: {len(cost_list)}')\n",
    "print(f'theta_0: {theta[0]}','\\n')\n",
    "hypothesis = np.dot(x, theta)\n",
    "calculate_metrics(y_train, hypothesis, X_train)"
   ]
  },
  {
   "cell_type": "code",
   "execution_count": 94,
   "metadata": {},
   "outputs": [
    {
     "data": {
      "image/png": "[encoded data removed]",
      "text/plain": [
       "<Figure size 432x288 with 1 Axes>"
      ]
     },
     "metadata": {
      "needs_background": "light"
     },
     "output_type": "display_data"
    }
   ],
   "source": [
    "plt.plot(cost_list, marker='o', c='r', markevery=10, markeredgecolor='black')\n",
    "plt.xlabel('Iteration')\n",
    "plt.ylabel('Cost');"
   ]
  },
  {
   "cell_type": "code",
   "execution_count": 101,
   "metadata": {},
   "outputs": [
    {
     "name": "stdout",
     "output_type": "stream",
     "text": [
      "number of iteration: 2176\n",
      "theta_0: [2.94462365] \n",
      "\n",
      "MSE:  0.02\n",
      "RMSE:  0.142\n",
      "MAE:  0.108\n",
      "MAPE:  89.9 %\n",
      "RAE:  0.37\n",
      "R^2:  0.844\n",
      "adj R^2:  0.77\n"
     ]
    }
   ],
   "source": [
    "theta, hypothesis, x, cost_list = mini_batch_GD(X_test, y_test, batch_size=150,  alpha=0.04, iterations=10000)\n",
    "print(f'number of iteration: {len(cost_list)}')\n",
    "print(f'theta_0: {theta[0]}','\\n')\n",
    "hypothesis = np.dot(x, theta)\n",
    "\n",
    "calculate_metrics(y_test, hypothesis, X_test)"
   ]
  },
  {
   "cell_type": "code",
   "execution_count": 102,
   "metadata": {},
   "outputs": [
    {
     "data": {
      "image/png": "[encoded data removed]",
      "text/plain": [
       "<Figure size 432x288 with 1 Axes>"
      ]
     },
     "metadata": {
      "needs_background": "light"
     },
     "output_type": "display_data"
    }
   ],
   "source": [
    "plt.plot(cost_list, marker='o', c='r', markevery=10, markeredgecolor='black')\n",
    "plt.xlabel('Iteration')\n",
    "plt.ylabel('Cost');"
   ]
  },
  {
   "cell_type": "markdown",
   "metadata": {},
   "source": [
    "### 📌 Lasso Regression"
   ]
  },
  {
   "cell_type": "code",
   "execution_count": 103,
   "metadata": {},
   "outputs": [],
   "source": [
    "from sklearn.linear_model import Lasso\n",
    "from sklearn.linear_model import Ridge\n",
    "rng = np.arange(0.0, 1.0, 0.1)"
   ]
  },
  {
   "cell_type": "code",
   "execution_count": 104,
   "metadata": {},
   "outputs": [
    {
     "name": "stderr",
     "output_type": "stream",
     "text": [
      "C:\\Users\\SM\\AppData\\Local\\Temp\\ipykernel_11452\\1765138123.py:4: UserWarning: With alpha=0, this algorithm does not converge well. You are advised to use the LinearRegression estimator\n",
      "  lasso.fit(X_train, y_train)\n",
      "C:\\Users\\SM\\AppData\\Local\\Programs\\Python\\Python310\\lib\\site-packages\\sklearn\\linear_model\\_coordinate_descent.py:647: UserWarning: Coordinate descent with no regularization may lead to unexpected results and is discouraged.\n",
      "  model = cd_fast.enet_coordinate_descent(\n"
     ]
    },
    {
     "name": "stdout",
     "output_type": "stream",
     "text": [
      "MSE: 0.248, lambda: 0.0\n",
      "----\n",
      "MSE: 1.183, lambda: 0.1\n",
      "----\n",
      "MSE: 1.547, lambda: 0.2\n",
      "----\n",
      "MSE: 2.04, lambda: 0.30000000000000004\n",
      "----\n",
      "MSE: 2.694, lambda: 0.4\n",
      "----\n",
      "MSE: 3.103, lambda: 0.5\n",
      "----\n",
      "MSE: 3.639, lambda: 0.6000000000000001\n",
      "----\n",
      "MSE: 4.283, lambda: 0.7000000000000001\n",
      "----\n",
      "MSE: 5.003, lambda: 0.8\n",
      "----\n",
      "MSE: 5.817, lambda: 0.9\n",
      "----\n",
      "Best value to MSE = 0.248, when lambda = 0.0\n"
     ]
    }
   ],
   "source": [
    "results = dict()\n",
    "for i in rng:\n",
    "    lasso = Lasso(alpha=i, fit_intercept=False)\n",
    "    lasso.fit(X_train, y_train)\n",
    "    y_pred = lasso.predict(X_test)\n",
    "    mse = round(MSE(y_test, y_pred), 3)\n",
    "    print(f'MSE: { mse }, lambda: {i}')\n",
    "    results[i] = mse\n",
    "    print('----')\n",
    "print(f'Best value to MSE = {min(results.values())}, when lambda = 0.{list(results.values()).index(min(results.values()))}')"
   ]
  },
  {
   "cell_type": "code",
   "execution_count": 105,
   "metadata": {},
   "outputs": [
    {
     "name": "stderr",
     "output_type": "stream",
     "text": [
      "C:\\Users\\SM\\AppData\\Local\\Temp\\ipykernel_11452\\3075442773.py:2: UserWarning: With alpha=0, this algorithm does not converge well. You are advised to use the LinearRegression estimator\n",
      "  lasso.fit(X_train, y_train)\n",
      "C:\\Users\\SM\\AppData\\Local\\Programs\\Python\\Python310\\lib\\site-packages\\sklearn\\linear_model\\_coordinate_descent.py:647: UserWarning: Coordinate descent with no regularization may lead to unexpected results and is discouraged.\n",
      "  model = cd_fast.enet_coordinate_descent(\n"
     ]
    },
    {
     "name": "stdout",
     "output_type": "stream",
     "text": [
      "MSE: 0.248, lambda: 0.0\n",
      "When lambda = 0.0 ; Score = 0.907140130979889\n",
      "MSE:  0.248\n",
      "RMSE:  0.498\n",
      "MAE:  0.402\n",
      "MAPE:  332.90000000000003 %\n",
      "RAE:  550.935\n",
      "R^2:  -766.702\n",
      "adj R^2:  -1130.795\n"
     ]
    }
   ],
   "source": [
    "lasso = Lasso(alpha=0.0, fit_intercept=False)\n",
    "lasso.fit(X_train, y_train)\n",
    "y_pred = lasso.predict(X_test)\n",
    "print(f'MSE: { min(results.values()) }, lambda: 0.0')\n",
    "print(f'When lambda = 0.0 ; Score = {lasso.score(X_test, y_test)}')\n",
    "calculate_metrics(y_test, y_pred, X_test)"
   ]
  },
  {
   "cell_type": "markdown",
   "metadata": {},
   "source": [
    "#### 📌 Ridge Regression"
   ]
  },
  {
   "cell_type": "code",
   "execution_count": 106,
   "metadata": {},
   "outputs": [
    {
     "name": "stdout",
     "output_type": "stream",
     "text": [
      "MSE: 0.01177749412580064\n",
      "----\n",
      "MSE: 0.011310533789658468\n",
      "----\n",
      "MSE: 0.011133186516357745\n",
      "----\n",
      "MSE: 0.01099994457356611\n",
      "----\n",
      "MSE: 0.010894634696688938\n",
      "----\n",
      "MSE: 0.010808630125870742\n",
      "----\n",
      "MSE: 0.010736782633505582\n",
      "----\n",
      "MSE: 0.01067577177730623\n",
      "----\n",
      "MSE: 0.010623331008858124\n",
      "----\n",
      "MSE: 0.010577844552942993\n",
      "----\n",
      "Best value to MSE = 0.010577844552942993, when lambda = 0.9\n"
     ]
    }
   ],
   "source": [
    "results = dict()\n",
    "for i in rng:\n",
    "    ridge = Ridge(alpha=i)\n",
    "    ridge.fit(X_train, y_train)\n",
    "    y_pred = ridge.predict(X_test)\n",
    "    mse = MSE(y_test, y_pred)\n",
    "    print('MSE:', mse)\n",
    "    print('----')\n",
    "    results[i] = mse\n",
    "print(f'Best value to MSE = {min(results.values())}, when lambda = 0.{list(results.values()).index(min(results.values()))}')"
   ]
  },
  {
   "cell_type": "code",
   "execution_count": 107,
   "metadata": {},
   "outputs": [
    {
     "name": "stdout",
     "output_type": "stream",
     "text": [
      "MSE: 0.010577844552942993, lambda: 0.9\n",
      "When lambda = 0.9 ; Score = 0.9186165320087185\n",
      "MSE:  0.011\n",
      "RMSE:  0.103\n",
      "MAE:  0.079\n",
      "MAPE:  65.7 %\n",
      "RAE:  0.27\n",
      "R^2:  0.919\n",
      "adj R^2:  0.88\n"
     ]
    }
   ],
   "source": [
    "ridge = Ridge(alpha=0.9)\n",
    "ridge.fit(X_train, y_train)\n",
    "y_pred = ridge.predict(X_test)\n",
    "print(f'MSE: { min(results.values()) }, lambda: 0.9')\n",
    "print(f'When lambda = 0.9 ; Score = {ridge.score(X_test, y_test)}')\n",
    "calculate_metrics(y_test, y_pred, X_test)"
   ]
  },
  {
   "cell_type": "markdown",
   "metadata": {},
   "source": [
    "### 📌 Polynomial Regression (Degree 2)"
   ]
  },
  {
   "cell_type": "code",
   "execution_count": 108,
   "metadata": {},
   "outputs": [],
   "source": [
    "from sklearn.preprocessing import PolynomialFeatures"
   ]
  },
  {
   "cell_type": "code",
   "execution_count": 109,
   "metadata": {},
   "outputs": [],
   "source": [
    "poly = PolynomialFeatures(degree=2)\n",
    "X_train_poly = poly.fit_transform(X_train)\n",
    "X_test_poly = poly.transform(X_test)"
   ]
  },
  {
   "cell_type": "markdown",
   "metadata": {},
   "source": [
    "#### repeat the above steps with X_poly inputs"
   ]
  },
  {
   "cell_type": "code",
   "execution_count": 110,
   "metadata": {},
   "outputs": [],
   "source": [
    "regressor = LinearRegression()\n",
    "regressor.fit(X_train_poly, y_train)\n",
    "y_pred = regressor.predict(X_test_poly)"
   ]
  },
  {
   "cell_type": "code",
   "execution_count": 111,
   "metadata": {},
   "outputs": [
    {
     "name": "stdout",
     "output_type": "stream",
     "text": [
      "MSE:  0.039\n",
      "RMSE:  0.198\n",
      "MAE:  0.15\n",
      "MAPE:  124.9 %\n",
      "RAE:  0.513\n",
      "R^2:  0.698\n",
      "adj R^2:  1.015\n"
     ]
    }
   ],
   "source": [
    "calculate_metrics(y_test, y_pred, X_test_poly)"
   ]
  },
  {
   "cell_type": "code",
   "execution_count": 112,
   "metadata": {},
   "outputs": [
    {
     "data": {
      "text/plain": [
       "(936, 8515)"
      ]
     },
     "execution_count": 112,
     "metadata": {},
     "output_type": "execute_result"
    }
   ],
   "source": [
    "X_train_poly.shape"
   ]
  },
  {
   "cell_type": "markdown",
   "metadata": {},
   "source": [
    "#### 📌 Linear Regression with after removing Multicollinearity 🟩"
   ]
  },
  {
   "cell_type": "code",
   "execution_count": null,
   "metadata": {},
   "outputs": [],
   "source": [
    "X_train_poly_after = pp.multi_colinearity(pd.DataFrame(X_train_poly), drop_cols=True)"
   ]
  },
  {
   "cell_type": "code",
   "execution_count": null,
   "metadata": {},
   "outputs": [],
   "source": [
    "X_test_poly_after = pp.multi_colinearity(pd.DataFrame(X_test_poly), drop_cols=True)"
   ]
  },
  {
   "cell_type": "code",
   "execution_count": null,
   "metadata": {},
   "outputs": [],
   "source": [
    "regressor = LinearRegression()\n",
    "regressor.fit(X_train_poly_after, y_train)\n",
    "y_pred = regressor.predict(X_test_poly_after)\n",
    "calculate_metrics(y_test, y_pred, X_test_poly_after)"
   ]
  },
  {
   "cell_type": "markdown",
   "metadata": {},
   "source": [
    "#### 📌 Lasso Regression"
   ]
  },
  {
   "cell_type": "code",
   "execution_count": null,
   "metadata": {},
   "outputs": [],
   "source": [
    "results = dict()\n",
    "for i in rng:\n",
    "    lasso = Lasso(alpha=i, fit_intercept=False)\n",
    "    lasso.fit(X_train_poly, y_train)\n",
    "    y_pred = lasso.predict(X_test_poly)\n",
    "    mse = MSE(y_test, y_pred)\n",
    "    print('MSE:', mse)\n",
    "    print('----')\n",
    "    results[i] = mse\n",
    "print(f'Best value to MSE = {min(results.values())}, when lambda = 0.{list(results.values()).index(min(results.values()))}')"
   ]
  },
  {
   "cell_type": "code",
   "execution_count": 110,
   "metadata": {},
   "outputs": [
    {
     "name": "stdout",
     "output_type": "stream",
     "text": [
      "MSE:  0.234\n",
      "RMSE:  0.484\n",
      "MAE:  0.382\n",
      "MAPE:  314.59999999999997 %\n",
      "RAE:  523.852\n",
      "R^2:  -723.785\n",
      "adj R^2:  36.819\n"
     ]
    },
    {
     "data": {
      "text/plain": [
       "(None, -0.23872064914514524)"
      ]
     },
     "execution_count": 110,
     "metadata": {},
     "output_type": "execute_result"
    }
   ],
   "source": [
    "lasso = Lasso(alpha=0.1, fit_intercept=False)\n",
    "lasso.fit(X_train_poly, y_train)\n",
    "y_pred = lasso.predict(X_test_poly)\n",
    "\n",
    "calculate_metrics(y_test, y_pred, X_test_poly), lasso.score(X_test_poly, y_test)"
   ]
  },
  {
   "cell_type": "markdown",
   "metadata": {},
   "source": [
    "#### 📌 Ridge Regression"
   ]
  },
  {
   "cell_type": "code",
   "execution_count": 106,
   "metadata": {},
   "outputs": [
    {
     "name": "stdout",
     "output_type": "stream",
     "text": [
      "MSE: 0.08473319770621203\n",
      "----\n",
      "MSE: 0.0810062343019572\n",
      "----\n",
      "MSE: 0.07923531793346526\n",
      "----\n",
      "MSE: 0.07819014344130232\n",
      "----\n",
      "MSE: 0.07753057591080337\n",
      "----\n",
      "MSE: 0.07710403526422374\n",
      "----\n",
      "MSE: 0.07682959246018613\n",
      "----\n",
      "MSE: 0.07665987023119505\n",
      "----\n",
      "MSE: 0.07656517704106348\n",
      "----\n",
      "MSE: 0.0765259336115131\n",
      "----\n",
      "Best value to MSE = 0.0765259336115131, when lambda = 0.9\n"
     ]
    }
   ],
   "source": [
    "results = dict()\n",
    "for i in rng:\n",
    "    ridge = Ridge(alpha=i, fit_intercept=False)\n",
    "    ridge.fit(X_train_poly, y_train)\n",
    "    y_pred = ridge.predict(X_test_poly)\n",
    "    mse = MSE(y_test, y_pred)\n",
    "    print('MSE:', mse)\n",
    "    print('----')\n",
    "    results[i] = mse\n",
    "print(f'Best value to MSE = {min(results.values())}, when lambda = 0.{list(results.values()).index(min(results.values()))}')"
   ]
  },
  {
   "cell_type": "code",
   "execution_count": 107,
   "metadata": {},
   "outputs": [
    {
     "name": "stdout",
     "output_type": "stream",
     "text": [
      "MSE:  0.077\n",
      "RMSE:  0.277\n",
      "MAE:  0.202\n",
      "MAPE:  167.1 %\n",
      "RAE:  0.688\n",
      "R^2:  0.411\n",
      "adj R^2:  1.029\n"
     ]
    }
   ],
   "source": [
    "ridge = Ridge(alpha=0.9, fit_intercept=False)\n",
    "ridge.fit(X_train_poly, y_train)\n",
    "y_pred = ridge.predict(X_test_poly)\n",
    "\n",
    "calculate_metrics(y_test, y_pred, X_test_poly)"
   ]
  },
  {
   "cell_type": "markdown",
   "metadata": {},
   "source": []
  }
 ],
 "metadata": {
  "interpreter": {
   "hash": "0a703cde8875c653e5713cc79366f3dfb732715e36442539474c0381e0537e24"
  },
  "kernelspec": {
   "display_name": "Python 3.10.2 64-bit",
   "language": "python",
   "name": "python3"
  },
  "language_info": {
   "codemirror_mode": {
    "name": "ipython",
    "version": 3
   },
   "file_extension": ".py",
   "mimetype": "text/x-python",
   "name": "python",
   "nbconvert_exporter": "python",
   "pygments_lexer": "ipython3",
   "version": "3.10.2"
  },
  "orig_nbformat": 4
 },
 "nbformat": 4,
 "nbformat_minor": 2
}
